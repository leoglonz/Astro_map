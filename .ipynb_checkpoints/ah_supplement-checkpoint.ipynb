{
 "cells": [
  {
   "cell_type": "markdown",
   "id": "0d47b6cb",
   "metadata": {},
   "source": [
    "## Supplemental Analysis of SNe-heated Gas Particles \n",
    "`-- Leo Lonzarich, 27 September 2021 // [Updated 28-9-21] --`\n",
    "\n",
    "<i>Supplementing work of Akins H. in 'Justice_League_Code/Analysis/RamPressure/RamPressure.ipynb'</i>\n",
    "\n",
    "\n",
    "### Table of Contents\n",
    "- [SN-assisted ram pressure stripping](#rampressure)\n",
    "- [Exit Angles](#exitangle)\n",
    "- [Mass Across Halos](#mass)\n",
    "- [Physical Distribution](#distribution)"
   ]
  },
  {
   "cell_type": "code",
   "execution_count": null,
   "id": "c2217491",
   "metadata": {},
   "outputs": [],
   "source": [
    "import numpy as np\n",
    "import pylab\n",
    "import pynbody\n",
    "import pynbody.plot.sph as sph\n",
    "import matplotlib.pyplot as plt\n",
    "\n",
    "# importing custom analysis package developed by Akins H.\n",
    "#from analysis import *\n",
    "\n",
    "from importlib.machinery import SourceFileLoader\n",
    "analysis = SourceFileLoader('analysis', '/home/lonzaric/astro_research/Justice_League_Code/Analysis\\\n",
    "/RamPressure/analysis.py').load_module()"
   ]
  },
  {
   "cell_type": "code",
   "execution_count": null,
   "id": "80092e6c",
   "metadata": {
    "scrolled": true
   },
   "outputs": [],
   "source": [
    "path = '/home/lonzaric/astro_research/ahdata/ram_pressure.hdf5'\n",
    "with pd.HDFStore(path) as hdf:\n",
    "    keys = np.array([h[1:] for h in hdf.keys()])\n",
    "\n",
    "# listing dwarf galaxies of simulations that are viable for study (gaseous, satellite, etc).\n",
    "print('Available keys:', *keys)"
   ]
  },
  {
   "cell_type": "code",
   "execution_count": null,
   "id": "042dd9b3",
   "metadata": {},
   "outputs": [],
   "source": [
    "key = 'h148_68'\n",
    "data = pd.read_hdf(path, key=key)\n",
    "\n",
    "\n",
    "data.head()"
   ]
  },
  {
   "cell_type": "code",
   "execution_count": null,
   "id": "ed4d3e10",
   "metadata": {},
   "outputs": [],
   "source": [
    "import warnings\n",
    "warnings.filterwarnings(\"ignore\")\n",
    "\n",
    "data_all = read_all_ram_pressure()"
   ]
  },
  {
   "cell_type": "code",
   "execution_count": null,
   "id": "6fa7ab51",
   "metadata": {},
   "outputs": [],
   "source": [
    "# importing simulation \n",
    "\n",
    "h148 = pynbody.load('../h148.cosmo50PLK.3072g3HbwK1BH/snapshots_200bkgdens/h148.cosmo50PLK.3072g3HbwK1BH.004096')\n",
    "h229 = pynbody.load('../h229.cosmo50PLK.3072gst5HbwK1BH/snapshots_200bkgdens/h229.cosmo50PLK.3072gst5HbwK1BH.004096')\n",
    "h242 = pynbody.load('../h242.cosmo50PLK.3072gst5HbwK1BH/snapshots_200bkgdens/h242.cosmo50PLK.3072gst5HbwK1BH.004096')\n",
    "h329 = pynbody.load('../h329.cosmo50PLK.3072gst5HbwK1BH/snapshots_200bkgdens/h329.cosmo50PLK.3072gst5HbwK1BH.004096')"
   ]
  },
  {
   "cell_type": "code",
   "execution_count": null,
   "id": "68a60425",
   "metadata": {},
   "outputs": [],
   "source": [
    "# halo numbers for halos with stars in them and fMhires > 0.9 [updated 09-08-21]\n",
    "\n",
    "nums_h148 = [1, 2, 3, 5, 6, 9, 10, 11, 13, 14, 21, 24, 27, 28, 30, 32, 36, 37, 41, 45, 47, 48, 58, 61, 65, 68, 80, 81, 96, 105, 119, 127, 128, 136, 163, 212, 265, 278, 283, 329, 372, 377, 384, 386, 442, 491, 620, 678, 699, 711, 759, 914, 1004, 1024, 1201, 1217, 1451, 2905, 5039]\n",
    "nums_h229 = [1, 2, 5, 7, 17, 20, 22, 23, 27, 29, 33, 52, 53, 55, 59, 61, 62, 73, 104, 113, 139, 212, 290, 549, 1047, 1374, 1483, 1558, 6045]\n",
    "nums_h242 = [1, 10, 12, 24, 30, 34, 40, 41, 44, 48, 49, 71, 78, 80, 86, 165, 223, 439, 480, 1872, 2885, 6054, 9380, 10426, 12297]\n",
    "nums_h329 = [1, 11, 31, 33, 40, 64, 103, 133, 137, 146, 185, 447, 729, 996, 1509]"
   ]
  },
  {
   "cell_type": "markdown",
   "id": "4b32fdb4",
   "metadata": {},
   "source": [
    "## From RamPressure: \n",
    "_______________\n",
    "_______________\n",
    "\n",
    "### How does SN-heating affect ram pressure stripping? <a class=\"anchor\" id=\"rampressure\"></a>"
   ]
  },
  {
   "cell_type": "code",
   "execution_count": null,
   "id": "bada8b0e",
   "metadata": {},
   "outputs": [],
   "source": [
    "ratios_sne, N_e_sne, N_p_sne, E_prob_sne = np.array([]),np.array([]),np.array([]),np.array([])\n",
    "\n",
    "for key in np.unique(data_all.key):\n",
    "    # SNe-affected, currently or in last {t_thresh} Gyr\n",
    "    t_thresh = 0.5 \n",
    "\n",
    "    d = data_all[data_all.key==key]\n",
    "    expelled = pd.read_hdf(f'/home/lonzaric/astro_research/ahdata/expelled_particles.hdf5', key=key)\n",
    "    expelled = expelled[expelled.coolontime > expelled.time - t_thresh]\n",
    "    particles = read_tracked_particles(key[:4],int(key[5:]))\n",
    "    particles = particles[(particles.in_sat)&(particles.coolontime > particles.time - t_thresh)]\n",
    "\n",
    "    expelled_grp = expelled.groupby(['time']).pid.count().reset_index()\n",
    "    expelled_grp = expelled_grp.rename(columns={'pid':'N_e'})\n",
    "    particles_grp = particles.groupby(['time']).pid.count().reset_index()\n",
    "    particles_grp = particles_grp.rename(columns={'pid':'N_p'})\n",
    "\n",
    "    d = pd.merge(d.sort_values('t'), expelled_grp.sort_values('time'), left_on='t', right_on='time', how='left')\n",
    "    d = pd.merge(d.sort_values('t'), particles_grp.sort_values('time'), left_on='t', right_on='time', how='left')\n",
    "\n",
    "    times = np.unique(d.time)\n",
    "    ratios1 = np.array(d.ratio)\n",
    "    N_e1 = np.array(d.N_e)[1:]\n",
    "    N_p1 = np.array(d.N_p)[:-1]\n",
    "    E_prob1 = N_e1/N_p1\n",
    "    ratios1 = ratios1[1:]\n",
    "\n",
    "    ratios_sne = np.append(ratios_sne,ratios1)\n",
    "    N_e_sne = np.append(N_e_sne, N_e1)\n",
    "    N_p_sne = np.append(N_p_sne, N_p1)\n",
    "    E_prob_sne = np.append(E_prob_sne, E_prob1)"
   ]
  },
  {
   "cell_type": "code",
   "execution_count": null,
   "id": "cc760f9e",
   "metadata": {},
   "outputs": [],
   "source": [
    "cond_sne = ~np.isnan(E_prob_sne) & ~np.isinf(E_prob_sne)\n",
    "ratios_sne = ratios_sne[cond_sne]\n",
    "N_e_sne = N_e_sne[cond_sne]\n",
    "N_p_sne = N_p_sne[cond_sne]\n",
    "E_prob_sne = E_prob_sne[cond_sne]\n",
    "\n",
    "bins = np.append(np.arange(-4,2,1),2.2)\n",
    "bc = 0.5*(bins[1:] + bins[:-1])\n",
    "E_prob_median_sne, E_prob_weighted_sne, E_prob_weighted_log_sne, std_sne = np.array([]),np.array([]),\\\n",
    "    np.array([]),np.array([])\n",
    "\n",
    "for left_edge, right_edge in zip(bins[:-1],bins[1:]):\n",
    "    cond = (np.log10(ratios_sne) >= left_edge) & (np.log10(ratios_sne) < right_edge)\n",
    "    E_prob_weighted_sne = np.append(E_prob_weighted_sne,np.average(E_prob_sne[cond], weights=N_p_sne[cond]))\n",
    "    E_prob_weighted_log_sne = np.append(E_prob_weighted_log_sne,np.average(E_prob_sne[cond], weights=\\\n",
    "        np.log10(N_p_sne)[cond]))\n",
    "    E_prob_median_sne = np.append(E_prob_median_sne,np.median(E_prob_sne[cond]))\n",
    "    std_sne = np.append(std_sne, np.std(E_prob_sne[cond]))"
   ]
  },
  {
   "cell_type": "markdown",
   "id": "a99dc7e5",
   "metadata": {},
   "source": [
    "### Probability of expulsion by ram pressure for sne-heated gas\n",
    "\n",
    "Recall that the pressure ratio used here is defined to be $\\mathcal{P} \\equiv P_{\\rm ram}/P_{\\rm rest}$. "
   ]
  },
  {
   "cell_type": "code",
   "execution_count": null,
   "id": "9abe09f8",
   "metadata": {},
   "outputs": [],
   "source": [
    "fig, ax = plt.subplots(1,1,dpi=250, figsize=(3.2,2.5), constrained_layout=True)\n",
    "\n",
    "ax.scatter(np.log10(ratios_sne), E_prob_sne, c='0.7', s=1)\n",
    "ax.plot(bc, E_prob_weighted_sne, 'ko-', ms=4, label=r'Mean (weighted by $N_p(t_1)$)')\n",
    "ax.plot(bc, E_prob_weighted_log_sne, 'ro-', ms=4, label=r'Mean (weighted by $\\log_{10}(N_p(t_1))$)')\n",
    "ax.plot(bc, E_prob_median_sne, 'bo-', ms=4, label='Median')\n",
    "\n",
    "ax.legend(frameon=False, fontsize=7)\n",
    "ax.set_xlabel(r'$\\log_{10}(\\mathcal{P})$')\n",
    "ax.set_ylabel(r'Expulsion Probability $N_{e}(t_2)/N_{p}(t_1)$')\n",
    "ax.set_xlim(-4, 3)\n",
    "ax.set_ylim(-0.05, 1)\n",
    "ax.tick_params(direction='in', which='both', top=True, right=True)\n",
    "ax.xaxis.set_minor_locator(mpl.ticker.MultipleLocator(0.2))\n",
    "ax.yaxis.set_minor_locator(mpl.ticker.MultipleLocator(0.05))\n",
    "ax.grid(alpha=0.1, zorder=-1000)\n",
    "plt.show()"
   ]
  },
  {
   "cell_type": "code",
   "execution_count": null,
   "id": "b99f59e3",
   "metadata": {
    "scrolled": false
   },
   "outputs": [],
   "source": [
    " fig, ax = plt.subplots(1,1,dpi=200, figsize=(3,2.5), sharex=True)\n",
    "\n",
    "ax.scatter(np.log10(ratios_sne), E_prob_sne, c='lightblue', s=1, alpha=0.5)\n",
    "ax.fill_between(bc, E_prob_median_sne-std_sne, E_prob_median_sne+std_sne, color='r', ec=None, alpha=0.1)\n",
    "ax.plot(bc, E_prob_median_sne, 'rD-', ms=4, label=r'Expulsion of recently SNe-affected gas')\n",
    "\n",
    "ax.legend(frameon=False, fontsize=7)\n",
    "ax.set_xlabel(r'$\\log_{10}(\\mathcal{P})$')\n",
    "ax.set_ylabel(r'Expulsion Probability $N_{e}(t_2)/N_{p}(t_1)$')\n",
    "ax.set_xlim(-4, 2.2)\n",
    "ax.set_ylim(-0.05, 1)\n",
    "ax.tick_params(direction='in', which='both', top=True, right=True)\n",
    "ax.xaxis.set_minor_locator(mpl.ticker.MultipleLocator(0.2))\n",
    "ax.yaxis.set_minor_locator(mpl.ticker.MultipleLocator(0.05))\n",
    "ax.grid(alpha=0.1, zorder=-1000)\n",
    "\n",
    "plt.show()"
   ]
  },
  {
   "cell_type": "markdown",
   "id": "e1f94397",
   "metadata": {},
   "source": [
    "## From ExitAngle: <a class=\"anchor\" id=\"exitangle\"></a>\n",
    "\n",
    "____\n",
    "____"
   ]
  },
  {
   "cell_type": "code",
   "execution_count": null,
   "id": "e8c77432",
   "metadata": {},
   "outputs": [],
   "source": []
  },
  {
   "cell_type": "code",
   "execution_count": null,
   "id": "902fada4",
   "metadata": {},
   "outputs": [],
   "source": []
  },
  {
   "cell_type": "code",
   "execution_count": null,
   "id": "7e08fe95",
   "metadata": {},
   "outputs": [],
   "source": []
  }
 ],
 "metadata": {
  "kernelspec": {
   "display_name": "Python 3 (ipykernel)",
   "language": "python",
   "name": "python3"
  },
  "language_info": {
   "codemirror_mode": {
    "name": "ipython",
    "version": 3
   },
   "file_extension": ".py",
   "mimetype": "text/x-python",
   "name": "python",
   "nbconvert_exporter": "python",
   "pygments_lexer": "ipython3",
   "version": "3.8.11"
  }
 },
 "nbformat": 4,
 "nbformat_minor": 5
}
