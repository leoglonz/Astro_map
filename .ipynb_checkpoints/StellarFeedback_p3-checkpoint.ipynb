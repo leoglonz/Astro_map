{
 "cells": [
  {
   "cell_type": "markdown",
   "id": "0d47b6cb",
   "metadata": {},
   "source": [
    "# Gas Discharge & Stellar Feedback-driven Outflows (Part 3 /3):\n",
    "## Ram Pressure, Accretion Times, Distributions\n",
    "`-- Leo Lonzarich, 17 November 2021 // [Updated 29-11-21] --`\n",
    "\n",
    "\n",
    "### Table of Contents\n",
    "- [Ram Pressure Calculations for Discharged Gas](#ram)\n",
    "    - [Identifying Ram Pressures](#ramdis)\n",
    "    \n",
    "- [Accretion Times](#acctime)\n",
    "    - [General Accretion Times](#gen)\n",
    "\n",
    "\n",
    "### General Comments on the Contents\n",
    "- Repeated pids that turn up in the data sets below (e.g. 'ejected,' 'expelled,' 'discharged') should mean that the same particle has been accreted and reejected more than once --- hence its reoccurance in the set.\n",
    "\n",
    "\n",
    "- The datasets used in this notebook: (note that each logs the properties for their respective particles for the period proceeding the differentiating event)\n",
    "\n",
    "    - **Ejected/Expelled Datasets of pulled from Akins:**\n",
    "        - *Ejected*: Gas particles that have been removed from their respective satellite galaxy's disk to the halo.\n",
    "        - *Expelled*: Gas particles (within the disk or halo of their respective satellite galaxy) that have been removed beyond the virial radius of their satellite; that is, all gas particles removed to the field.\n",
    "        \n",
    "    - **Discharge Datasets From Lonzarich:**\n",
    "        - *Discharged*: Gas particles that have been removed from the disk of their respective satellite galaxy. This includes both gas moved to halo, and that moved beyond the virial radius.\n",
    "        - *Predischarged*: Contains the same particles in *Discharged*, but with properties of each particle logged prior to discharge.\n",
    "        - *Accreted*: Gas particles in the halo or beyond the virial radius of their respective satellite as the result of a discharge event, but that were accreted back onto the satellite's disk.\n",
    "        - *Heated*: Gas particles in *Discharged* that were also supernova-heated at time of discharge (i.e., their 'cooling' parameter was turned off).\n",
    "        - *Preheated*: Contains the same particles in *Heated*, but with properties of each particle logged prior to discharge.\n",
    "\n",
    "    \n",
    "    \n",
    "- Units for key values used in this notebook:\n",
    "    - *Time* is in Gigayears $(Gyrs)$.\n",
    "    - *Distances* in kiloparsecs $(kpc)$.\n",
    "    - *Velocities* in kilometers per second $(km \\ s^{-1})$.\n",
    "    - *Masses* in solar masses $(Msol)$."
   ]
  },
  {
   "cell_type": "code",
   "execution_count": 1,
   "id": "c2217491",
   "metadata": {},
   "outputs": [],
   "source": [
    "import numpy as np\n",
    "import pylab\n",
    "import pynbody\n",
    "import pynbody.plot.sph as sph\n",
    "import matplotlib.pyplot as plt\n",
    "import matplotlib.ticker as ticker\n",
    "import pandas as pd\n",
    "\n",
    "from astropy import units\n",
    "from astropy import constants as c\n",
    "\n",
    "import warnings\n",
    "warnings.filterwarnings(\"ignore\")\n",
    "\n",
    "from compiler import *\n",
    "from analysis import * \n",
    "from ramdischarge import *"
   ]
  },
  {
   "cell_type": "code",
   "execution_count": 2,
   "id": "80092e6c",
   "metadata": {},
   "outputs": [
    {
     "name": "stdout",
     "output_type": "stream",
     "text": [
      "19 Available Keys: h148_13 h148_278 h148_28 h148_283 h148_329 h148_37 h148_45 h148_68 h148_80 h229_20 h229_22 h229_23 h229_27 h229_55 h242_24 h242_41 h242_80 h329_137 h329_33\n"
     ]
    }
   ],
   "source": [
    "path = f'{rootPath}Stellar_Feedback_Code/SNeData/discharged_particles.hdf5'\n",
    "with pd.HDFStore(path) as hdf:\n",
    "    keys = np.array([h[1:] for h in hdf.keys()])\n",
    "\n",
    "# listing dwarf galaxies of simulations that are viable for study (gaseous, satellite, etc).\n",
    "print(len(keys), 'Available Keys:', *keys)"
   ]
  },
  {
   "cell_type": "markdown",
   "id": "56e98626",
   "metadata": {},
   "source": [
    "## Ram Pressure Stripping  <a class=\"anchor\" id=\"ram\"></a>\n",
    "\n",
    "For this part, we use ram stripping data collected for each discharged gas particle to see if we can flesh out any differences in the exit angles between discharged and heated gas not visible in initial exit angle plots (see Part 1 of this notebook for reference).\n",
    "____\n",
    "____\n",
    "\n",
    "\n",
    "\n",
    "### Picking out Ram Pressures for Discharged Particles <a class=\"anchor\" id=\"ramdis\"></a>"
   ]
  },
  {
   "cell_type": "code",
   "execution_count": 3,
   "id": "db6b647c",
   "metadata": {
    "scrolled": true
   },
   "outputs": [
    {
     "name": "stdout",
     "output_type": "stream",
     "text": [
      "> Returning (predischarged, discharged, adv. accreted, preheated, heated) for all available satellites <\n"
     ]
    }
   ],
   "source": [
    "#ejected, cooled, expelled, accreted = read_all_ejected_expelled()\n",
    "predischarged, discharged, accreted, preheated, heated = read_all_discharged()"
   ]
  },
  {
   "cell_type": "code",
   "execution_count": 4,
   "id": "c7dbbc41",
   "metadata": {},
   "outputs": [
    {
     "name": "stdout",
     "output_type": "stream",
     "text": [
      "1 > Returning (predischarged, discharged, adv. accreted, preheated, heated) for all available satellites <\n",
      "2 > Returning (predischarged, discharged, adv. accreted, preheated, heated) for all available satellites <\n",
      "3 > Returning (predischarged, discharged, adv. accreted, preheated, heated) for all available satellites <\n",
      "4 > Returning (predischarged, discharged, adv. accreted, preheated, heated) for all available satellites <\n",
      "5 > Returning (predischarged, discharged, adv. accreted, preheated, heated) for all available satellites <\n",
      "6 > Returning (predischarged, discharged, adv. accreted, preheated, heated) for all available satellites <\n",
      "7 > Returning (predischarged, discharged, adv. accreted, preheated, heated) for all available satellites <\n",
      "8 > Returning (predischarged, discharged, adv. accreted, preheated, heated) for all available satellites <\n",
      "9 > Returning (predischarged, discharged, adv. accreted, preheated, heated) for all available satellites <\n",
      "10 > Returning (predischarged, discharged, adv. accreted, preheated, heated) for all available satellites <\n",
      "11 > Returning (predischarged, discharged, adv. accreted, preheated, heated) for all available satellites <\n",
      "12 > Returning (predischarged, discharged, adv. accreted, preheated, heated) for all available satellites <\n",
      "13 > Returning (predischarged, discharged, adv. accreted, preheated, heated) for all available satellites <\n",
      "14 > Returning (predischarged, discharged, adv. accreted, preheated, heated) for all available satellites <\n",
      "15 > Returning (predischarged, discharged, adv. accreted, preheated, heated) for all available satellites <\n",
      "16 > Returning (predischarged, discharged, adv. accreted, preheated, heated) for all available satellites <\n",
      "17 > Returning (predischarged, discharged, adv. accreted, preheated, heated) for all available satellites <\n",
      "18 > Returning (predischarged, discharged, adv. accreted, preheated, heated) for all available satellites <\n",
      "19 > Returning (predischarged, discharged, adv. accreted, preheated, heated) for all available satellites <\n"
     ]
    }
   ],
   "source": [
    "pram = read_all_ram_pressure()"
   ]
  },
  {
   "cell_type": "markdown",
   "id": "74ccbdab",
   "metadata": {},
   "source": [
    "## Accretion Times  <a class=\"anchor\" id=\"acctime\"></a>\n",
    "\n",
    "For this treatment, we define the new parameter \n",
    "$$\n",
    "    Accretion Time = accretion.time - discharge.time\n",
    "$$\n",
    "where `accretion.time` is the timestep in the simulation after which a gas particle was accreted, and `discharge.time` is the timestep after which said particle was discharged.\n",
    "____\n",
    "____\n",
    "\n",
    "\n",
    "\n",
    "### General Distribution of Accretion Times <a class=\"anchor\" id=\"gen\"></a>"
   ]
  },
  {
   "cell_type": "code",
   "execution_count": null,
   "id": "eccb6b08",
   "metadata": {},
   "outputs": [],
   "source": []
  },
  {
   "cell_type": "code",
   "execution_count": null,
   "id": "668f2eef",
   "metadata": {},
   "outputs": [],
   "source": []
  },
  {
   "cell_type": "code",
   "execution_count": null,
   "id": "e9a82aac",
   "metadata": {},
   "outputs": [],
   "source": []
  },
  {
   "cell_type": "code",
   "execution_count": null,
   "id": "fd16a1bb",
   "metadata": {},
   "outputs": [],
   "source": []
  },
  {
   "cell_type": "code",
   "execution_count": null,
   "id": "a759caef",
   "metadata": {},
   "outputs": [],
   "source": []
  },
  {
   "cell_type": "markdown",
   "id": "409c3b4e",
   "metadata": {},
   "source": [
    "### Code Testing <a class=\"anchor\" id=\"proving\"></a>\n",
    "\n",
    "Testing out different data types and computations."
   ]
  },
  {
   "cell_type": "code",
   "execution_count": null,
   "id": "bd5629c4",
   "metadata": {},
   "outputs": [],
   "source": []
  },
  {
   "cell_type": "code",
   "execution_count": 6,
   "id": "0626d3ce",
   "metadata": {},
   "outputs": [
    {
     "ename": "KeyError",
     "evalue": "'pid'",
     "output_type": "error",
     "traceback": [
      "\u001b[0;31m---------------------------------------------------------------------------\u001b[0m",
      "\u001b[0;31mKeyError\u001b[0m                                  Traceback (most recent call last)",
      "\u001b[0;32m~/anaconda3/envs/conda-env-py3/lib/python3.8/site-packages/pandas/core/indexes/base.py\u001b[0m in \u001b[0;36mget_loc\u001b[0;34m(self, key, method, tolerance)\u001b[0m\n\u001b[1;32m   3360\u001b[0m             \u001b[0;32mtry\u001b[0m\u001b[0;34m:\u001b[0m\u001b[0;34m\u001b[0m\u001b[0;34m\u001b[0m\u001b[0m\n\u001b[0;32m-> 3361\u001b[0;31m                 \u001b[0;32mreturn\u001b[0m \u001b[0mself\u001b[0m\u001b[0;34m.\u001b[0m\u001b[0m_engine\u001b[0m\u001b[0;34m.\u001b[0m\u001b[0mget_loc\u001b[0m\u001b[0;34m(\u001b[0m\u001b[0mcasted_key\u001b[0m\u001b[0;34m)\u001b[0m\u001b[0;34m\u001b[0m\u001b[0;34m\u001b[0m\u001b[0m\n\u001b[0m\u001b[1;32m   3362\u001b[0m             \u001b[0;32mexcept\u001b[0m \u001b[0mKeyError\u001b[0m \u001b[0;32mas\u001b[0m \u001b[0merr\u001b[0m\u001b[0;34m:\u001b[0m\u001b[0;34m\u001b[0m\u001b[0;34m\u001b[0m\u001b[0m\n",
      "\u001b[0;32m~/anaconda3/envs/conda-env-py3/lib/python3.8/site-packages/pandas/_libs/index.pyx\u001b[0m in \u001b[0;36mpandas._libs.index.IndexEngine.get_loc\u001b[0;34m()\u001b[0m\n",
      "\u001b[0;32m~/anaconda3/envs/conda-env-py3/lib/python3.8/site-packages/pandas/_libs/index.pyx\u001b[0m in \u001b[0;36mpandas._libs.index.IndexEngine.get_loc\u001b[0;34m()\u001b[0m\n",
      "\u001b[0;32m~/anaconda3/envs/conda-env-py3/lib/python3.8/site-packages/pandas/_libs/index.pyx\u001b[0m in \u001b[0;36mpandas._libs.index.IndexEngine._get_loc_duplicates\u001b[0;34m()\u001b[0m\n",
      "\u001b[0;32m~/anaconda3/envs/conda-env-py3/lib/python3.8/site-packages/pandas/_libs/index.pyx\u001b[0m in \u001b[0;36mpandas._libs.index.IndexEngine._maybe_get_bool_indexer\u001b[0;34m()\u001b[0m\n",
      "\u001b[0;32m~/anaconda3/envs/conda-env-py3/lib/python3.8/site-packages/pandas/_libs/index.pyx\u001b[0m in \u001b[0;36mpandas._libs.index.IndexEngine._unpack_bool_indexer\u001b[0;34m()\u001b[0m\n",
      "\u001b[0;31mKeyError\u001b[0m: 'pid'",
      "\nThe above exception was the direct cause of the following exception:\n",
      "\u001b[0;31mKeyError\u001b[0m                                  Traceback (most recent call last)",
      "\u001b[0;32m/tmp/ipykernel_16107/2858449729.py\u001b[0m in \u001b[0;36m<module>\u001b[0;34m\u001b[0m\n\u001b[1;32m      3\u001b[0m \u001b[0;34m\u001b[0m\u001b[0m\n\u001b[1;32m      4\u001b[0m \u001b[0;31m# Ids of preheated\u001b[0m\u001b[0;34m\u001b[0m\u001b[0;34m\u001b[0m\u001b[0;34m\u001b[0m\u001b[0m\n\u001b[0;32m----> 5\u001b[0;31m \u001b[0mx\u001b[0m \u001b[0;34m=\u001b[0m \u001b[0mnp\u001b[0m\u001b[0;34m.\u001b[0m\u001b[0marray\u001b[0m\u001b[0;34m(\u001b[0m\u001b[0mpram\u001b[0m\u001b[0;34m[\u001b[0m\u001b[0;34m'pid'\u001b[0m\u001b[0;34m]\u001b[0m\u001b[0;34m)\u001b[0m\u001b[0;34m\u001b[0m\u001b[0;34m\u001b[0m\u001b[0m\n\u001b[0m\u001b[1;32m      6\u001b[0m \u001b[0;31m# Ids of discharged, SNe heated gas\u001b[0m\u001b[0;34m\u001b[0m\u001b[0;34m\u001b[0m\u001b[0;34m\u001b[0m\u001b[0m\n\u001b[1;32m      7\u001b[0m \u001b[0my\u001b[0m \u001b[0;34m=\u001b[0m \u001b[0mnp\u001b[0m\u001b[0;34m.\u001b[0m\u001b[0marray\u001b[0m\u001b[0;34m(\u001b[0m\u001b[0mdischarged\u001b[0m\u001b[0;34m[\u001b[0m\u001b[0;34m'pid'\u001b[0m\u001b[0;34m]\u001b[0m\u001b[0;34m)\u001b[0m\u001b[0;34m\u001b[0m\u001b[0;34m\u001b[0m\u001b[0m\n",
      "\u001b[0;32m~/anaconda3/envs/conda-env-py3/lib/python3.8/site-packages/pandas/core/frame.py\u001b[0m in \u001b[0;36m__getitem__\u001b[0;34m(self, key)\u001b[0m\n\u001b[1;32m   3453\u001b[0m             \u001b[0;32mif\u001b[0m \u001b[0mself\u001b[0m\u001b[0;34m.\u001b[0m\u001b[0mcolumns\u001b[0m\u001b[0;34m.\u001b[0m\u001b[0mnlevels\u001b[0m \u001b[0;34m>\u001b[0m \u001b[0;36m1\u001b[0m\u001b[0;34m:\u001b[0m\u001b[0;34m\u001b[0m\u001b[0;34m\u001b[0m\u001b[0m\n\u001b[1;32m   3454\u001b[0m                 \u001b[0;32mreturn\u001b[0m \u001b[0mself\u001b[0m\u001b[0;34m.\u001b[0m\u001b[0m_getitem_multilevel\u001b[0m\u001b[0;34m(\u001b[0m\u001b[0mkey\u001b[0m\u001b[0;34m)\u001b[0m\u001b[0;34m\u001b[0m\u001b[0;34m\u001b[0m\u001b[0m\n\u001b[0;32m-> 3455\u001b[0;31m             \u001b[0mindexer\u001b[0m \u001b[0;34m=\u001b[0m \u001b[0mself\u001b[0m\u001b[0;34m.\u001b[0m\u001b[0mcolumns\u001b[0m\u001b[0;34m.\u001b[0m\u001b[0mget_loc\u001b[0m\u001b[0;34m(\u001b[0m\u001b[0mkey\u001b[0m\u001b[0;34m)\u001b[0m\u001b[0;34m\u001b[0m\u001b[0;34m\u001b[0m\u001b[0m\n\u001b[0m\u001b[1;32m   3456\u001b[0m             \u001b[0;32mif\u001b[0m \u001b[0mis_integer\u001b[0m\u001b[0;34m(\u001b[0m\u001b[0mindexer\u001b[0m\u001b[0;34m)\u001b[0m\u001b[0;34m:\u001b[0m\u001b[0;34m\u001b[0m\u001b[0;34m\u001b[0m\u001b[0m\n\u001b[1;32m   3457\u001b[0m                 \u001b[0mindexer\u001b[0m \u001b[0;34m=\u001b[0m \u001b[0;34m[\u001b[0m\u001b[0mindexer\u001b[0m\u001b[0;34m]\u001b[0m\u001b[0;34m\u001b[0m\u001b[0;34m\u001b[0m\u001b[0m\n",
      "\u001b[0;32m~/anaconda3/envs/conda-env-py3/lib/python3.8/site-packages/pandas/core/indexes/base.py\u001b[0m in \u001b[0;36mget_loc\u001b[0;34m(self, key, method, tolerance)\u001b[0m\n\u001b[1;32m   3361\u001b[0m                 \u001b[0;32mreturn\u001b[0m \u001b[0mself\u001b[0m\u001b[0;34m.\u001b[0m\u001b[0m_engine\u001b[0m\u001b[0;34m.\u001b[0m\u001b[0mget_loc\u001b[0m\u001b[0;34m(\u001b[0m\u001b[0mcasted_key\u001b[0m\u001b[0;34m)\u001b[0m\u001b[0;34m\u001b[0m\u001b[0;34m\u001b[0m\u001b[0m\n\u001b[1;32m   3362\u001b[0m             \u001b[0;32mexcept\u001b[0m \u001b[0mKeyError\u001b[0m \u001b[0;32mas\u001b[0m \u001b[0merr\u001b[0m\u001b[0;34m:\u001b[0m\u001b[0;34m\u001b[0m\u001b[0;34m\u001b[0m\u001b[0m\n\u001b[0;32m-> 3363\u001b[0;31m                 \u001b[0;32mraise\u001b[0m \u001b[0mKeyError\u001b[0m\u001b[0;34m(\u001b[0m\u001b[0mkey\u001b[0m\u001b[0;34m)\u001b[0m \u001b[0;32mfrom\u001b[0m \u001b[0merr\u001b[0m\u001b[0;34m\u001b[0m\u001b[0;34m\u001b[0m\u001b[0m\n\u001b[0m\u001b[1;32m   3364\u001b[0m \u001b[0;34m\u001b[0m\u001b[0m\n\u001b[1;32m   3365\u001b[0m         \u001b[0;32mif\u001b[0m \u001b[0mis_scalar\u001b[0m\u001b[0;34m(\u001b[0m\u001b[0mkey\u001b[0m\u001b[0;34m)\u001b[0m \u001b[0;32mand\u001b[0m \u001b[0misna\u001b[0m\u001b[0;34m(\u001b[0m\u001b[0mkey\u001b[0m\u001b[0;34m)\u001b[0m \u001b[0;32mand\u001b[0m \u001b[0;32mnot\u001b[0m \u001b[0mself\u001b[0m\u001b[0;34m.\u001b[0m\u001b[0mhasnans\u001b[0m\u001b[0;34m:\u001b[0m\u001b[0;34m\u001b[0m\u001b[0;34m\u001b[0m\u001b[0m\n",
      "\u001b[0;31mKeyError\u001b[0m: 'pid'"
     ]
    }
   ],
   "source": [
    "# pulling out a subset of 'discharged' containing those discharged particles with pids that match the pids of those\n",
    "# in 'accreted'; calling it 'accdis'; the masking technique.\n",
    "\n",
    "# Ids of preheated\n",
    "x = np.array(pram['pid'])\n",
    "# Ids of discharged, SNe heated gas\n",
    "y = np.array(discharged['pid'])\n",
    "\n",
    "index = np.argsort(x)\n",
    "sorted_x = x[index] # Sorted list of ids pre discharged                        \n",
    "sorted_index = np.searchsorted(sorted_x, y)\n",
    "yindex = np.take(index, sorted_index, mode=\"clip\")\n",
    "mask = x[yindex] != y\n",
    "result = np.ma.array(yindex, mask=mask)\n",
    "pram_all = discharged.iloc[result[~result.mask].data]"
   ]
  },
  {
   "cell_type": "code",
   "execution_count": null,
   "id": "24c86745",
   "metadata": {},
   "outputs": [],
   "source": []
  }
 ],
 "metadata": {
  "kernelspec": {
   "display_name": "Python 3 (ipykernel)",
   "language": "python",
   "name": "python3"
  },
  "language_info": {
   "codemirror_mode": {
    "name": "ipython",
    "version": 3
   },
   "file_extension": ".py",
   "mimetype": "text/x-python",
   "name": "python",
   "nbconvert_exporter": "python",
   "pygments_lexer": "ipython3",
   "version": "3.8.11"
  }
 },
 "nbformat": 4,
 "nbformat_minor": 5
}
