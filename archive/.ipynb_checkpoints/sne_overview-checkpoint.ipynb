{
 "cells": [
  {
   "cell_type": "code",
   "execution_count": null,
   "id": "3cd1ff8f",
   "metadata": {},
   "outputs": [],
   "source": [
    "import numpy as np\n",
    "import pylab\n",
    "import pynbody\n",
    "import pynbody.plot.sph as sph\n",
    "import matplotlib as plt"
   ]
  },
  {
   "cell_type": "code",
   "execution_count": null,
   "id": "3020c684",
   "metadata": {},
   "outputs": [],
   "source": [
    "# importing simulation \n",
    "f = pynbody.load('h329.cosmo50PLK.3072gst5HbwK1BH/snapshots_200bkgdens/h329.cosmo50PLK.3072gst5HbwK1BH.004096')"
   ]
  },
  {
   "cell_type": "code",
   "execution_count": null,
   "id": "4f82a69e",
   "metadata": {},
   "outputs": [],
   "source": [
    "h = f.halos() # loading main halos.\n",
    "\n",
    "h1 = h[1] # setting shortcut.\n",
    "h1.physical_units()\n",
    "\n",
    "\n",
    "pynbody.analysis.halo.center(h1,mode='hyb')\n",
    "\n",
    "sph.image(h1.g, width=100, cmap='Blues');"
   ]
  },
  {
   "cell_type": "code",
   "execution_count": null,
   "id": "3238b572",
   "metadata": {},
   "outputs": [],
   "source": [
    "sph.image(f.d[pynbody.filt.Sphere('10 Mpc')], width='10 Mpc', units = 'Msol kpc^-2', cmap='Greys');\n"
   ]
  },
  {
   "cell_type": "code",
   "execution_count": null,
   "id": "ae5c0f44",
   "metadata": {},
   "outputs": [],
   "source": [
    "h11 = h[11] # setting shortcut.\n",
    "\n",
    "# selecting those gas particles in the simulation still affected by SN heating.\n",
    "simtime = f.properties['time']\n",
    "heated = h11[pynbody.filt.HighPass('coolontime', simtime)];\n",
    "\n",
    "# centering on the first satellite galaxy\n",
    "pynbody.analysis.halo.center(h11, mode='com', vel=False)\n",
    "\n",
    "image = sph.image(h11.gas, width=25, cmap='Blues');\n",
    "\n",
    "#create contours"
   ]
  },
  {
   "cell_type": "code",
   "execution_count": null,
   "id": "3e1baa47",
   "metadata": {},
   "outputs": [],
   "source": [
    "plt.pyplot.scatter(heated.gas['x'],heated.gas['y'])"
   ]
  },
  {
   "cell_type": "code",
   "execution_count": null,
   "id": "6c5a9f82",
   "metadata": {},
   "outputs": [],
   "source": [
    "pynbody.plot.stars.render(h11, width=15)"
   ]
  },
  {
   "cell_type": "code",
   "execution_count": null,
   "id": "22b4443a",
   "metadata": {},
   "outputs": [],
   "source": [
    "sph.image(heated.gas, width=5, denoise=False, cmap='Reds', approximate_fast=False)"
   ]
  },
  {
   "cell_type": "code",
   "execution_count": null,
   "id": "7b694da2",
   "metadata": {},
   "outputs": [],
   "source": [
    "#create a simple slice showing the gas temperature\n",
    "sph.image(h11.g,qty='temp', width=25, cmap=\"YlOrRd\", denoise=True, approximate_fast=False)"
   ]
  },
  {
   "cell_type": "code",
   "execution_count": null,
   "id": "d363bd97",
   "metadata": {},
   "outputs": [],
   "source": [
    "h4 = h[4] # setting shortcut.\n",
    "\n",
    "heated4 = h4[pynbody.filt.HighPass('coolontime', simtime)];\n",
    "\n",
    "# centering on the first satellite galaxy\n",
    "pynbody.analysis.halo.center(h4, mode='com', vel=False)\n",
    "\n",
    "axs = plt.pylab.subplots(1,2,figsize=(14,6))\n",
    "\n",
    "sph.image(h4.gas, width=25, cmap='Blues')"
   ]
  },
  {
   "cell_type": "code",
   "execution_count": null,
   "id": "73e9d68e",
   "metadata": {},
   "outputs": [],
   "source": [
    "sph.image(heated4.gas, width=5, denoise=False, cmap='Reds', approximate_fast=False)"
   ]
  },
  {
   "cell_type": "code",
   "execution_count": null,
   "id": "b655b97f",
   "metadata": {},
   "outputs": [],
   "source": [
    "len"
   ]
  },
  {
   "cell_type": "code",
   "execution_count": null,
   "id": "ad5c33a8",
   "metadata": {},
   "outputs": [],
   "source": []
  }
 ],
 "metadata": {
  "kernelspec": {
   "display_name": "Python 3 (ipykernel)",
   "language": "python",
   "name": "python3"
  },
  "language_info": {
   "codemirror_mode": {
    "name": "ipython",
    "version": 3
   },
   "file_extension": ".py",
   "mimetype": "text/x-python",
   "name": "python",
   "nbconvert_exporter": "python",
   "pygments_lexer": "ipython3",
   "version": "3.8.11"
  }
 },
 "nbformat": 4,
 "nbformat_minor": 5
}
