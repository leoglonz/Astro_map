{
 "cells": [
  {
   "cell_type": "markdown",
   "id": "0d47b6cb",
   "metadata": {},
   "source": [
    "## General Observations of the Properties of SNe-heated Gas Particles\n",
    "`-- Leo Lonzarich, September 23 2021 --`\n",
    "\n",
    "### Table of Contents\n",
    "- [Comparing SNe Gas to Other Gas](#compare)\n",
    "- [Radial Velocity](#radvelocity)\n",
    "- [Mass Across Halos](#mass)\n",
    "- [Physical Distribution](#distribution)"
   ]
  },
  {
   "cell_type": "code",
   "execution_count": 1,
   "id": "c2217491",
   "metadata": {},
   "outputs": [],
   "source": [
    "import numpy as np\n",
    "import pylab\n",
    "import pynbody\n",
    "import pynbody.plot.sph as sph\n",
    "import matplotlib.pyplot as plt"
   ]
  },
  {
   "cell_type": "code",
   "execution_count": 2,
   "id": "6fa7ab51",
   "metadata": {},
   "outputs": [],
   "source": [
    "# importing simulation \n",
    "\n",
    "h148 = pynbody.load('../h148.cosmo50PLK.3072g3HbwK1BH/snapshots_200bkgdens/h148.cosmo50PLK.3072g3HbwK1BH.004096')\n",
    "h229 = pynbody.load('../h229.cosmo50PLK.3072gst5HbwK1BH/snapshots_200bkgdens/h229.cosmo50PLK.3072gst5HbwK1BH.004096')\n",
    "h242 = pynbody.load('../h242.cosmo50PLK.3072gst5HbwK1BH/snapshots_200bkgdens/h242.cosmo50PLK.3072gst5HbwK1BH.004096')\n",
    "h329 = pynbody.load('../h329.cosmo50PLK.3072gst5HbwK1BH/snapshots_200bkgdens/h329.cosmo50PLK.3072gst5HbwK1BH.004096')"
   ]
  },
  {
   "cell_type": "code",
   "execution_count": 3,
   "id": "68a60425",
   "metadata": {},
   "outputs": [],
   "source": [
    "# halo numbers for halos with stars in them and fMhires > 0.9 [updated 09-08-21]\n",
    "\n",
    "nums_h148 = [1, 2, 3, 5, 6, 9, 10, 11, 13, 14, 21, 24, 27, 28, 30, 32, 36, 37, 41, 45, 47, 48, 58, 61, 65, 68, 80, 81, 96, 105, 119, 127, 128, 136, 163, 212, 265, 278, 283, 329, 372, 377, 384, 386, 442, 491, 620, 678, 699, 711, 759, 914, 1004, 1024, 1201, 1217, 1451, 2905, 5039]\n",
    "nums_h229 = [1, 2, 5, 7, 17, 20, 22, 23, 27, 29, 33, 52, 53, 55, 59, 61, 62, 73, 104, 113, 139, 212, 290, 549, 1047, 1374, 1483, 1558, 6045]\n",
    "nums_h242 = [1, 10, 12, 24, 30, 34, 40, 41, 44, 48, 49, 71, 78, 80, 86, 165, 223, 439, 480, 1872, 2885, 6054, 9380, 10426, 12297]\n",
    "nums_h329 = [1, 11, 31, 33, 40, 64, 103, 133, 137, 146, 185, 447, 729, 996, 1509]"
   ]
  },
  {
   "cell_type": "markdown",
   "id": "4b32fdb4",
   "metadata": {},
   "source": [
    "## Treating h148: \n",
    "_______________\n",
    "_______________\n",
    "\n",
    "### Comparing SNe Gas to Other Gas  <a class=\"anchor\" id=\"compare\"></a>"
   ]
  },
  {
   "cell_type": "code",
   "execution_count": null,
   "id": "bada8b0e",
   "metadata": {},
   "outputs": [],
   "source": []
  },
  {
   "cell_type": "markdown",
   "id": "e1f94397",
   "metadata": {},
   "source": [
    "### Radial Velocity <a class=\"anchor\" id=\"radvelocity\"></a>\n",
    "\n",
    "Centering on a halo, particle velocities are normalized such that the magnitudes of the vx, vy, and vz components together give the radial velocity for the particles."
   ]
  },
  {
   "cell_type": "code",
   "execution_count": 4,
   "id": "55281cde",
   "metadata": {},
   "outputs": [],
   "source": [
    "h148.gas.loadable_keys();"
   ]
  },
  {
   "cell_type": "code",
   "execution_count": 179,
   "id": "b819186d",
   "metadata": {},
   "outputs": [
    {
     "data": {
      "text/plain": [
       "<pynbody.transformation.GenericTranslation at 0x7fe58f8e9b20>"
      ]
     },
     "execution_count": 179,
     "metadata": {},
     "output_type": "execute_result"
    }
   ],
   "source": [
    "# setting the halo we want to study\n",
    "\n",
    "n = 1\n",
    "\n",
    "# pulling out a halo from simulation\n",
    "h_h148 = h148.halos() \n",
    "halon = h_h148[nums_h148[n]]\n",
    "\n",
    "# unpacking, centering on desired halo.\n",
    "pynbody.analysis.halo.center(halon, mode='com', vel=True)"
   ]
  },
  {
   "cell_type": "code",
   "execution_count": 250,
   "id": "7e5ff9a2",
   "metadata": {},
   "outputs": [],
   "source": [
    "# selecting those gas particles in the simulation still affected by SN heating.\n",
    "simtime = h148.properties['time']\n",
    "heated = halon[pynbody.filt.HighPass('coolontime', simtime)];\n",
    "\n",
    "# picking out the velocities of normal and hot gas in the halo.\n",
    "hvel = halon['vel'] \n",
    "hvel_hot = heated['vel']\n",
    "\n",
    "def norm(x):\n",
    "    '''\n",
    "    Overview:\n",
    "        Takes the rudementary norm of the rows of arrays. Quicker than computation via linalg.norm.\n",
    "    \n",
    "    Inputs:\n",
    "    -> 'x', array-like.\n",
    "    \n",
    "    Output:\n",
    "    -> 1xn array with each column entry representing the norm of the row of equivalent index.\n",
    "    '''\n",
    "    #-----------------------------#\n",
    "    \n",
    "    return np.sum(np.abs(x)**2,axis=-1)**(1./2)\n",
    "    \n",
    "\n",
    "\n",
    "\n",
    "\n",
    "rvel = norm(hvel)\n",
    "rvel_hot = norm(hvel_hot)\n",
    "\n",
    "# scaling number of gas particles to compare with heated gas.\n",
    "rvel_ref = np.random.choice(rvel, size=20000, replace=False)"
   ]
  },
  {
   "cell_type": "code",
   "execution_count": 98,
   "id": "b5cc7543",
   "metadata": {},
   "outputs": [
    {
     "data": {
      "text/plain": [
       "array([0.08758783, 0.10065357, 0.0404318 , ..., 0.05842027, 0.06758609,\n",
       "       0.08303986])"
      ]
     },
     "execution_count": 98,
     "metadata": {},
     "output_type": "execute_result"
    }
   ],
   "source": [
    "rvel_ref = np.random.choice(rvel, size=20000, replace=False)"
   ]
  },
  {
   "cell_type": "code",
   "execution_count": 106,
   "id": "ebb34f5f",
   "metadata": {},
   "outputs": [
    {
     "data": {
      "image/png": "[encoded data removed]",
      "text/plain": [
       "<Figure size 432x288 with 1 Axes>"
      ]
     },
     "metadata": {
      "needs_background": "light"
     },
     "output_type": "display_data"
    }
   ],
   "source": [
    "bins = 15 # setting # of bins.\n",
    "\n",
    "plt.figure(figsize=(6,4))\n",
    "plt.title('Radial Velocity of Gas and SN-gas in H148-1',fontsize=12)\n",
    "plt.xlabel('Radial Velocity (1.17e+03 km a s$^{-1}$)', fontsize=10)\n",
    "plt.ylabel('Frequency',fontsize=10)\n",
    "plt.hist(rvel_ref, bins, alpha=0.7, histtype='bar', ec='black')\n",
    "plt.hist(rvel_hot, bins, alpha=0.7, histtype='bar', ec='black', color='red')\n",
    "\n",
    "\n",
    "plt.xticks(fontsize = 10)\n",
    "plt.yticks(fontsize = 10) \n",
    "plt.show() "
   ]
  },
  {
   "cell_type": "markdown",
   "id": "0e02d844",
   "metadata": {},
   "source": [
    "### Mass Across Halos <a class=\"anchor\" id=\"mass\"></a>\n",
    "\n",
    "We start out here by finding the mass of those gas particles heated by supernovae, then compare these masses to those of particles to all particles in the halo, and those that are cooled (i.e., those that have temperatures less than $10^4$ Kelvin)."
   ]
  },
  {
   "cell_type": "code",
   "execution_count": 104,
   "id": "d8fc5738",
   "metadata": {},
   "outputs": [
    {
     "data": {
      "text/plain": [
       "\"\\n# Now Finding the temperatures, radial position corresponding to the particles here selected.\\ntotTemp = np.random.choice(halon.gas['temp'], size=20000, replace=False)\\ncoolTemp = np.random.choice(halon.gas[pynbody.filt.LowPass('temp', 10**4)]['temp'],    size=20000, replace=False)\\nhotTemp = halon.gas[pynbody.filt.HighPass('coolontime', simtime)]['temp']\\n\\ntotPos = np.random.choice(halon.gas['temp'], size=20000, replace=False)\\ncoolPos = np.random.choice(halon.gas[pynbody.filt.LowPass('temp', 10**4)]['temp'],    size=20000, replace=False)\\nhotPos = halon.gas[pynbody.filt.HighPass('coolontime', simtime)]['temp']\\n\\n\\nhalon.gas.derivable_keys()\\n\""
      ]
     },
     "execution_count": 104,
     "metadata": {},
     "output_type": "execute_result"
    }
   ],
   "source": [
    "simtime = h148.properties['time']\n",
    "\n",
    "totMass = halon.gas['mass'] # callable for masses of all halo gas particles.\n",
    "coolMass = halon.gas[pynbody.filt.LowPass('temp', 10**4)]['mass'] # cold gas masses.\n",
    "hotMass = halon.gas[pynbody.filt.HighPass('coolontime', simtime)]['mass'] # callable for mass of heated gas.\n",
    "\n",
    "\n",
    "len(totGas), len(coolGas), len(hotGas)\n",
    "\n",
    "# the counts of all gas particles and cool gas particles far exceed that of hot gas, and so we randomly \n",
    "# select from the sets of all gas and cool gas to compare against the hot gas.\n",
    "\n",
    "totMass = np.random.choice(totMass, size=20000, replace=False)\n",
    "coolMass = np.random.choice(coolMass, size=20000, replace=False)\n",
    "\n",
    "\n",
    "'''\n",
    "# Now Finding the temperatures, radial position corresponding to the particles here selected.\n",
    "totTemp = np.random.choice(halon.gas['temp'], size=20000, replace=False)\n",
    "coolTemp = np.random.choice(halon.gas[pynbody.filt.LowPass('temp', 10**4)]['temp'],\\\n",
    "    size=20000, replace=False)\n",
    "hotTemp = halon.gas[pynbody.filt.HighPass('coolontime', simtime)]['temp']\n",
    "\n",
    "totPos = np.random.choice(halon.gas['temp'], size=20000, replace=False)\n",
    "coolPos = np.random.choice(halon.gas[pynbody.filt.LowPass('temp', 10**4)]['temp'],\\\n",
    "    size=20000, replace=False)\n",
    "hotPos = halon.gas[pynbody.filt.HighPass('coolontime', simtime)]['temp']\n",
    "\n",
    "\n",
    "halon.gas.derivable_keys()\n",
    "'''"
   ]
  },
  {
   "cell_type": "code",
   "execution_count": 105,
   "id": "e0ec4148",
   "metadata": {},
   "outputs": [
    {
     "data": {
      "image/png": "[encoded data removed]",
      "text/plain": [
       "<Figure size 720x288 with 1 Axes>"
      ]
     },
     "metadata": {
      "needs_background": "light"
     },
     "output_type": "display_data"
    }
   ],
   "source": [
    "bins = 20\n",
    "\n",
    "# Comparing distribution of masses for different particle types.\n",
    "plt.figure(figsize=(10,4))\n",
    "plt.title('Mass Distribution for All, Heated, and Cooled Gas',fontsize=12)\n",
    "plt.xlabel('Mass (Msol)', fontsize=10)\n",
    "plt.ylabel('Frequency',fontsize=10)\n",
    "plt.hist(totMass, bins, alpha=0.5, histtype='bar', ec='black', color='green', label='All')\n",
    "plt.hist(hotMass, bins, alpha=0.8, histtype='bar', ec='black', color='red', label='Heated')\n",
    "plt.hist(coolMass, bins, alpha=0.45, histtype='bar', ec='black', color='blue', label='Cooled')\n",
    "\n",
    "\n",
    "plt.legend()\n",
    "plt.xticks(fontsize = 10)\n",
    "plt.yticks(fontsize = 10) \n",
    "plt.show() "
   ]
  },
  {
   "cell_type": "code",
   "execution_count": 106,
   "id": "4f0cb1a3",
   "metadata": {},
   "outputs": [
    {
     "data": {
      "image/png": "[encoded data removed]",
      "text/plain": [
       "<Figure size 432x288 with 1 Axes>"
      ]
     },
     "metadata": {
      "needs_background": "light"
     },
     "output_type": "display_data"
    }
   ],
   "source": [
    "bins = 20\n",
    "\n",
    "# Comparing distribution of masses for different particle types.\n",
    "plt.figure(figsize=(6,4))\n",
    "plt.title('Mass Distribution for All, Heated, and Cooled Gas',fontsize=12)\n",
    "plt.xlabel('Mass (Msol)', fontsize=10)\n",
    "plt.ylabel('',fontsize=10)\n",
    "plt.plot(totTemp, totMass, '.', color='green', label='All')\n",
    "#plt.hist(hotTemp, bins, alpha=0.8, histtype='bar', ec='black', color='red', label='Heated')\n",
    "#plt.hist(coolTemp, bins, alpha=0.45, histtype='bar', ec='black', color='blue', label='Cooled')\n",
    "\n",
    "\n",
    "plt.legend()\n",
    "plt.xticks(fontsize = 10)\n",
    "plt.yticks(fontsize = 10) \n",
    "plt.show() "
   ]
  },
  {
   "cell_type": "markdown",
   "id": "ef52a78e",
   "metadata": {},
   "source": [
    "### Physical Distributions <a class=\"anchor\" id=\"distribution\"></a>\n",
    "\n",
    "Radial locations of particles \\[\\# of gas particles < halo radius vs. radius\\]"
   ]
  },
  {
   "cell_type": "code",
   "execution_count": 23,
   "id": "1ad3680a",
   "metadata": {},
   "outputs": [
    {
     "data": {
      "text/plain": [
       "['rho',\n",
       " 'mass',\n",
       " 'vel',\n",
       " 'temp',\n",
       " 'coolontime',\n",
       " 'phi',\n",
       " 'z',\n",
       " 'vz',\n",
       " 'vy',\n",
       " 'x',\n",
       " 'vx',\n",
       " 'y',\n",
       " 'eps',\n",
       " 'pos',\n",
       " 'metals']"
      ]
     },
     "execution_count": 23,
     "metadata": {},
     "output_type": "execute_result"
    }
   ],
   "source": [
    "h148.gas.keys()"
   ]
  },
  {
   "cell_type": "code",
   "execution_count": 257,
   "id": "d63bdb0a",
   "metadata": {},
   "outputs": [],
   "source": [
    "# radial positions of total, cool, and hot gas.\n",
    "\n",
    "totPos = halon.gas['pos'] # cartesian position for all gas particles.\n",
    "totRad = norm(totPos) # converting cartesian to radial (quicker than linalg).\n",
    "\n",
    "totRad = np.random.choice(totRad, size=20000, replace=False)\n",
    "\n",
    "coolPos = halon.gas[pynbody.filt.LowPass('temp', 10**4)]['pos']\n",
    "coolRad = norm(coolPos)\n",
    "\n",
    "coolRad = np.random.choice(coolRad, size=20000, replace=False)\n",
    "\n",
    "hotPos = halon.gas[pynbody.filt.HighPass('coolontime', simtime)]['pos']\n",
    "hotRad = norm(hotPos)\n",
    "\n",
    "\n",
    "\n",
    "def radial_stack(pos, num=20):\n",
    "    '''\n",
    "    Overview:\n",
    "        Accruing the number of particles within radial sudivisions of a halo.\n",
    "    \n",
    "    Inputs:\n",
    "    -> 'pos', array-like containing radial positions of particles of a centered halo.\n",
    "    -> 'num', number of slices.\n",
    "    \n",
    "    Output:\n",
    "    -> 'stack', array specifying the number of particles within a given radius of a halo.\n",
    "    '''\n",
    "    #-----------------------------#\n",
    "    \n",
    "    # initializing array, setting equally spaced radial distances\n",
    "    stack = np.array([np.linspace(0, np.max(pos), num), np.zeros(num)])\n",
    "    \n",
    "    for i in range(0, num):\n",
    "        for j in range(0, len(pos)):\n",
    "            if pos[j] < stack[0,i]:\n",
    "                stack[1,i] += 1\n",
    "                \n",
    "    return stack\n",
    "\n",
    "\n",
    "# distribution of respective gas particles radially from halo center.\n",
    "slices= 50\n",
    "tot_dist = radial_stack(totRad, slices) \n",
    "cool_dist = radial_stack(coolRad, slices)\n",
    "hot_dist = radial_stack(hotRad, slices)"
   ]
  },
  {
   "cell_type": "code",
   "execution_count": 260,
   "id": "7958c5c6",
   "metadata": {},
   "outputs": [
    {
     "data": {
      "image/png": "[encoded data removed]",
      "text/plain": [
       "<Figure size 864x432 with 1 Axes>"
      ]
     },
     "metadata": {
      "needs_background": "light"
     },
     "output_type": "display_data"
    }
   ],
   "source": [
    "plt.figure(figsize=(12,6))\n",
    "plt.title('Physical Distribution of Gas Particles',fontsize=12)\n",
    "plt.xlabel('Radius from Center (kpc a)', fontsize=10)\n",
    "plt.ylabel('Frequency',fontsize=10)\n",
    "plt.plot(tot_dist[0], tot_dist[1],color='green', label='All')\n",
    "plt.plot(cool_dist[0], cool_dist[1], color='blue', label='cool')\n",
    "plt.plot(hot_dist[0], hot_dist[1], color='red', label='hot')\n",
    "\n",
    "plt.legend()\n",
    "plt.xticks(fontsize = 10)\n",
    "plt.yticks(fontsize = 10) \n",
    "plt.show() \n",
    "\n",
    "\n",
    "\n",
    "plt.figure(figsize=(12,6))\n",
    "plt.title('Physical Distribution of Gas Particles',fontsize=12)\n",
    "plt.xlabel('Radius from Center (kpc a)', fontsize=10)\n",
    "plt.ylabel('Frequency',fontsize=10)\n",
    "plt.plot(totRad, tot_dist[1],color='green', label='All')\n",
    "plt.plot(cool_dist[0], cool_dist[1], color='blue', label='cool')\n",
    "plt.plot(hot_dist[0], hot_dist[1], color='red', label='hot')\n",
    "\n",
    "plt.legend()\n",
    "plt.xticks(fontsize = 10)\n",
    "plt.yticks(fontsize = 10) \n",
    "plt.show() \n"
   ]
  },
  {
   "cell_type": "code",
   "execution_count": null,
   "id": "94cead5c",
   "metadata": {},
   "outputs": [],
   "source": []
  }
 ],
 "metadata": {
  "kernelspec": {
   "display_name": "Python 3 (ipykernel)",
   "language": "python",
   "name": "python3"
  },
  "language_info": {
   "codemirror_mode": {
    "name": "ipython",
    "version": 3
   },
   "file_extension": ".py",
   "mimetype": "text/x-python",
   "name": "python",
   "nbconvert_exporter": "python",
   "pygments_lexer": "ipython3",
   "version": "3.8.11"
  }
 },
 "nbformat": 4,
 "nbformat_minor": 5
}
