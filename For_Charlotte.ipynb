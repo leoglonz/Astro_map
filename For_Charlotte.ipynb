{
 "cells": [
  {
   "cell_type": "markdown",
   "id": "25ee1e28",
   "metadata": {},
   "source": [
    "## The Comprehensive, Non-exhaustive List of Incorporated Properties\n",
    "---\n",
    "\n",
    "Concerning the gas particles processed by Hollis Akins et al. in the near-mint `200_bkgdens Justice League Simulations`: explanations for assorted properties (`keys`) and their intrinsic units denoted in a parenthetical endnote for each.\n",
    "<br><br>\n",
    "There are three primary categories of properties attached to particle data:\n",
    "- Properties relative to satellite;\n",
    "- Properties relative to host;\n",
    "- Properties of a particle's satellite galaxy relative to the host galaxy.\n",
    "\n",
    "Where used, the center of a satellite/host galaxy is defined by its center of mass (COM).\n",
    "\n",
    "---\n",
    "\n",
    "\n",
    "\n",
    "## The Quick Version: \n",
    "### In General (unless where otherwise noted)...\n",
    "- *Time* in Gigayears $(Gyrs)$.\n",
    "- *Distances* in kiloparsecs $(kpc)$.\n",
    "- *Velocities* in kilometers per second $(km \\ s^{-1})$.\n",
    "- *Masses* in solar masses $(M_{sol})$.\n",
    "- *Gravitational Constant* G in ($kpc\\ km^2\\ M_{sol}^{-1}\\ s^{-2})$\n",
    "\n",
    "\n",
    "\n",
    "## The Long Version:\n",
    "### Satellite-oriented Properties: (satellite center == COM)\n",
    "\n",
    "- `r`: radial distance from satellite. (kpc)\n",
    "- `r_per_Rvir`:  `r` per viral radius of satellite (sim. viral radius scaled by $a/HubbleConstant$).\n",
    "- `x`, `y`, `z`: coordinates relative to satellite. (kpc)\n",
    "- `satRvir`: virial radius of satellite. (kpc)\n",
    "- `a`: Justice League sim. constant.\n",
    "- `vx`, `vy`, `vz`: component velocities rel. satellite. (km s-1)\n",
    "- `v`:  speed rel. to satellite. (km s-1)\n",
    "\n",
    "\n",
    "### Host-oriented Properties: (host centre == COM)\n",
    "\n",
    "- `r_rel_host`: radial position from host. (kpc)\n",
    "- `r_rel_host_per_Rvir`: `r_rel_host` per virial radius of host (sim. viral radius scaled by $1/a * HubbleConstant$).\n",
    "- `x_rel_host`, `y_rel_host`, `z_rel_host`: coord. positions rel. to host. (kpc)\n",
    "- `hostRvir`: virial radius of host. (kpc)\n",
    "- `vx_rel_host`,`vy_rel_host`, `vz_rel_host`: velocities rel. to host. (km s-1)\n",
    "- `v_rel_host`: speed rel. host. (km s-1)\n",
    "\n",
    "\n",
    "### Properties of Satellite Relative to Host: (sat./host centers == COM)\n",
    "\n",
    "- `sat_Xc`,`sat_Yc`, `satZc`: coords of sat. relative to center of simulation snapshot (scaled by $1/a * HubbleConstant$). (kpc)\n",
    "- `sat_vx`,`sat_vy`, `sat_vz`: velocities of sat. relative to cener of sim. (km s-1)\n",
    "- `host_Xc`, `host_Yc`, `host_Zc`: coords of host relative to center of sim. (kpc)\n",
    "- `host_vx`, `host_vy`, `host_vz`: velocities of host relative to center of sim. (km s-1) \n",
    "\n",
    "\n",
    "\n",
    "\n"
   ]
  },
  {
   "cell_type": "code",
   "execution_count": 1,
   "id": "486b7bcc",
   "metadata": {},
   "outputs": [],
   "source": [
    "import pylab\n",
    "import pynbody\n",
    "import numpy as np\n",
    "import pandas as pd\n",
    "import matplotlib.pyplot as plt\n",
    "import matplotlib.ticker as ticker\n",
    "from matplotlib import gridspec\n",
    "\n",
    "\n",
    "from astropy import units\n",
    "from astropy import constants as c\n",
    "\n",
    "import warnings\n",
    "warnings.filterwarnings(\"ignore\")\n",
    "\n",
    "from compiler import *\n",
    "from analysis import *"
   ]
  },
  {
   "cell_type": "code",
   "execution_count": 2,
   "id": "52e61ae6",
   "metadata": {},
   "outputs": [
    {
     "name": "stdout",
     "output_type": "stream",
     "text": [
      "> Returning (predischarged, discharged, preheated, heated) for all satellites <\n",
      "> Returning (accreted, reaccreted) for all satellites <\n"
     ]
    }
   ],
   "source": [
    "predischarged, discharged, preheated, heated = read_all_discharged()\n",
    "accreted, reaccreted = read_accreted()"
   ]
  },
  {
   "cell_type": "code",
   "execution_count": 4,
   "id": "effedab9",
   "metadata": {},
   "outputs": [
    {
     "data": {
      "text/plain": [
       "Index(['time', 'pid', 'rho', 'temp', 'mass', 'coolontime', 'r', 'r_per_Rvir',\n",
       "       'x', 'y', 'z', 'satRvir', 'a', 'vx', 'vy', 'vz', 'v', 'r_rel_host',\n",
       "       'r_rel_host_per_Rvir', 'x_rel_host', 'y_rel_host', 'z_rel_host',\n",
       "       'hostRvir', 'vx_rel_host', 'vy_rel_host', 'vz_rel_host', 'v_rel_host',\n",
       "       'sat_Xc', 'sat_Yc', 'sat_Zc', 'sat_vx', 'sat_vy', 'sat_vz', 'host_Xc',\n",
       "       'host_Yc', 'host_Zc', 'host_vx', 'host_vy', 'host_vz', 'sat_Mstar',\n",
       "       'sat_Mgas', 'host_Mstar', 'host_Mgas', 'sat_r_half', 'sat_r_gas',\n",
       "       'host_r_half', 'host_r_gas', 'in_sat', 'in_host', 'in_other_sat',\n",
       "       'in_IGM', 'dt', 'r_gal', 'host_r_gal', 'sat_disk', 'sat_halo',\n",
       "       'host_disk', 'host_halo', 'other_sat', 'IGM', 'sat_Mvir', 'angle',\n",
       "       'sneHeated', 'key'],\n",
       "      dtype='object')"
      ]
     },
     "execution_count": 4,
     "metadata": {},
     "output_type": "execute_result"
    }
   ],
   "source": [
    "discharged.keys()"
   ]
  },
  {
   "cell_type": "code",
   "execution_count": null,
   "id": "2a91100e",
   "metadata": {},
   "outputs": [],
   "source": [
    "# quick calc. for ubiquitous weights in plotting.\n",
    "@pynbody.derived_array\n",
    "def wt(*gas):\n",
    "    if len(gas) == 1:\n",
    "        return np.array(gas[0]['mass'] / gas[0]['mass'].sum())\n",
    "    \n",
    "    else:\n",
    "        return np.array(gas[0]['mass'] / gas[1]['mass'].sum())"
   ]
  }
 ],
 "metadata": {
  "kernelspec": {
   "display_name": "Python 3 (ipykernel)",
   "language": "python",
   "name": "python3"
  },
  "language_info": {
   "codemirror_mode": {
    "name": "ipython",
    "version": 3
   },
   "file_extension": ".py",
   "mimetype": "text/x-python",
   "name": "python",
   "nbconvert_exporter": "python",
   "pygments_lexer": "ipython3",
   "version": "3.8.12"
  }
 },
 "nbformat": 4,
 "nbformat_minor": 5
}
