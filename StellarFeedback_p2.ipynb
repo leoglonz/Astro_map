{
 "cells": [
  {
   "cell_type": "markdown",
   "id": "0d47b6cb",
   "metadata": {},
   "source": [
    "# Gas Discharge & Stellar Feedback-driven Outflows (Part 2 /3):\n",
    "## Scaling, Fractional Heating, Accretion\n",
    "`-- Leo Lonzarich, 31 October 2021 // [Updated 21-11-21] --`\n",
    "\n",
    "\n",
    "### Table of Contents\n",
    "- [Analysing Discharged Gas](#compare)\n",
    "    - [Radial Position Scaling](#radialpositions)\n",
    "    - [Radial Velocity Scaling](#velocities)\n",
    "- [Fractional Heating](#fractional)\n",
    "    - [Fraction SNe-Heated](#fractionsne)\n",
    "    - [Fraction Ram Pressure-stripped](#fractionram)\n",
    "- [Accretion of Discharged Gas](#accretion)\n",
    "- [The Proving Grounds](#proving)\n",
    "\n",
    "\n",
    "### General Comments on the Contents of this Noteboook\n",
    "- Repeated pids that turn up in the data sets below (e.g. 'ejected,' 'expelled,' 'discharged') should mean that the same particle has been accreted and reejected more than once --- hence its reoccurance in the set.\n",
    "\n",
    "\n",
    "- The datasets used in this notebook: (note that each logs the properties for their respective particles for the period proceeding the differentiating event)\n",
    "\n",
    "    - **Ejected/Expelled Datasets of pulled from Akins:**\n",
    "        - *Ejected*: Gas particles that have been removed from their respective satellite galaxy's disk to the halo.\n",
    "        - *Expelled*: Gas particles (within the disk or halo of their respective satellite galaxy) that have been removed beyond the virial radius of their satellite; that is, all gas particles removed to the field.\n",
    "        \n",
    "    - **Discharge Datasets From Lonzarich:**\n",
    "        - *Discharged*: Gas particles that have been removed from the disk of their respective satellite galaxy. This includes both gas moved to halo, and that moved beyond the virial radius.\n",
    "        - *Predischarged*: Contains the same particles in *Discharged*, but with properties of each particle logged prior to discharge.\n",
    "        - *Accreted*: Gas particles in the halo or beyond the virial radius of their respective satellite as the result of a discharge event, but that were accreted back onto the satellite's disk.\n",
    "        - *Heated*: Gas particles in *Discharged* that were also supernova-heated at time of discharge (i.e., their 'cooling' parameter was turned off).\n",
    "        - *Preheated*: Contains the same particles in *Heated*, but with properties of each particle logged prior to discharge.\n",
    "\n",
    "    \n",
    "    \n",
    "- Units for key values used in this notebook:\n",
    "    - *Time* is in Gigayears $(Gyrs)$.\n",
    "    - *Distances* in kiloparsecs $(kpc)$.\n",
    "    - *Velocities* in kilometers per second $(km \\ s^{-1})$.\n",
    "    - *Masses* in solar masses $(Msol)$."
   ]
  },
  {
   "cell_type": "code",
   "execution_count": 2,
   "id": "c2217491",
   "metadata": {},
   "outputs": [],
   "source": [
    "import numpy as np\n",
    "import pylab\n",
    "import pynbody\n",
    "import pynbody.plot.sph as sph\n",
    "import matplotlib.pyplot as plt\n",
    "import matplotlib.ticker as ticker\n",
    "import pandas as pd\n",
    "\n",
    "from astropy import units\n",
    "from astropy import constants as c\n",
    "\n",
    "import warnings\n",
    "warnings.filterwarnings(\"ignore\")\n",
    "\n",
    "from analysis import * \n",
    "from compiler import *"
   ]
  },
  {
   "cell_type": "code",
   "execution_count": 2,
   "id": "80092e6c",
   "metadata": {
    "scrolled": true
   },
   "outputs": [
    {
     "name": "stdout",
     "output_type": "stream",
     "text": [
      "19 Available Keys: h148_13 h148_278 h148_28 h148_283 h148_329 h148_37 h148_45 h148_68 h148_80 h229_20 h229_22 h229_23 h229_27 h229_55 h242_24 h242_41 h242_80 h329_137 h329_33\n"
     ]
    }
   ],
   "source": [
    "path = '/home/lonzaric/astro_research/Stellar_Feedback_Code/SNeData/discharged_particles.hdf5'\n",
    "with pd.HDFStore(path) as hdf:\n",
    "    keys = np.array([h[1:] for h in hdf.keys()])\n",
    "\n",
    "# listing dwarf galaxies of simulations that are viable for study (gaseous, satellite, etc).\n",
    "print(len(keys), 'Available Keys:', *keys)"
   ]
  },
  {
   "cell_type": "markdown",
   "id": "56e98626",
   "metadata": {},
   "source": [
    "## The 'Discharged' Gas: Comparing Heated Vs. All <a class=\"anchor\" id=\"compare\"></a>\n",
    "\n",
    "____\n",
    "____\n",
    "\n",
    "Here we commit to a similar treatment performed in *Stellar_Feedback_p1* where 'all' and 'heated' discharged gas divisions were compared. However, where we diverge here is that we scale radial positions of gas particles by the radius of their respective satellite galaxy's radius. That is, for each particle, we will have\n",
    "$$\n",
    "r_{eff} = r/R_{disk}\n",
    "$$\n",
    "for each particle, where $r_{eff}$ is the effective radius, $r$ is the radial position, and $R_{disk}$ is the radius of the relevant satellite's disk. Similarly, for velocities we commit to two different scalings\n",
    "$$\n",
    "v_{eff} = v/v_{vir} \\text{  and  } v_{eff} = v/v_{esc} \n",
    "$$\n",
    "where $v$ is the radial velocity, $v_{vir}$ is the satellite's virial velocity, and $v_{esc}$ is the escape velocity for the particle.\n",
    "\n",
    "### Radial Position Scaling <a class=\"anchor\" id=\"radialpositions\"></a>\n",
    "\n",
    "We begin by applying the scaling above for radial positions.\n"
   ]
  },
  {
   "cell_type": "code",
   "execution_count": 4,
   "id": "db6b647c",
   "metadata": {
    "scrolled": true
   },
   "outputs": [
    {
     "name": "stdout",
     "output_type": "stream",
     "text": [
      "> Returning (predischarged, discharged, adv. accreted, preheated, heated) <\n"
     ]
    }
   ],
   "source": [
    "#ejected, cooled, expelled, accreted = read_all_ejected_expelled()\n",
    "predischarged, discharged, accreted, preheated, heated = read_all_discharged()"
   ]
  },
  {
   "cell_type": "code",
   "execution_count": 5,
   "id": "0f5ea9e0",
   "metadata": {},
   "outputs": [
    {
     "data": {
      "text/plain": [
       "(241104, 241104, 116578, 76535, 76535)"
      ]
     },
     "execution_count": 5,
     "metadata": {},
     "output_type": "execute_result"
    }
   ],
   "source": [
    "len(predischarged), len(discharged), len(accreted), len(preheated), len(heated)"
   ]
  },
  {
   "cell_type": "markdown",
   "id": "0000824a",
   "metadata": {},
   "source": [
    "len(predischarged), len(discharged), len(accreted), len(preheated), len(heated): \n",
    "\n",
    "Pre tracked particles update:\n",
    "\n",
    "- (241104, 241104, 194090, 15229, 15229)\n",
    "\n",
    "After updating with `Mvir` and recomputing 'accreted':\n",
    "\n",
    "- (241104, 241104, 54274, 76535, 76535)"
   ]
  },
  {
   "cell_type": "code",
   "execution_count": 6,
   "id": "c196e740",
   "metadata": {},
   "outputs": [],
   "source": [
    "# creating weight attributes for plotting.\n",
    "predischarged['weight'] = predischarged['mass'] / predischarged['mass'].sum()\n",
    "\n",
    "discharged['weight'] = discharged['mass'] / discharged['mass'].sum()\n",
    "\n",
    "accreted['weight'] = accreted['mass'] / accreted['mass'].sum()\n",
    "\n",
    "preheated['weight'] = preheated['mass'] / preheated['mass'].sum()\n",
    "\n",
    "heated['weight'] = heated['mass'] / heated['mass'].sum()"
   ]
  },
  {
   "cell_type": "code",
   "execution_count": 7,
   "id": "29432a8e",
   "metadata": {},
   "outputs": [],
   "source": [
    "# data has precalculated key 'r_per_Rvir' that we will use for our position computations; we unpack it here.\n",
    "\n",
    "pre_rR = predischarged.r_per_Rvir\n",
    "all_rR = discharged.r_per_Rvir\n",
    "acc_rR = accreted.r_per_Rvir\n",
    "preheat_rR = preheated.r_per_Rvir\n",
    "hot_rR = heated.r_per_Rvir"
   ]
  },
  {
   "cell_type": "code",
   "execution_count": 8,
   "id": "f25e35a0",
   "metadata": {},
   "outputs": [
    {
     "data": {
      "image/png": "[encoded data removed]",
      "text/plain": [
       "<Figure size 525x375 with 1 Axes>"
      ]
     },
     "metadata": {
      "needs_background": "light"
     },
     "output_type": "display_data"
    },
    {
     "data": {
      "image/png": "[encoded data removed]",
      "text/plain": [
       "<Figure size 525x375 with 1 Axes>"
      ]
     },
     "metadata": {
      "needs_background": "light"
     },
     "output_type": "display_data"
    },
    {
     "data": {
      "image/png": "[encoded data removed]",
      "text/plain": [
       "<Figure size 525x375 with 1 Axes>"
      ]
     },
     "metadata": {
      "needs_background": "light"
     },
     "output_type": "display_data"
    }
   ],
   "source": [
    "##### plotting discharged vs. heated gas #####\n",
    "bins = 75\n",
    "fig, ax = plt.subplots(1,1,dpi=150, figsize=(3.5,2.5), constrained_layout=True) # change to dpi=300 for printout.\n",
    "\n",
    "# all discharged.\n",
    "y1, x = np.histogram(all_rR, bins=bins, weights=discharged.weight, range=(0, 1.0))\n",
    "bincenters = 0.5*(x[1:] + x[:-1])\n",
    "ax.plot(bincenters, y1, label='All Discharged', c='royalblue')\n",
    "\n",
    "# sne-heated discharge.\n",
    "y1, x = np.histogram(hot_rR, bins=bins, weights=heated.weight, range=(0, 1.0))\n",
    "bincenters = 0.5*(x[1:] + x[:-1])\n",
    "ax.plot(bincenters, y1, label='Heated', c='r')\n",
    "\n",
    "\n",
    "# labels, axis scaling, etc.\n",
    "ax.legend(frameon=False, fontsize='8')\n",
    "\n",
    "ax.set_title('Radial Positions of Discharged and Hot Discharged Gas', fontsize='medium')\n",
    "ax.set_xlabel(r'$r/R_{vir}$')\n",
    "ax.set_ylabel('Fraction Discharged Mass')\n",
    "# ax.set_xlim(0,1)\n",
    "# ax.set_ylim(0,0.25)\n",
    "\n",
    "ax.xaxis.set_minor_locator(mpl.ticker.MultipleLocator(0.05))\n",
    "ax.yaxis.set_minor_locator(mpl.ticker.MultipleLocator(0.01))\n",
    "\n",
    "\n",
    "ax.ticklabel_format(axis=\"y\", style=\"plain\",scilimits=(0,0))\n",
    "ax.tick_params(direction='in',which='both',right=True,top=True)\n",
    "ax.grid(alpha=0.4, zorder=-1000)\n",
    "\n",
    "# plt.savefig('plots/theta_allsats_stacked.pdf')\n",
    "\n",
    "\n",
    "\n",
    "\n",
    "##### plotting discharged vs. pre-discharged gas #####\n",
    "bins = 75\n",
    "fig, ax = plt.subplots(1,1,dpi=150, figsize=(3.5,2.5), constrained_layout=True) # change to dpi=300 for printout.\n",
    "\n",
    "\n",
    "# all predischarge.\n",
    "y1, x = np.histogram(pre_rR, bins=bins, weights=predischarged.weight, range=(0, 0.5))\n",
    "bincenters = 0.5*(x[1:] + x[:-1])\n",
    "ax.plot(bincenters, y1, label='Predischarged', c='midnightblue')\n",
    "\n",
    "# all discharged.\n",
    "y1, x = np.histogram(all_rR, bins=bins, weights=discharged.weight, range=(0, 0.5))\n",
    "bincenters = 0.5*(x[1:] + x[:-1])\n",
    "ax.plot(bincenters, y1, label='All Discharged', c='dodgerblue')\n",
    "\n",
    "\n",
    "# labels, axis scaling, etc.\n",
    "ax.legend(frameon=False, fontsize='8')\n",
    "\n",
    "ax.set_title('Radial Positions of Discharged and Pre-discharge Gas', fontsize='medium')\n",
    "ax.set_xlabel(r'$r/R_{vir}$')\n",
    "ax.set_ylabel('Fraction Discharged Mass')\n",
    "# ax.set_xlim(0,1)\n",
    "ax.set_ylim(-0.01,0.2)\n",
    "\n",
    "ax.xaxis.set_minor_locator(mpl.ticker.MultipleLocator(0.05))\n",
    "ax.yaxis.set_minor_locator(mpl.ticker.MultipleLocator(0.01))\n",
    "\n",
    "ax.ticklabel_format(axis=\"y\", style=\"plain\",scilimits=(0,0))\n",
    "ax.tick_params(direction='in',which='both',right=True,top=True)\n",
    "ax.grid(alpha=0.4, zorder=-1000)\n",
    "\n",
    "# plt.savefig('plots/theta_allsats_stacked.pdf')\n",
    "\n",
    "\n",
    "\n",
    "\n",
    "##### plotting pre-discharge heated vs. heated gas #####\n",
    "bins = 75\n",
    "fig, ax = plt.subplots(1,1,dpi=150, figsize=(3.5,2.5), constrained_layout=True) # change to dpi=300 for printout.\n",
    "\n",
    "\n",
    "# sne-heated pre-discharge.\n",
    "y1, x = np.histogram(preheat_rR, bins=bins, weights=preheated.weight, range=(0, 0.5))\n",
    "bincenters = 0.5*(x[1:] + x[:-1])\n",
    "ax.plot(bincenters, y1, label='Preheated', c='darkred')\n",
    "\n",
    "# sne-heated discharge.\n",
    "y1_hot, x = np.histogram(hot_rR, bins=bins, weights=heated.weight, range=(0, 0.5))\n",
    "bincenters = 0.5*(x[1:] + x[:-1])\n",
    "ax.plot(bincenters, y1_hot, label='Heated', c='r')\n",
    "\n",
    "\n",
    "# labels, axis scaling, etc.\n",
    "ax.legend(frameon=False, fontsize='8')\n",
    "\n",
    "ax.set_title('Radial Positions of Hot Pre-discharge and Hot Discharged Gas', fontsize='medium')\n",
    "ax.set_xlabel(r'$r/R_{vir}$')\n",
    "ax.set_ylabel('Fraction Discharged Mass')\n",
    "# ax.set_xlim(0,0.2)\n",
    "# ax.set_ylim(0,0.25)\n",
    "\n",
    "ax.xaxis.set_minor_locator(mpl.ticker.MultipleLocator(0.05))\n",
    "ax.yaxis.set_minor_locator(mpl.ticker.MultipleLocator(0.01))\n",
    "\n",
    "ax.ticklabel_format(axis=\"y\", style=\"plain\",scilimits=(0,0))\n",
    "ax.tick_params(direction='in',which='both',right=True,top=True)\n",
    "ax.grid(alpha=0.4, zorder=-1000)\n",
    "\n",
    "# plt.savefig('plots/theta_allsats_stacked.pdf')\n",
    "plt.show()"
   ]
  },
  {
   "cell_type": "markdown",
   "id": "d97952eb",
   "metadata": {},
   "source": [
    "**Before data recollection**: (So, the first two plots above essentially echo what we have already seen in `StellarFeedback_p1`. However, this third plot is on initial viewing, suspicious. It would appear that the radial positions for hot gas before discharge nearly match those for this gas after being discharged.)\n",
    "\n",
    "- The minimum preheated ratio is 0.0002051885167676295 and the minimum heated ratio is  0.0005076476118961308\n",
    "\n",
    "**After data recollection**: The distribution is far more reasonable, with a greater spread for the SNe-heated discharged particles compared to their positions before being discharged.\n",
    "\n",
    "- The minimum preheated ratio is 0.00018167652407469122 and the minimum heated ratio is  0.0005076476118961308"
   ]
  },
  {
   "cell_type": "markdown",
   "id": "f169e86e",
   "metadata": {},
   "source": [
    "So on viewing the stats on these two datasets, things would appear to be in order. Nonetheless, it is interesting to find that SNe-heated gas is discharged, on the average, only very short distances.\n",
    "\n",
    "\n",
    "### Comparing Radial Velocities ($v_{vir}$)<a class=\"anchor\" id=\"velocities\"></a>\n",
    "\n",
    "We first start scaling velocities according to $v_{eff} = v/v_{vir}$. Recall that the virial -- or circular -- velocity of a halo is defined by \n",
    "$$\n",
    "    v_{vir} \\equiv \\sqrt{ \\frac{G \\cdot M_{vir}}{ r_{vir} } }.\n",
    "$$\n",
    "Thus, we use the gravitational constant $G$ as found previously and the keys `sat_Mvir` (giving the mass contained within $R_{vir}$) and `satRvir` ($R_{vir}$ for the satellite) to compute the $v_{vir}$ for every gas particle's respective satellite."
   ]
  },
  {
   "cell_type": "code",
   "execution_count": 6,
   "id": "5ff4699f",
   "metadata": {},
   "outputs": [
    {
     "name": "stdout",
     "output_type": "stream",
     "text": [
      "4.300917270036279e-06 km2 kpc / (s2 solMass)\n",
      "4.498502151469554e-06 kpc3 / (Gyr2 solMass)\n"
     ]
    }
   ],
   "source": [
    "# gravitational constant in units of km**3 Msol**-1 s**-2 (matching units of datasets here).\n",
    "G = c.G.to('kpc km2 / (M_sun s2)') # seems to give more reasonable results than any other?????\n",
    "print(G)\n",
    "print(c.G.to('kpc3 / (M_sun Gyr2)'))"
   ]
  },
  {
   "cell_type": "code",
   "execution_count": 4,
   "id": "6db1b157",
   "metadata": {},
   "outputs": [
    {
     "ename": "NameError",
     "evalue": "name 'predischarged' is not defined",
     "output_type": "error",
     "traceback": [
      "\u001b[0;31m---------------------------------------------------------------------------\u001b[0m",
      "\u001b[0;31mNameError\u001b[0m                                 Traceback (most recent call last)",
      "\u001b[0;32m/tmp/ipykernel_49508/2700771124.py\u001b[0m in \u001b[0;36m<module>\u001b[0;34m\u001b[0m\n\u001b[1;32m      1\u001b[0m \u001b[0;31m# compiling virial velocities for each particle's respective satellite.\u001b[0m\u001b[0;34m\u001b[0m\u001b[0;34m\u001b[0m\u001b[0;34m\u001b[0m\u001b[0m\n\u001b[0;32m----> 2\u001b[0;31m \u001b[0mpre_vvir\u001b[0m \u001b[0;34m=\u001b[0m \u001b[0mnp\u001b[0m\u001b[0;34m.\u001b[0m\u001b[0msqrt\u001b[0m\u001b[0;34m(\u001b[0m\u001b[0mG\u001b[0m \u001b[0;34m*\u001b[0m \u001b[0mpredischarged\u001b[0m\u001b[0;34m.\u001b[0m\u001b[0msat_Mvir\u001b[0m \u001b[0;34m/\u001b[0m \u001b[0mpredischarged\u001b[0m\u001b[0;34m.\u001b[0m\u001b[0msatRvir\u001b[0m\u001b[0;34m)\u001b[0m\u001b[0;34m\u001b[0m\u001b[0;34m\u001b[0m\u001b[0m\n\u001b[0m\u001b[1;32m      3\u001b[0m \u001b[0mall_vvir\u001b[0m \u001b[0;34m=\u001b[0m \u001b[0mnp\u001b[0m\u001b[0;34m.\u001b[0m\u001b[0msqrt\u001b[0m\u001b[0;34m(\u001b[0m\u001b[0mG\u001b[0m \u001b[0;34m*\u001b[0m \u001b[0mdischarged\u001b[0m\u001b[0;34m.\u001b[0m\u001b[0msat_Mvir\u001b[0m \u001b[0;34m/\u001b[0m \u001b[0mdischarged\u001b[0m\u001b[0;34m.\u001b[0m\u001b[0msatRvir\u001b[0m\u001b[0;34m)\u001b[0m\u001b[0;34m\u001b[0m\u001b[0;34m\u001b[0m\u001b[0m\n\u001b[1;32m      4\u001b[0m \u001b[0macc_vvir\u001b[0m \u001b[0;34m=\u001b[0m \u001b[0mnp\u001b[0m\u001b[0;34m.\u001b[0m\u001b[0msqrt\u001b[0m\u001b[0;34m(\u001b[0m\u001b[0mG\u001b[0m \u001b[0;34m*\u001b[0m \u001b[0maccreted\u001b[0m\u001b[0;34m.\u001b[0m\u001b[0msat_Mvir\u001b[0m \u001b[0;34m/\u001b[0m \u001b[0maccreted\u001b[0m\u001b[0;34m.\u001b[0m\u001b[0msatRvir\u001b[0m\u001b[0;34m)\u001b[0m\u001b[0;34m\u001b[0m\u001b[0;34m\u001b[0m\u001b[0m\n\u001b[1;32m      5\u001b[0m \u001b[0mhpre_vvir\u001b[0m \u001b[0;34m=\u001b[0m \u001b[0mnp\u001b[0m\u001b[0;34m.\u001b[0m\u001b[0msqrt\u001b[0m\u001b[0;34m(\u001b[0m\u001b[0mG\u001b[0m \u001b[0;34m*\u001b[0m \u001b[0mpreheated\u001b[0m\u001b[0;34m.\u001b[0m\u001b[0msat_Mvir\u001b[0m \u001b[0;34m/\u001b[0m \u001b[0mpreheated\u001b[0m\u001b[0;34m.\u001b[0m\u001b[0msatRvir\u001b[0m\u001b[0;34m)\u001b[0m\u001b[0;34m\u001b[0m\u001b[0;34m\u001b[0m\u001b[0m\n",
      "\u001b[0;31mNameError\u001b[0m: name 'predischarged' is not defined"
     ]
    }
   ],
   "source": [
    "# compiling virial velocities for each particle's respective satellite.\n",
    "pre_vvir = np.sqrt(G * predischarged.sat_Mvir / predischarged.satRvir)\n",
    "all_vvir = np.sqrt(G * discharged.sat_Mvir / discharged.satRvir)\n",
    "acc_vvir = np.sqrt(G * accreted.sat_Mvir / accreted.satRvir)\n",
    "hpre_vvir = np.sqrt(G * preheated.sat_Mvir / preheated.satRvir)\n",
    "hot_vvir = np.sqrt(G * heated.sat_Mvir / heated.satRvir)\n",
    "\n",
    "\n",
    "# creating callable key for effective velocity.\n",
    "predischarged['v_per_Vvir'] = predischarged.v / pre_vvir\n",
    "\n",
    "discharged['v_per_Vvir'] = discharged.v / all_vvir\n",
    "\n",
    "accreted['v_per_Vvir'] = accreted.v / acc_vvir\n",
    "\n",
    "preheated['v_per_Vvir'] = preheated.v / hpre_vvir\n",
    "\n",
    "heated['v_per_Vvir'] = heated.v / hot_vvir"
   ]
  },
  {
   "cell_type": "code",
   "execution_count": 5,
   "id": "d77f45fa",
   "metadata": {},
   "outputs": [
    {
     "ename": "NameError",
     "evalue": "name 'discharged' is not defined",
     "output_type": "error",
     "traceback": [
      "\u001b[0;31m---------------------------------------------------------------------------\u001b[0m",
      "\u001b[0;31mNameError\u001b[0m                                 Traceback (most recent call last)",
      "\u001b[0;32m/tmp/ipykernel_49508/3226152813.py\u001b[0m in \u001b[0;36m<module>\u001b[0;34m\u001b[0m\n\u001b[1;32m      4\u001b[0m \u001b[0;34m\u001b[0m\u001b[0m\n\u001b[1;32m      5\u001b[0m \u001b[0;31m# all discharged.\u001b[0m\u001b[0;34m\u001b[0m\u001b[0;34m\u001b[0m\u001b[0;34m\u001b[0m\u001b[0m\n\u001b[0;32m----> 6\u001b[0;31m \u001b[0my1\u001b[0m\u001b[0;34m,\u001b[0m \u001b[0mx\u001b[0m \u001b[0;34m=\u001b[0m \u001b[0mnp\u001b[0m\u001b[0;34m.\u001b[0m\u001b[0mhistogram\u001b[0m\u001b[0;34m(\u001b[0m\u001b[0mdischarged\u001b[0m\u001b[0;34m.\u001b[0m\u001b[0mv_per_Vvir\u001b[0m\u001b[0;34m,\u001b[0m \u001b[0mbins\u001b[0m\u001b[0;34m=\u001b[0m\u001b[0mbins\u001b[0m\u001b[0;34m,\u001b[0m \u001b[0mweights\u001b[0m\u001b[0;34m=\u001b[0m\u001b[0mdischarged\u001b[0m\u001b[0;34m.\u001b[0m\u001b[0mweight\u001b[0m\u001b[0;34m,\u001b[0m \u001b[0mrange\u001b[0m\u001b[0;34m=\u001b[0m\u001b[0;34m(\u001b[0m\u001b[0;36m0\u001b[0m\u001b[0;34m,\u001b[0m \u001b[0;36m4.0\u001b[0m\u001b[0;34m)\u001b[0m\u001b[0;34m)\u001b[0m\u001b[0;34m\u001b[0m\u001b[0;34m\u001b[0m\u001b[0m\n\u001b[0m\u001b[1;32m      7\u001b[0m \u001b[0mbincenters\u001b[0m \u001b[0;34m=\u001b[0m \u001b[0;36m0.5\u001b[0m\u001b[0;34m*\u001b[0m\u001b[0;34m(\u001b[0m\u001b[0mx\u001b[0m\u001b[0;34m[\u001b[0m\u001b[0;36m1\u001b[0m\u001b[0;34m:\u001b[0m\u001b[0;34m]\u001b[0m \u001b[0;34m+\u001b[0m \u001b[0mx\u001b[0m\u001b[0;34m[\u001b[0m\u001b[0;34m:\u001b[0m\u001b[0;34m-\u001b[0m\u001b[0;36m1\u001b[0m\u001b[0;34m]\u001b[0m\u001b[0;34m)\u001b[0m\u001b[0;34m\u001b[0m\u001b[0;34m\u001b[0m\u001b[0m\n\u001b[1;32m      8\u001b[0m \u001b[0max\u001b[0m\u001b[0;34m.\u001b[0m\u001b[0mplot\u001b[0m\u001b[0;34m(\u001b[0m\u001b[0mbincenters\u001b[0m\u001b[0;34m,\u001b[0m \u001b[0my1\u001b[0m\u001b[0;34m,\u001b[0m \u001b[0mlabel\u001b[0m\u001b[0;34m=\u001b[0m\u001b[0;34m'All Discharged'\u001b[0m\u001b[0;34m,\u001b[0m \u001b[0mc\u001b[0m\u001b[0;34m=\u001b[0m\u001b[0;34m'royalblue'\u001b[0m\u001b[0;34m)\u001b[0m\u001b[0;34m\u001b[0m\u001b[0;34m\u001b[0m\u001b[0m\n",
      "\u001b[0;31mNameError\u001b[0m: name 'discharged' is not defined"
     ]
    },
    {
     "data": {
      "image/png": "[encoded data removed]",
      "text/plain": [
       "<Figure size 525x375 with 1 Axes>"
      ]
     },
     "metadata": {
      "needs_background": "light"
     },
     "output_type": "display_data"
    }
   ],
   "source": [
    "##### plotting all discharged vs. SNe-heated discharged gas #####\n",
    "bins = 75\n",
    "fig, ax = plt.subplots(1,1,dpi=150, figsize=(3.5,2.5), constrained_layout=True) # change to dpi=300 for printout.\n",
    "\n",
    "# all discharged.\n",
    "y1, x = np.histogram(discharged.v_per_Vvir, bins=bins, weights=discharged.weight, range=(0, 4.0))\n",
    "bincenters = 0.5*(x[1:] + x[:-1])\n",
    "ax.plot(bincenters, y1, label='All Discharged', c='royalblue')\n",
    "\n",
    "# sne-heated discharge.\n",
    "y1, x = np.histogram(heated.v_per_Vvir, bins=bins, weights=heated.weight, range=(0, 4.0))\n",
    "bincenters = 0.5*(x[1:] + x[:-1])\n",
    "ax.plot(bincenters, y1, label='Heated', c='r')\n",
    "\n",
    "\n",
    "# labels, axis scaling, etc.\n",
    "ax.legend(frameon=False, fontsize='8')\n",
    "\n",
    "ax.set_title('Radial Velocities of Discharged and Hot Discharged Gas', fontsize='medium')\n",
    "ax.set_xlabel(r'$v/V_{vir}$')\n",
    "ax.set_ylabel('Fraction Discharged Mass')\n",
    "# ax.set_xlim(-50,150)\n",
    "# ax.set_ylim(0,0.2)\n",
    "\n",
    "ax.xaxis.set_minor_locator(mpl.ticker.MultipleLocator(0.1e10))\n",
    "ax.yaxis.set_minor_locator(mpl.ticker.MultipleLocator(0.01))\n",
    " \n",
    "ax.ticklabel_format(axis=\"y\", style=\"plain\",scilimits=(0,0))\n",
    "ax.tick_params(direction='in',which='both',right=True,top=True)\n",
    "ax.grid(alpha=0.4, zorder=-1000)\n",
    "\n",
    "# plt.savefig('plots/theta_allsats_stacked.pdf')\n",
    "\n",
    "\n",
    "\n",
    "\n",
    "##### plotting all discharged vs. gas pre-discharge #####\n",
    "bins = 75\n",
    "fig, ax = plt.subplots(1,1,dpi=150, figsize=(3.5,2.5), constrained_layout=True) # change to dpi=300 for printout.\n",
    "\n",
    "\n",
    "# predischarged.\n",
    "y1, x = np.histogram(predischarged.v_per_Vvir, bins=bins, weights=predischarged.weight, range=(0, 4.0))\n",
    "bincenters = 0.5*(x[1:] + x[:-1])\n",
    "ax.plot(bincenters, y1, label='Predischarged', c='midnightblue')\n",
    "\n",
    "# all discharged.\n",
    "y1, x = np.histogram(discharged.v_per_Vvir, bins=bins, weights=discharged.weight, range=(0, 4.0))\n",
    "bincenters = 0.5*(x[1:] + x[:-1])\n",
    "ax.plot(bincenters, y1, label='All Discharged', c='dodgerblue')\n",
    "\n",
    "\n",
    "# labels, axis scaling, etc.\n",
    "ax.legend(frameon=False, fontsize='8')\n",
    "\n",
    "ax.set_title('Radial Velocities of Discharged and Predischarged Gas', fontsize='medium')\n",
    "ax.set_xlabel(r'$v/V_{vir}$')\n",
    "ax.set_ylabel('Fraction Discharged Mass')\n",
    "# ax.set_xlim(-50,150)\n",
    "# ax.set_ylim(0,0.2)\n",
    "\n",
    "# ax.xaxis.set_minor_locator(mpl.ticker.MultipleLocator(0.05e10))\n",
    "# ax.yaxis.set_minor_locator(mpl.ticker.MultipleLocator(0.01))\n",
    " \n",
    "ax.ticklabel_format(axis=\"y\", style=\"plain\",scilimits=(0,0))\n",
    "ax.tick_params(direction='in',which='both',right=True,top=True)\n",
    "ax.grid(alpha=0.4, zorder=-1000)\n",
    "\n",
    "# plt.savefig('plots/theta_allsats_stacked.pdf')\n",
    "\n",
    "\n",
    "\n",
    "\n",
    "##### plotting SNe-heated pre-discharged vs. SNe-heated discharged gas #####\n",
    "bins = 75\n",
    "fig, ax = plt.subplots(1,1,dpi=150, figsize=(3.5,2.5), constrained_layout=True) # change to dpi=300 for printout.\n",
    "\n",
    "\n",
    "# sne-heated pre-discharge.\n",
    "y1, x = np.histogram(preheated.v_per_Vvir, bins=bins, weights=preheated.weight, range=(0, 4.0))\n",
    "bincenters = 0.5*(x[1:] + x[:-1])\n",
    "ax.plot(bincenters, y1, label='Preheated', c='darkred')\n",
    "\n",
    "# sne-heated discharge.\n",
    "y1, x = np.histogram(heated.v_per_Vvir, bins=bins, weights=heated.weight, range=(0, 4.0))\n",
    "bincenters = 0.5*(x[1:] + x[:-1])\n",
    "ax.plot(bincenters, y1, label='Heated', c='r')\n",
    "\n",
    "\n",
    "# labels, axis scaling, etc.\n",
    "ax.legend(frameon=False, fontsize='8')\n",
    "\n",
    "ax.set_title('Radial Velocities of Hot Pre-discharge and Hot Discharged Gas', fontsize='medium')\n",
    "ax.set_xlabel(r'$v/V_{vir}$')\n",
    "ax.set_ylabel('Fraction Discharged Mass')\n",
    "# ax.set_xlim(-50,150)\n",
    "# ax.set_ylim(0,0.2)\n",
    "\n",
    "ax.xaxis.set_minor_locator(mpl.ticker.MultipleLocator(0.05e10))\n",
    "ax.yaxis.set_minor_locator(mpl.ticker.MultipleLocator(0.01))\n",
    " \n",
    "ax.ticklabel_format(axis=\"y\", style=\"plain\",scilimits=(0,0))\n",
    "ax.tick_params(direction='in',which='both',right=True,top=True)\n",
    "ax.grid(alpha=0.4, zorder=-1000)\n",
    "\n",
    "# plt.savefig('plots/theta_allsats_stacked.pdf')\n",
    "\n",
    "plt.show()"
   ]
  },
  {
   "cell_type": "markdown",
   "id": "bd47cbd0",
   "metadata": {},
   "source": [
    "\n",
    "All particles are moving out from the center of the satellites nearly uniformly. This uniformity between datasets, particularly between pre- and post-discharge... perhaps because measurements of the gas before discharge are more often than not made of the gas when it is on an exit trajectory --- this is to say, just because gas is in its satellite's disk at one timestep and not at the next (for this was the way discharged particles were located), does not mean the stripping of the particle from the satellite only occured in that short timeframe.\n",
    "\n",
    "We should expect to see the same trend with escape velocity ratios below."
   ]
  },
  {
   "cell_type": "markdown",
   "id": "784df92f",
   "metadata": {},
   "source": [
    "### Comparing Radial Velocities ($v_{esc}$)<a class=\"anchor\" id=\"velocities\"></a>\n",
    "\n",
    "We first start scaling velocities according to $v_{eff} = v/v_{esc}$, where we can calculate the escape velocity for each particle by the familiar relation\n",
    "$$\n",
    "v_{esc} = \\sqrt{\\frac{2GM}{r}},\n",
    "$$\n",
    "where $G$ is the gravitational constant, $M$ is the mass contained within $R_{vir}$ of the respective satellite (again, stored in the key `sat_Mvir`), and $r$ is the radial position of the particle (key `r`)."
   ]
  },
  {
   "cell_type": "code",
   "execution_count": 81,
   "id": "93106efa",
   "metadata": {},
   "outputs": [],
   "source": [
    "# grav constant in units of km**3 Msol**-1 s**-2.\n",
    "G = c.G.to('kpc3 / (M_sun Gyr2)') # seems to give more reasonable results than any other?????\n",
    "\n",
    "#### What if the problem here is that mass and radius are given in m_sol and kpc, but our actual velocities from\n",
    "#### the simulations are in units of km**3 Msol**-1 s**-2 ??????"
   ]
  },
  {
   "cell_type": "code",
   "execution_count": 82,
   "id": "24da8d9b",
   "metadata": {},
   "outputs": [],
   "source": [
    "# compiling escape velocities for each particle's respective satellite.\n",
    "pre_vesc = np.sqrt(2 * G * predischarged.sat_Mvir / predischarged.r)\n",
    "all_vesc = np.sqrt(2 * G * discharged.sat_Mvir / discharged.r)\n",
    "acc_vesc = np.sqrt(2 * G * accreted.sat_Mvir / accreted.r)\n",
    "hpre_vesc = np.sqrt(2 * G * preheated.sat_Mvir / preheated.r)\n",
    "hot_vesc = np.sqrt(2 * G * heated.sat_Mvir / heated.r)\n",
    "\n",
    "\n",
    "# creating callable key effective velocity.\n",
    "predischarged['v_per_Vesc'] = predischarged.v / pre_vesc\n",
    "\n",
    "discharged['v_per_Vesc'] = discharged.v / all_vesc\n",
    "\n",
    "accreted['v_per_Vesc'] = accreted.v / acc_vesc\n",
    "\n",
    "preheated['v_per_Vesc'] = preheated.v / hpre_vesc\n",
    "\n",
    "heated['v_per_Vesc'] = heated.v / hot_vesc"
   ]
  },
  {
   "cell_type": "code",
   "execution_count": 85,
   "id": "4dc711a8",
   "metadata": {},
   "outputs": [
    {
     "data": {
      "image/png": "[encoded data removed]",
      "text/plain": [
       "<Figure size 525x375 with 1 Axes>"
      ]
     },
     "metadata": {
      "needs_background": "light"
     },
     "output_type": "display_data"
    },
    {
     "data": {
      "image/png": "[encoded data removed]",
      "text/plain": [
       "<Figure size 525x375 with 1 Axes>"
      ]
     },
     "metadata": {
      "needs_background": "light"
     },
     "output_type": "display_data"
    },
    {
     "data": {
      "image/png": "[encoded data removed]",
      "text/plain": [
       "<Figure size 525x375 with 1 Axes>"
      ]
     },
     "metadata": {
      "needs_background": "light"
     },
     "output_type": "display_data"
    }
   ],
   "source": [
    "##### plotting all discharged vs. SNe-heated discharged gas #####\n",
    "bins = 75\n",
    "fig, ax = plt.subplots(1,1,dpi=150, figsize=(3.5,2.5), constrained_layout=True) # change to dpi=300 for printout.\n",
    "\n",
    "# all discharged.\n",
    "y1, x = np.histogram(discharged.v_per_Vesc, bins=bins, weights=discharged.weight, range=(0, 2.0))\n",
    "bincenters = 0.5*(x[1:] + x[:-1])\n",
    "ax.plot(bincenters, y1, label='All Discharged', c='royalblue')\n",
    "\n",
    "# sne-heated discharge.\n",
    "y1, x = np.histogram(heated.v_per_Vesc, bins=bins, weights=heated.weight, range=(0, 2.0))\n",
    "bincenters = 0.5*(x[1:] + x[:-1])\n",
    "ax.plot(bincenters, y1, label='Heated', c='r')\n",
    "\n",
    "\n",
    "# labels, axis scaling, etc.\n",
    "ax.legend(frameon=False, fontsize='8')\n",
    "\n",
    "ax.set_title('Radial Velocities of Discharged and Hot Discharged Gas', fontsize='medium')\n",
    "ax.set_xlabel(r'$v/V_{esc}$')\n",
    "ax.set_ylabel('Fraction Discharged Mass')\n",
    "# ax.set_xlim(-50,150)\n",
    "# ax.set_ylim(0,0.2)\n",
    "\n",
    "ax.xaxis.set_minor_locator(mpl.ticker.MultipleLocator(0.1e10))\n",
    "ax.yaxis.set_minor_locator(mpl.ticker.MultipleLocator(0.01))\n",
    " \n",
    "ax.ticklabel_format(axis=\"y\", style=\"plain\",scilimits=(0,0))\n",
    "ax.tick_params(direction='in',which='both',right=True,top=True)\n",
    "ax.grid(alpha=0.4, zorder=-1000)\n",
    "\n",
    "# plt.savefig('plots/theta_allsats_stacked.pdf')\n",
    "\n",
    "\n",
    "\n",
    "\n",
    "##### plotting all discharged vs. gas pre-discharge #####\n",
    "bins = 75\n",
    "fig, ax = plt.subplots(1,1,dpi=150, figsize=(3.5,2.5), constrained_layout=True) # change to dpi=300 for printout.\n",
    "\n",
    "\n",
    "# predischarged.\n",
    "y1, x = np.histogram(predischarged.v_per_Vesc, bins=bins, weights=predischarged.weight, range=(0, 2.0))\n",
    "bincenters = 0.5*(x[1:] + x[:-1])\n",
    "ax.plot(bincenters, y1, label='Predischarged', c='midnightblue')\n",
    "\n",
    "# all discharged.\n",
    "y1, x = np.histogram(discharged.v_per_Vesc, bins=bins, weights=discharged.weight, range=(0, 2.0))\n",
    "bincenters = 0.5*(x[1:] + x[:-1])\n",
    "ax.plot(bincenters, y1, label='All Discharged', c='dodgerblue')\n",
    "\n",
    "\n",
    "# labels, axis scaling, etc.\n",
    "ax.legend(frameon=False, fontsize='8')\n",
    "\n",
    "ax.set_title('Radial Velocities of Discharged and Predischarged Gas', fontsize='medium')\n",
    "ax.set_xlabel(r'$v/V_{esc}$')\n",
    "ax.set_ylabel('Fraction Discharged Mass')\n",
    "# ax.set_xlim(-50,150)\n",
    "# ax.set_ylim(0,0.2)\n",
    "\n",
    "ax.xaxis.set_minor_locator(mpl.ticker.MultipleLocator(0.05e10))\n",
    "ax.yaxis.set_minor_locator(mpl.ticker.MultipleLocator(0.01))\n",
    " \n",
    "ax.ticklabel_format(axis=\"y\", style=\"plain\",scilimits=(0,0))\n",
    "ax.tick_params(direction='in',which='both',right=True,top=True)\n",
    "ax.grid(alpha=0.4, zorder=-1000)\n",
    "\n",
    "# plt.savefig('plots/theta_allsats_stacked.pdf')\n",
    "\n",
    "\n",
    "\n",
    "\n",
    "##### plotting SNe-heated pre-discharged vs. SNe-heated discharged gas #####\n",
    "bins = 75\n",
    "fig, ax = plt.subplots(1,1,dpi=150, figsize=(3.5,2.5), constrained_layout=True) # change to dpi=300 for printout.\n",
    "\n",
    "\n",
    "# sne-heated pre-discharge.\n",
    "y1, x = np.histogram(preheated.v_per_Vesc, bins=bins, weights=preheated.weight, range=(0, 2.0))\n",
    "bincenters = 0.5*(x[1:] + x[:-1])\n",
    "ax.plot(bincenters, y1, label='Preheated', c='darkred')\n",
    "\n",
    "# sne-heated discharge.\n",
    "y1, x = np.histogram(heated.v_per_Vesc, bins=bins, weights=heated.weight, range=(0, 2.0))\n",
    "bincenters = 0.5*(x[1:] + x[:-1])\n",
    "ax.plot(bincenters, y1, label='Heated', c='r')\n",
    "\n",
    "\n",
    "# labels, axis scaling, etc.\n",
    "ax.legend(frameon=False, fontsize='8')\n",
    "\n",
    "ax.set_title('Radial Velocities of Hot Pre-discharge and Hot Discharged Gas', fontsize='medium')\n",
    "ax.set_xlabel(r'$v/V_{esc}$')\n",
    "ax.set_ylabel('Fraction Discharged Mass')\n",
    "# ax.set_xlim(-50,150)\n",
    "# ax.set_ylim(0,0.2)\n",
    "\n",
    "ax.xaxis.set_minor_locator(mpl.ticker.MultipleLocator(0.05e10))\n",
    "ax.yaxis.set_minor_locator(mpl.ticker.MultipleLocator(0.01))\n",
    " \n",
    "ax.ticklabel_format(axis=\"y\", style=\"plain\",scilimits=(0,0))\n",
    "ax.tick_params(direction='in',which='both',right=True,top=True)\n",
    "ax.grid(alpha=0.4, zorder=-1000)\n",
    "\n",
    "# plt.savefig('plots/theta_allsats_stacked.pdf')\n",
    "\n",
    "plt.show()"
   ]
  },
  {
   "cell_type": "markdown",
   "id": "b8ad8f25",
   "metadata": {},
   "source": [
    "Well, based on observations for plotted ratios $v/V_{vir}$, the first plot is as we expect. However, for the second two, we see greater distinction between the pre- and post-discharge datasets with a greater portion of discharged particles having higher effective velocities than their predischarged counterparts."
   ]
  },
  {
   "cell_type": "markdown",
   "id": "e1f77787",
   "metadata": {},
   "source": [
    "## Fractions of SNe-heated ejecta per $R_{eff}$ <a class=\"anchor\" id=\"fractional\"></a>\n",
    "\n",
    "____\n",
    "____\n",
    "\n",
    "In this section, we commit to determining the fraction of all discharged gas that is SNe-heated at different effective distances $R_{eff}$ (from the center of a particle's satellite galaxy) which we will define in this treatment as\n",
    "$$\n",
    "    R_{eff} = r/R_{vir},\n",
    "$$\n",
    "where $r$ is the radial distance of the particle from its respective satellite galaxy (stored in the callable key `r`), and $R_{vir}$ is the virial radius of said satellite designated by `r_Rvir` for each gas set. Then for each value $R_{eff}$, the fraction of SNe-heated discharged gas out of all discharged gas is computed.\n",
    "\n",
    "[We also perform such analysis to determine the fraction of ram pressure-stripped gas to the total of discharged gas at each $r/R_{vir}$.This is then used to gauge whether SNe feedback may be engaging on its own, or if it is also acting alongside ram pressure stripping.] *Implementation coming*\n",
    "\n",
    "### Fraction SNe-heated per $R_{eff}$ <a class=\"anchor\" id=\"fractionsne\"></a>\n"
   ]
  },
  {
   "cell_type": "code",
   "execution_count": null,
   "id": "f99452c5",
   "metadata": {
    "scrolled": false
   },
   "outputs": [],
   "source": [
    "#ejected, cooled, expelled, accreted = read_all_ejected_expelled()\n",
    "predischarged, discharged, accreted, preheated, heated = read_discharged()"
   ]
  },
  {
   "cell_type": "code",
   "execution_count": null,
   "id": "2a4c67c0",
   "metadata": {},
   "outputs": [],
   "source": [
    "# recalling weight attributes for plotting.\n",
    "predischarged['weight'] = predischarged['mass'] / predischarged['mass'].sum()\n",
    "\n",
    "discharged['weight'] = discharged['mass'] / discharged['mass'].sum()\n",
    "\n",
    "accreted['weight'] = accreted['mass'] / accreted['mass'].sum()\n",
    "\n",
    "preheated['weight'] = preheated['mass'] / preheated['mass'].sum()\n",
    "\n",
    "heated['weight'] = heated['mass'] / heated['mass'].sum()"
   ]
  },
  {
   "cell_type": "code",
   "execution_count": null,
   "id": "7009c32a",
   "metadata": {},
   "outputs": [],
   "source": [
    "# data has precalculated key 'r_per_Rvir' that we will use for our position computations; we unpack it here.\n",
    "pre_rR = predischarged.r_per_Rvir\n",
    "all_rR = discharged.r_per_Rvir\n",
    "acc_rR = accreted.r_per_Rvir\n",
    "preh_rR = preheated.r_per_Rvir\n",
    "hot_rR = heated.r_per_Rvir"
   ]
  },
  {
   "cell_type": "code",
   "execution_count": null,
   "id": "e951250d",
   "metadata": {},
   "outputs": [],
   "source": [
    "bins = 100\n",
    "rangemax = 1.0\n",
    "\n",
    "# assigning particles in each set to equal sets of bins.\n",
    "_all, x = np.histogram(all_rR, bins=bins, range=(0,rangemax))\n",
    "\n",
    "_hot, x = np.histogram(hot_rR, bins=bins, range=(0,rangemax))\n",
    "\n",
    "\n",
    "# computing fraction hot/all for each bin.\n",
    "sne_ratio = np.array([])\n",
    "\n",
    "for i in range(0, bins):\n",
    "    ratio = _hot[i]/_all[i]\n",
    "    sne_ratio = np.append(sne_ratio, ratio)\n",
    "    i += 1\n",
    "    \n",
    "\n",
    "\n",
    "\n",
    "### plotting fractions hot/all at different r/Rvir. ###\n",
    "fig, ax1 = plt.subplots(1,1,dpi=200, figsize=(3.5,2.5), constrained_layout=True) # change to dpi=300 for printout.\n",
    "\n",
    "# fraction sne/all.\n",
    "bincenters = 0.5*(x[1:] + x[:-1])\n",
    "ax1.plot(bincenters, sne_ratio, label='SNe/All', c='r', zorder=-1000)\n",
    "\n",
    "ax1.set_xlabel(r'$r/R_{vir}$')\n",
    "ax1.set_ylabel('\\% SNe-heated')\n",
    "ax1.tick_params(axis ='y') \n",
    "\n",
    "\n",
    "# original sne, all distributions; adding twin axes to plot.\n",
    "ax2 = ax1.twinx()\n",
    "\n",
    "bins=100\n",
    "y1, x = np.histogram(hot_rR, bins=bins, weights=heated.weight, range=(0,rangemax))\n",
    "bincenters = 0.5*(x[1:] + x[:-1])\n",
    "ax2.plot(bincenters, y1, label='Heated', c='tab:red', alpha=0.3, zorder = -1)\n",
    "\n",
    "y1, x = np.histogram(all_rR, bins=bins, weights=discharged.weight, range=(0,rangemax))\n",
    "bincenters = 0.5*(x[1:] + x[:-1])\n",
    "ax2.plot(bincenters, y1, label='All Discharged', c='b', alpha=0.3, zorder=-1)\n",
    "\n",
    "\n",
    "ax2.set_ylabel('Fraction Discharged Mass')  \n",
    "ax2.tick_params(axis ='y') \n",
    "\n",
    "\n",
    "# labels, axis scaling, etc.\n",
    "ax2.legend(frameon=False, fontsize='8')\n",
    "\n",
    "ax1.set_title('Fraction SNe-heated at Different $R_{eff}$', fontsize='medium')\n",
    "# ax1.set_xlim(0,0.6)\n",
    "# ax1.set_ylim(-0.1,0.7)\n",
    "# ax2.set_ylim(-0.005,0.1)\n",
    "\n",
    "\n",
    "# ax1.xaxis.set_minor_locator(mpl.ticker.MultipleLocator(0.02))\n",
    "# ax1.yaxis.set_minor_locator(mpl.ticker.MultipleLocator(0.05))\n",
    "# ax2.yaxis.set_minor_locator(mpl.ticker.MultipleLocator(0.01))\n",
    "\n",
    "ax1.ticklabel_format(axis=\"y\", style=\"plain\",scilimits=(0,0))\n",
    "# ax1.tick_params(direction='in',which='both',right=True,top=True)\n",
    "ax1.grid(alpha=0.4, zorder=-1000)\n",
    "\n",
    "# plt.savefig('plots/theta_allsats_stacked.pdf')"
   ]
  },
  {
   "cell_type": "markdown",
   "id": "5d3a3dc5",
   "metadata": {},
   "source": [
    "\n",
    "\n",
    "### Fraction Ram Pressure-stripped per $r/R_{vir}$ <a class=\"anchor\" id=\"fractionram\"></a>\n",
    "\n"
   ]
  },
  {
   "cell_type": "code",
   "execution_count": null,
   "id": "8924ab70",
   "metadata": {},
   "outputs": [],
   "source": [
    "# saving for later."
   ]
  },
  {
   "cell_type": "code",
   "execution_count": null,
   "id": "b3a86121",
   "metadata": {},
   "outputs": [],
   "source": []
  },
  {
   "cell_type": "markdown",
   "id": "118fe2df",
   "metadata": {},
   "source": [
    "## Accretion of Discharged Gas <a class=\"anchor\" id=\"accretion\"></a>\n",
    "\n",
    "Answering the question of what fraction of discharged gas returns to its respective satellite galaxy's disk after expulsion. Furthermore, however, we determine what fraction of sne heated gas indeed returns to the disk.\n",
    "\n",
    "Of course, our study here hinges on many dependencies: For one, results here depend entirely on how we count gas particle accretion. In the first stage of the analysis here, we simply look at the timestep* after a particle has been discharaged; if it has returned to its satellite's disk in the timestep after discharge, then we count it as being accreted. \n",
    "\n",
    "Analysis to be performed later on will require looking at all timesteps (or some yet to be defined 'sufficient number') to determine if the particle is ever accreted, since the original approach ignores the potential for accretion more than one timestep after discharge.\n",
    "\n",
    "Let us start out simply by finding the ratio \n",
    "$$\n",
    "    \\frac{\\# \\ accreted}{\\# \\ discharged}\n",
    "$$\n",
    "where we only count unique accretion and discharge events (any particle that is repeatedly discharged and accreted is only counted once).\n",
    "\n",
    "--\n",
    "\n",
    "*Note that each step in time is defined to be 1 Gigayear.\n"
   ]
  },
  {
   "cell_type": "code",
   "execution_count": null,
   "id": "18b390ab",
   "metadata": {},
   "outputs": [],
   "source": [
    "# pulling out a subset of 'discharged' containing those discharged particles with pids that match the pids of those\n",
    "# in 'accreted'; calling it 'accdis'; the masking technique.\n",
    "\n",
    "# Ids of preheated\n",
    "x = np.array(discharged['pid'])\n",
    "# Ids of discharged, SNe heated gas\n",
    "y = np.array(accreted['pid'])\n",
    "\n",
    "index = np.argsort(x)\n",
    "sorted_x = x[index] # Sorted list of ids pre discharged                        \n",
    "sorted_index = np.searchsorted(sorted_x, y)\n",
    "yindex = np.take(index, sorted_index, mode=\"clip\")\n",
    "mask = x[yindex] != y\n",
    "result = np.ma.array(yindex, mask=mask)\n",
    "accdis = discharged.iloc[result[~result.mask].data]"
   ]
  },
  {
   "cell_type": "code",
   "execution_count": null,
   "id": "1f85cf79",
   "metadata": {},
   "outputs": [],
   "source": [
    "# looking for unique pids so that we don't doublecount particles that are discharged and accreted several times.\n",
    "\n",
    "# ...for unique accreted...\n",
    "m = np.zeros_like(accreted.pid, dtype=bool)\n",
    "m[np.unique(accreted.pid, return_index=True)[1]] = True\n",
    "acc_unique = accreted.pid[~m]\n",
    "\n",
    "# ...for unique discharged...\n",
    "m = np.zeros_like(discharged.pid, dtype=bool)\n",
    "m[np.unique(discharged.pid, return_index=True)[1]] = True\n",
    "dis_unique = discharged.pid[~m]\n",
    "\n",
    "# computing percent accretion:\n",
    "# print('According to the simulation data here collected,', \"%.2f\" % round(100 * len(acc_unique)/len(dis_unique),2),\\\n",
    "#       'percent of uniquely discharged particles are accreted back \\n onto their respective satellite\\'s halo/disk...' )\n",
    "\n",
    "print('According to simulation data,', \"%.2f\" % round(100 * len(accreted)/len(discharged),2),\\\n",
    "      'percent of all discharged particles are accreted.' )"
   ]
  },
  {
   "cell_type": "code",
   "execution_count": null,
   "id": "f0fbd764",
   "metadata": {},
   "outputs": [],
   "source": [
    "# pulling out a subset of 'accreted' containing particles that were SNe-heated when discharged.\n",
    "\n",
    "# Ids of preheated\n",
    "x = np.array(accreted['pid'])\n",
    "# Ids of discharged, SNe heated gas\n",
    "y = np.array(heated['pid'])\n",
    "\n",
    "index = np.argsort(x)\n",
    "sorted_x = x[index] # Sorted list of ids pre discharged                        \n",
    "sorted_index = np.searchsorted(sorted_x, y)\n",
    "yindex = np.take(index, sorted_index, mode=\"clip\")\n",
    "mask = x[yindex] != y\n",
    "result = np.ma.array(yindex, mask=mask)\n",
    "accheated = accreted.iloc[result[~result.mask].data]"
   ]
  },
  {
   "cell_type": "code",
   "execution_count": null,
   "id": "5add511b",
   "metadata": {},
   "outputs": [],
   "source": [
    "s = np.sort(heated.pid, axis=None)\n",
    "x = s[:-1][s[1:] == s[:-1]]\n",
    "\n",
    "s = np.sort(accheated.pid, axis=None)\n",
    "y = s[:-1][s[1:] == s[:-1]]\n",
    "\n",
    "len(x),len(y)"
   ]
  },
  {
   "cell_type": "code",
   "execution_count": null,
   "id": "dc773129",
   "metadata": {
    "scrolled": true
   },
   "outputs": [],
   "source": [
    "# what about for heated particles?\n",
    "\n",
    "# ...for unique accreted...\n",
    "m = np.zeros_like(accheated.pid, dtype=bool)\n",
    "m[np.unique(accheated.pid, return_index=True)[1]] = True\n",
    "acc_unique = accheated.pid[~m]\n",
    "\n",
    "# ...for unique heated...\n",
    "m = np.zeros_like(heated.pid, dtype=bool)\n",
    "m[np.unique(heated.pid, return_index=True)[1]] = True\n",
    "hot_unique = heated.pid[~m]\n",
    "\n",
    "# computing percent accretion:\n",
    "# print('In the case of SNe-heated gas,', \"%.2f\" % round(100 * len(acc_unique)/len(hot_unique),2),\\\n",
    "#       'percent of uniquely discharged particles are accreted...' )\n",
    "\n",
    "print('In the case of SNe-heated gas,', \"%.2f\" % round(100 * len(accheated)/len(heated),2),\\\n",
    "      'percent of all heated particles are accreted.' )"
   ]
  },
  {
   "cell_type": "markdown",
   "id": "ef616239",
   "metadata": {},
   "source": [
    "According to simulation data, 22.51 percent of all discharged particles are accreted.\n",
    "In the case of SNe-heated gas, 47.58 percent of all heated particles are accreted.\n",
    "\n",
    "Very interesting indeed. We certainly see that as might be expected, a greater percentage of SNe-heated discharged particles are accreted since these tend to stick closer to the center of their satellite host. However, in general, these percentages are notably low, indicative of the quenching we would expect to see?\n",
    "\n",
    "--\n",
    "\n",
    "Let us now consider the accretion rates for gas at different $R_{eff}$:"
   ]
  },
  {
   "cell_type": "code",
   "execution_count": null,
   "id": "7240d4aa",
   "metadata": {},
   "outputs": [],
   "source": [
    "# coming soon."
   ]
  },
  {
   "cell_type": "code",
   "execution_count": null,
   "id": "2ca212ca",
   "metadata": {},
   "outputs": [],
   "source": []
  },
  {
   "cell_type": "markdown",
   "id": "818c9b84",
   "metadata": {},
   "source": [
    "## Code Testing <a class=\"anchor\" id=\"proving\"></a>\n",
    "\n",
    "Testing out different data types and computations."
   ]
  },
  {
   "cell_type": "code",
   "execution_count": null,
   "id": "8f48fe90",
   "metadata": {},
   "outputs": [],
   "source": [
    "# computing radial bins; i.e. radii of rings of equal area.\n",
    "\n",
    "# def radialbins(particles, bincount=50, max=False):\n",
    "#     if max == False:\n",
    "#         outer1 = particles.r_per_Rvir.max()/bincount\n",
    "#     else:\n",
    "#         outer1 = max/bincount\n",
    "    \n",
    "#     area = np.pi * (outer1)**2\n",
    "#     bins = np.array([max/bincount])\n",
    "    \n",
    "#     for i in range(1, bincount-1):\n",
    "#         outer = np.sqrt((i+1) * area / np.pi)\n",
    "#         bins = np.append(bins, outer)\n",
    "#         i += 1\n",
    "        \n",
    "#     return bins\n",
    "\n",
    "\n",
    "# the above version does not give bins up to the maximum that we want, so we opt for this version below instead.\n",
    "def radialbins(particles, bincount=50, max=False):\n",
    "    if max == False:\n",
    "        totalrad = particles.r_per_Rvir.max()\n",
    "    else:\n",
    "        totalrad = max\n",
    "    \n",
    "    bins = np.array([totalrad/bincount])\n",
    "    \n",
    "    for i in range(1, bincount):\n",
    "        outer = totalrad * np.sqrt(i / bincount)\n",
    "        bins = np.append(bins, outer)\n",
    "        i += 1\n",
    "        \n",
    "    return bins"
   ]
  },
  {
   "cell_type": "code",
   "execution_count": null,
   "id": "e3746a3e",
   "metadata": {
    "scrolled": true
   },
   "outputs": [],
   "source": [
    "bincount = 75\n",
    "bins = radialbins(discharged, bincount, 0.2)\n",
    "\n",
    "### plotting heated r/Rvir alongside all discharged r/Rvir using the bining design defined above. ###\n",
    "fig, ax = plt.subplots(1,1,dpi=150, figsize=(3.5,2.5), constrained_layout=True) # change to dpi=300 for printout.\n",
    "\n",
    "\n",
    "y1, x = np.histogram(hot_rR, bins=bins, weights=heated.weight)\n",
    "bincenters = 0.5*(x[1:] + x[:-1])\n",
    "ax.plot(bincenters, y1, label='Heated', c='r')\n",
    "\n",
    "y1, x = np.histogram(all_rR, bins=bins, weights=discharged.weight)\n",
    "bincenters = 0.5*(x[1:] + x[:-1])\n",
    "ax.plot(bincenters, y1, label='All Discharged', c='b')\n",
    "\n",
    "\n",
    "# labels, axis scaling, etc.\n",
    "ax.legend(frameon=False, fontsize='8')\n",
    "\n",
    "ax.set_title('Fraction Discharged Gas SNe-heated', fontsize='medium')\n",
    "ax.set_xlabel(r'$r/R_{vir}$')\n",
    "ax.set_ylabel('Fraction Discharged Mass')\n",
    "ax.set_xlim(0,0.2)\n",
    "ax.set_ylim(0,0.06)\n",
    "\n",
    "ax.xaxis.set_minor_locator(mpl.ticker.MultipleLocator(0.01))\n",
    "ax.yaxis.set_minor_locator(mpl.ticker.MultipleLocator(0.005))\n",
    "\n",
    "ax.ticklabel_format(axis=\"y\", style=\"plain\",scilimits=(0,0))\n",
    "ax.tick_params(direction='in',which='both',right=True,top=True)\n",
    "ax.grid(alpha=0.4, zorder=-1000)\n",
    "\n",
    "# plt.savefig('plots/theta_allsats_stacked.pdf')"
   ]
  },
  {
   "cell_type": "markdown",
   "id": "f4bd3180",
   "metadata": {},
   "source": [
    "This binning strategy appears to work much better than when using numpy's standard binning technique; we will stick with this moving forward and confirm that it is a reasonable approach to take by making the above plot from the beginning of this notebook.\n",
    "\n",
    "We now compute the fractions of discharged particles that were SNe-heated for each bin, and plot these fractions just as was done above for 'mass fractions.'"
   ]
  },
  {
   "cell_type": "code",
   "execution_count": null,
   "id": "d4697e20",
   "metadata": {
    "scrolled": true
   },
   "outputs": [],
   "source": [
    "bincount = 50\n",
    "rangemax = 1.0\n",
    "\n",
    "bins = radialbins(discharged, bincount, rangemax)\n",
    "bincenters = 0.5*(bins[1:] + bins[:-1])\n",
    "\n",
    "\n",
    "# assigning particles in each set to equal sets of bins.\n",
    "_all, x = np.histogram(all_rR, bins=bins)\n",
    "\n",
    "_hot, x = np.histogram(hot_rR, bins=bins)\n",
    "\n",
    "# computing fraction hot/all for each bin.\n",
    "sne_ratio = np.array([])\n",
    "\n",
    "for i in range(0, bincount-1):\n",
    "    ratio = _hot[i]/_all[i]\n",
    "    sne_ratio = np.append(sne_ratio, ratio)\n",
    "    i += 1\n",
    "    \n",
    "print(bins)\n",
    "\n",
    "\n",
    "### plotting fractions hot/all at different r/Rvir. ###\n",
    "fig, ax1 = plt.subplots(1,1,dpi=200, figsize=(3.5,2.5), constrained_layout=True) # change to dpi=300 for printout.\n",
    "\n",
    "# fraction sne/all.\n",
    "ax1.plot(bincenters, sne_ratio, label='SNe/All', c='r', zorder=-1000)\n",
    "\n",
    "ax1.set_xlabel(r'$r/R_{vir}$')\n",
    "ax1.set_ylabel('SNe / All')\n",
    "ax1.tick_params(axis ='y') \n",
    "\n",
    "\n",
    "# original sne, all distributions; adding twin axes to plot.\n",
    "ax2 = ax1.twinx()\n",
    "\n",
    "bins=100\n",
    "y1, x = np.histogram(hot_rR, bins=bins, weights=heated.weight, range=(0,rangemax))\n",
    "bincenters = 0.5*(x[1:] + x[:-1])\n",
    "ax2.plot(bincenters, y1, label='Heated', c='tab:red', alpha=0.3, zorder = -1)\n",
    "\n",
    "y1, x = np.histogram(all_rR, bins=bins, weights=discharged.weight, range=(0,rangemax))\n",
    "bincenters = 0.5*(x[1:] + x[:-1])\n",
    "ax2.plot(bincenters, y1, label='All Discharged', c='b', alpha=0.3, zorder=-1)\n",
    "\n",
    "\n",
    "ax2.set_ylabel('Fraction Discharged Mass')  \n",
    "ax2.tick_params(axis ='y') \n",
    "\n",
    "\n",
    "# labels, axis scaling, etc.\n",
    "ax2.legend(frameon=False, fontsize='8')\n",
    "\n",
    "ax1.set_title('Fraction of Discharged Gas SNe-heated at Different r/Rvir', fontsize='medium')\n",
    "ax1.set_xlim(0,0.6)\n",
    "# ax1.set_ylim(-0.1,0.7)\n",
    "ax2.set_ylim(-0.005,0.1)\n",
    "\n",
    "\n",
    "ax1.xaxis.set_minor_locator(mpl.ticker.MultipleLocator(0.02))\n",
    "ax1.yaxis.set_minor_locator(mpl.ticker.MultipleLocator(0.05))\n",
    "ax2.yaxis.set_minor_locator(mpl.ticker.MultipleLocator(0.01))\n",
    "\n",
    "ax1.ticklabel_format(axis=\"y\", style=\"plain\",scilimits=(0,0))\n",
    "# ax1.tick_params(direction='in',which='both',right=True,top=True)\n",
    "ax1.grid(alpha=0.4, zorder=-1000)\n",
    "\n",
    "# plt.savefig('plots/theta_allsats_stacked.pdf')"
   ]
  },
  {
   "cell_type": "markdown",
   "id": "1d6d2fc6",
   "metadata": {},
   "source": [
    "We calculate the same plot given above in the proceeding to compare the dynamic vs standard histogram binning. Evidently, the dynamic version would appear more useful."
   ]
  }
 ],
 "metadata": {
  "kernelspec": {
   "display_name": "Python 3 (ipykernel)",
   "language": "python",
   "name": "python3"
  },
  "language_info": {
   "codemirror_mode": {
    "name": "ipython",
    "version": 3
   },
   "file_extension": ".py",
   "mimetype": "text/x-python",
   "name": "python",
   "nbconvert_exporter": "python",
   "pygments_lexer": "ipython3",
   "version": "3.8.11"
  }
 },
 "nbformat": 4,
 "nbformat_minor": 5
}
