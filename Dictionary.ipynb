{
 "cells": [
  {
   "cell_type": "markdown",
   "id": "e872ef5a",
   "metadata": {},
   "source": [
    "## Python: Numpy, Pynbody, Pandas; Cheat Sheet\n",
    "`-- Leo Lonzarich, September 26 2021 --`\n",
    "\n",
    "### Table of Contents\n",
    "- [Vanilla Python](#vanilla)\n",
    "- [Numpy Pkg](#numpy)\n",
    "- [Pynbody Pkg](#pyn)\n",
    "- [Pandas Pkg](#pan)\n"
   ]
  },
  {
   "cell_type": "markdown",
   "id": "58abe94b",
   "metadata": {},
   "source": [
    "### Vanilla Python <a class=\"anchor\" id=\"vanilla\"></a>"
   ]
  },
  {
   "cell_type": "code",
   "execution_count": null,
   "id": "1bd8fba9",
   "metadata": {},
   "outputs": [],
   "source": [
    "%timeit # use before an operation to measure the amount of time it takes to complete\n",
    "\n"
   ]
  },
  {
   "cell_type": "markdown",
   "id": "5a469940",
   "metadata": {},
   "source": [
    "### Numpy Pkg <a class=\"anchor\" id=\"numpy\"></a>"
   ]
  },
  {
   "cell_type": "code",
   "execution_count": null,
   "id": "0d129059",
   "metadata": {},
   "outputs": [],
   "source": [
    "np.apply_along_axis(np.linalg.norm, 1, x) # find the magnitude of rows in a matrix.\n",
    "\n"
   ]
  },
  {
   "cell_type": "markdown",
   "id": "5f332d07",
   "metadata": {},
   "source": [
    "### Pynbody Pkg <a class=\"anchor\" id=\"pyn\"></a>\n",
    "\n",
    "Source Code: https://github.com/pynbody/pynbody\n",
    "\n",
    "User Manual: https://pynbody.github.io/pynbody/index.html"
   ]
  },
  {
   "cell_type": "code",
   "execution_count": null,
   "id": "823aab99",
   "metadata": {},
   "outputs": [],
   "source": [
    "#-----# For Halos #-----# (where f is a halo)\n",
    "\n",
    "f.gas.keys() # gives a list of attributes that can be called on particles. \n",
    "f.gas.derivable_keys() # gives a list of attributes of particles that can be calculated when called.(See pynbody sourcecode for more info.)\n",
    "\n",
    "f.gas['mass'].in_units('kg') # change the units of some quantity.\n"
   ]
  },
  {
   "cell_type": "markdown",
   "id": "1eed6b00",
   "metadata": {},
   "source": [
    "### Pandas Pkg <a class=\"anchor\" id=\"pan\"></a>"
   ]
  },
  {
   "cell_type": "code",
   "execution_count": null,
   "id": "357d54a5",
   "metadata": {},
   "outputs": [],
   "source": []
  }
 ],
 "metadata": {
  "kernelspec": {
   "display_name": "Python 3 (ipykernel)",
   "language": "python",
   "name": "python3"
  },
  "language_info": {
   "codemirror_mode": {
    "name": "ipython",
    "version": 3
   },
   "file_extension": ".py",
   "mimetype": "text/x-python",
   "name": "python",
   "nbconvert_exporter": "python",
   "pygments_lexer": "ipython3",
   "version": "3.8.11"
  }
 },
 "nbformat": 4,
 "nbformat_minor": 5
}
