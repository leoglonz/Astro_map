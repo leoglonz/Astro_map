{
 "cells": [
  {
   "cell_type": "markdown",
   "id": "e872ef5a",
   "metadata": {},
   "source": [
    "# Python: Numpy, Pynbody, Pandas; Cheat Sheet\n",
    "`-- Leo Lonzarich, September 26 2021 --`\n",
    "\n",
    "### Table of Contents\n",
    "- [Vanilla Python](#vanilla)\n",
    "- [Numpy Pkg](#numpy)\n",
    "- [Pynbody Pkg](#pyn)\n",
    "- [Pandas Pkg](#pan)\n"
   ]
  },
  {
   "cell_type": "markdown",
   "id": "58abe94b",
   "metadata": {},
   "source": [
    "### Vanilla Python <a class=\"anchor\" id=\"vanilla\"></a>"
   ]
  },
  {
   "cell_type": "code",
   "execution_count": 3,
   "id": "1bd8fba9",
   "metadata": {
    "scrolled": false
   },
   "outputs": [
    {
     "name": "stdout",
     "output_type": "stream",
     "text": [
      "10.1 ns ± 0.169 ns per loop (mean ± std. dev. of 7 runs, 100000000 loops each)\n"
     ]
    }
   ],
   "source": [
    "# use before an operation to measure the amount of time it takes to complete\n",
    "%timeit #single line\n",
    "%%timeit #entire box\n",
    "# or for a function foobar(x,y)\n",
    "timeit.timeit('foobar(x,y)', number=1000, globals = globals())"
   ]
  },
  {
   "cell_type": "code",
   "execution_count": null,
   "id": "0d7415f6",
   "metadata": {},
   "outputs": [],
   "source": [
    "bincount = 100\n",
    "bins = radialbins(discharged, bincount,1.0)\n",
    "\n",
    "# assigning particles in each set to equal sets of bins.\n",
    "_all, x = np.histogram(all_rR, bins=bins, weights=discharged.weight)\n",
    "\n",
    "_hot, x = np.histogram(hot_rR, bins=bins, weights=heated.weight)"
   ]
  },
  {
   "cell_type": "code",
   "execution_count": null,
   "id": "dc12ff82",
   "metadata": {},
   "outputs": [],
   "source": [
    "%%timeit\n",
    "\n",
    "sne_ratio = np.array([])\n",
    "\n",
    "for i in range(0, bincount-1):\n",
    "    ratio = _hot[i]/_all[i]\n",
    "    sne_ratio = np.append(sne_ratio, ratio)\n",
    "    i += 1\n",
    "\n",
    "sne_ratio"
   ]
  },
  {
   "cell_type": "code",
   "execution_count": null,
   "id": "44096f0a",
   "metadata": {},
   "outputs": [],
   "source": [
    "%%timeit\n",
    "\n",
    "sne_ratio = np.zeros(bincount)\n",
    "\n",
    "for i in range(0, 99):\n",
    "    ratio = _hot[i]/_all[i]\n",
    "    sne_ratio = np.append(sne_ratio, ratio)\n",
    "    i += 1\n",
    "\n",
    "sne_ratio"
   ]
  },
  {
   "cell_type": "markdown",
   "id": "5a469940",
   "metadata": {},
   "source": [
    "### Numpy Pkg <a class=\"anchor\" id=\"numpy\"></a>"
   ]
  },
  {
   "cell_type": "code",
   "execution_count": null,
   "id": "0d129059",
   "metadata": {},
   "outputs": [],
   "source": [
    "# find the magnitude of rows in a matrix.\n",
    "\n",
    "\n",
    "np.apply_along_axis(np.linalg.norm, 1, x)"
   ]
  },
  {
   "cell_type": "markdown",
   "id": "09513cfd",
   "metadata": {},
   "source": [
    "#### Masking:"
   ]
  },
  {
   "cell_type": "code",
   "execution_count": 4,
   "id": "eb42979a",
   "metadata": {},
   "outputs": [
    {
     "ename": "NameError",
     "evalue": "name 'np' is not defined",
     "output_type": "error",
     "traceback": [
      "\u001b[0;31m---------------------------------------------------------------------------\u001b[0m",
      "\u001b[0;31mNameError\u001b[0m                                 Traceback (most recent call last)",
      "\u001b[0;32m/tmp/ipykernel_60192/1434739657.py\u001b[0m in \u001b[0;36m<module>\u001b[0;34m\u001b[0m\n\u001b[1;32m      3\u001b[0m \u001b[0;34m\u001b[0m\u001b[0m\n\u001b[1;32m      4\u001b[0m \u001b[0;31m# Ids of preheated\u001b[0m\u001b[0;34m\u001b[0m\u001b[0;34m\u001b[0m\u001b[0;34m\u001b[0m\u001b[0m\n\u001b[0;32m----> 5\u001b[0;31m \u001b[0mx\u001b[0m \u001b[0;34m=\u001b[0m \u001b[0mnp\u001b[0m\u001b[0;34m.\u001b[0m\u001b[0marray\u001b[0m\u001b[0;34m(\u001b[0m\u001b[0mpreheated\u001b[0m\u001b[0;34m[\u001b[0m\u001b[0;34m'pid'\u001b[0m\u001b[0;34m]\u001b[0m\u001b[0;34m)\u001b[0m\u001b[0;34m\u001b[0m\u001b[0;34m\u001b[0m\u001b[0m\n\u001b[0m\u001b[1;32m      6\u001b[0m \u001b[0;31m# Ids of discharged, SNe heated gas\u001b[0m\u001b[0;34m\u001b[0m\u001b[0;34m\u001b[0m\u001b[0;34m\u001b[0m\u001b[0m\n\u001b[1;32m      7\u001b[0m \u001b[0my\u001b[0m \u001b[0;34m=\u001b[0m \u001b[0mnp\u001b[0m\u001b[0;34m.\u001b[0m\u001b[0marray\u001b[0m\u001b[0;34m(\u001b[0m\u001b[0mhot_discharged\u001b[0m\u001b[0;34m[\u001b[0m\u001b[0;34m'pid'\u001b[0m\u001b[0;34m]\u001b[0m\u001b[0;34m)\u001b[0m\u001b[0;34m\u001b[0m\u001b[0;34m\u001b[0m\u001b[0m\n",
      "\u001b[0;31mNameError\u001b[0m: name 'np' is not defined"
     ]
    }
   ],
   "source": [
    "# To sort the id tags of a data set, and then pick out the members of another data set that have matching identifiers.\n",
    "# can also be used to pick out and remove repeated elements of an array.\n",
    "\n",
    "# Ids of preheated\n",
    "x = np.array(preheated['pid'])\n",
    "# Ids of discharged, SNe heated gas\n",
    "y = np.array(hot_discharged['pid'])\n",
    "\n",
    "index = np.argsort(x)\n",
    "sorted_x = x[index] # Sorted list of ids pre discharged                        \n",
    "sorted_index = np.searchsorted(sorted_x, y)\n",
    "yindex = np.take(index, sorted_index, mode=\"clip\")\n",
    "mask = x[yindex] != y\n",
    "result = np.ma.array(yindex, mask=mask)\n",
    "hot_preheated = preheated.iloc[result[~result.mask].data] # Array of all iords   "
   ]
  },
  {
   "cell_type": "markdown",
   "id": "5f332d07",
   "metadata": {},
   "source": [
    "### Pynbody Pkg <a class=\"anchor\" id=\"pyn\"></a>\n",
    "\n",
    "Source Code: https://github.com/pynbody/pynbody\n",
    "\n",
    "User Manual: https://pynbody.github.io/pynbody/index.html"
   ]
  },
  {
   "cell_type": "code",
   "execution_count": null,
   "id": "823aab99",
   "metadata": {},
   "outputs": [],
   "source": [
    "#-----# For Halos #-----# (where f is a halo)\n",
    "\n",
    "f.gas.keys() # gives a list of attributes that can be called on particles. \n",
    "f.gas.derivable_keys() # gives a list of attributes of particles that can be calculated when called.(See pynbody sourcecode for more info.)\n",
    "\n",
    "f.gas['mass'].in_units('kg') # change the units of some quantity.\n"
   ]
  },
  {
   "cell_type": "markdown",
   "id": "1eed6b00",
   "metadata": {},
   "source": [
    "### Pandas Pkg <a class=\"anchor\" id=\"pan\"></a>"
   ]
  },
  {
   "cell_type": "code",
   "execution_count": null,
   "id": "357d54a5",
   "metadata": {},
   "outputs": [],
   "source": []
  }
 ],
 "metadata": {
  "kernelspec": {
   "display_name": "Python 3 (ipykernel)",
   "language": "python",
   "name": "python3"
  },
  "language_info": {
   "codemirror_mode": {
    "name": "ipython",
    "version": 3
   },
   "file_extension": ".py",
   "mimetype": "text/x-python",
   "name": "python",
   "nbconvert_exporter": "python",
   "pygments_lexer": "ipython3",
   "version": "3.8.11"
  }
 },
 "nbformat": 4,
 "nbformat_minor": 5
}
