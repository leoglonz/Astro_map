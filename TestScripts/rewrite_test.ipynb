{
 "cells": [
  {
   "cell_type": "code",
   "execution_count": 1,
   "id": "601568f9",
   "metadata": {},
   "outputs": [],
   "source": [
    "import numpy as np\n",
    "import pylab\n",
    "import pynbody\n",
    "import pynbody.plot.sph as sph\n",
    "import matplotlib.pyplot as plt\n",
    "import matplotlib.ticker as ticker\n",
    "import pandas as pd\n",
    "\n",
    "import warnings\n",
    "warnings.filterwarnings(\"ignore\")\n",
    "\n",
    "# from analysis_mac import * \n",
    "from analysis import *"
   ]
  },
  {
   "cell_type": "code",
   "execution_count": 2,
   "id": "f37d2d31",
   "metadata": {},
   "outputs": [
    {
     "name": "stdout",
     "output_type": "stream",
     "text": [
      "19 Available Keys: h148_13 h148_278 h148_28 h148_283 h148_329 h148_37 h148_45 h148_68 h148_80 h229_20 h229_22 h229_23 h229_27 h229_55 h242_24 h242_41 h242_80 h329_137 h329_33\n"
     ]
    }
   ],
   "source": [
    "path = '/home/lonzaric/astro_research/Stellar_Feedback_Code/SNeData/discharged_particles.hdf5'\n",
    "with pd.HDFStore(path) as hdf:\n",
    "    keys = np.array([h[1:] for h in hdf.keys()])\n",
    "\n",
    "# listing dwarf galaxies of simulations that are viable for study (gaseous, satellite, etc).\n",
    "print(len(keys), 'Available Keys:', *keys)"
   ]
  },
  {
   "cell_type": "code",
   "execution_count": 45,
   "id": "2bfe468d",
   "metadata": {},
   "outputs": [],
   "source": [
    "particles = read_tracked_particles('h148',80)\n",
    "timesteps = read_timesteps('h148')\n",
    "ts = timesteps[timesteps.z0haloid==80]\n",
    "ts = ts.rename({'mass':'sat_Mvir'}, axis=1)\n",
    "ts = ts[['t', 'sat_Mvir']]\n",
    "ts['sat_Mvir'] = ts['sat_Mvir'].astype('float')\n",
    "\n",
    "particles = pd.merge_asof(particles, ts.sort_values('t'), left_on='time', right_on='t', direction='nearest', tolerance=1)"
   ]
  },
  {
   "cell_type": "code",
   "execution_count": 47,
   "id": "40eac967",
   "metadata": {},
   "outputs": [
    {
     "data": {
      "text/plain": [
       "dtype('float64')"
      ]
     },
     "execution_count": 47,
     "metadata": {},
     "output_type": "execute_result"
    }
   ],
   "source": [
    "particles.sat_Mvir.dtype"
   ]
  },
  {
   "cell_type": "code",
   "execution_count": 44,
   "id": "ab6202ff",
   "metadata": {},
   "outputs": [
    {
     "data": {
      "text/plain": [
       "4.750209508400876"
      ]
     },
     "execution_count": 44,
     "metadata": {},
     "output_type": "execute_result"
    }
   ],
   "source": [
    "particles.time[0]"
   ]
  },
  {
   "cell_type": "code",
   "execution_count": 4,
   "id": "44b0de23",
   "metadata": {},
   "outputs": [
    {
     "data": {
      "text/plain": [
       "Index(['time', 'pid', 'rho', 'temp', 'mass', 'coolontime', 'r', 'r_per_Rvir',\n",
       "       'x', 'y', 'z', 'satRvir', 'a', 'vx', 'vy', 'vz', 'v', 'r_rel_host',\n",
       "       'r_rel_host_per_Rvir', 'x_rel_host', 'y_rel_host', 'z_rel_host',\n",
       "       'hostRvir', 'vx_rel_host', 'vy_rel_host', 'vz_rel_host', 'v_rel_host',\n",
       "       'sat_Xc', 'sat_Yc', 'sat_Zc', 'sat_vx', 'sat_vy', 'sat_vz', 'host_Xc',\n",
       "       'host_Yc', 'host_Zc', 'host_vx', 'host_vy', 'host_vz', 'sat_Mstar',\n",
       "       'sat_Mgas', 'host_Mstar', 'host_Mgas', 'sat_r_half', 'sat_r_gas',\n",
       "       'host_r_half', 'host_r_gas', 'in_sat', 'in_host', 'in_other_sat',\n",
       "       'in_IGM', 'dt', 'r_gal', 'host_r_gal', 'sat_disk', 'sat_halo',\n",
       "       'host_disk', 'host_halo', 'other_sat', 'IGM', 't', 'sat_Mvir'],\n",
       "      dtype='object')"
      ]
     },
     "execution_count": 4,
     "metadata": {},
     "output_type": "execute_result"
    }
   ],
   "source": [
    "particles.keys()"
   ]
  },
  {
   "cell_type": "code",
   "execution_count": 14,
   "id": "369fe517",
   "metadata": {},
   "outputs": [
    {
     "data": {
      "text/plain": [
       "0         6725487989.902392\n",
       "1         6725487989.902392\n",
       "2         6725487989.902392\n",
       "3         6725487989.902392\n",
       "4         6725487989.902392\n",
       "                ...        \n",
       "174654    908553841.1543595\n",
       "174655    908553841.1543595\n",
       "174656    908553841.1543595\n",
       "174657    908553841.1543595\n",
       "174658    908553841.1543595\n",
       "Name: sat_Mvir, Length: 174659, dtype: object"
      ]
     },
     "execution_count": 14,
     "metadata": {},
     "output_type": "execute_result"
    }
   ],
   "source": [
    "particles.sat_Mvir"
   ]
  },
  {
   "cell_type": "code",
   "execution_count": null,
   "id": "0cd5bc75",
   "metadata": {},
   "outputs": [],
   "source": []
  },
  {
   "cell_type": "code",
   "execution_count": null,
   "id": "0d1aa1a1",
   "metadata": {},
   "outputs": [],
   "source": []
  }
 ],
 "metadata": {
  "kernelspec": {
   "display_name": "Python 3 (ipykernel)",
   "language": "python",
   "name": "python3"
  },
  "language_info": {
   "codemirror_mode": {
    "name": "ipython",
    "version": 3
   },
   "file_extension": ".py",
   "mimetype": "text/x-python",
   "name": "python",
   "nbconvert_exporter": "python",
   "pygments_lexer": "ipython3",
   "version": "3.8.11"
  }
 },
 "nbformat": 4,
 "nbformat_minor": 5
}
