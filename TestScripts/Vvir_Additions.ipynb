{
 "cells": [
  {
   "cell_type": "code",
   "execution_count": 1,
   "id": "bf806f41",
   "metadata": {},
   "outputs": [],
   "source": [
    "import numpy as np\n",
    "import pylab\n",
    "import pynbody\n",
    "import pynbody.plot.sph as sph\n",
    "import matplotlib.pyplot as plt\n",
    "import matplotlib.ticker as ticker\n",
    "import pandas as pd\n",
    "\n",
    "import warnings\n",
    "warnings.filterwarnings(\"ignore\")\n",
    "\n",
    "# from analysis_mac import * \n",
    "from analysis import *"
   ]
  },
  {
   "cell_type": "code",
   "execution_count": 2,
   "id": "ddbf7a03",
   "metadata": {},
   "outputs": [],
   "source": [
    "import matplotlib as mpl\n",
    "mpl.rcParams.update(mpl.rcParamsDefault)"
   ]
  },
  {
   "cell_type": "code",
   "execution_count": 3,
   "id": "52c46b7d",
   "metadata": {},
   "outputs": [
    {
     "name": "stdout",
     "output_type": "stream",
     "text": [
      "19 Available Keys: h148_13 h148_278 h148_28 h148_283 h148_329 h148_37 h148_45 h148_68 h148_80 h229_20 h229_22 h229_23 h229_27 h229_55 h242_24 h242_41 h242_80 h329_137 h329_33\n"
     ]
    }
   ],
   "source": [
    "# path = '~/Desktop/Stellar_Feedback_Code/SNeData/discharged_particles.hdf5'\n",
    "path = '/home/lonzaric/astro_research/Stellar_Feedback_Code/SNeData/discharged_particles.hdf5'\n",
    "with pd.HDFStore(path) as hdf:\n",
    "    keys = np.array([h[1:] for h in hdf.keys()])\n",
    "\n",
    "# listing dwarf galaxies of simulations that are viable for study (gaseous, satellite, etc).\n",
    "print(len(keys), 'Available Keys:', *keys)"
   ]
  },
  {
   "cell_type": "markdown",
   "id": "449f4aaa",
   "metadata": {},
   "source": [
    "### Comparing Radial Velocities ($v_{vir}$)<a class=\"anchor\" id=\"velocities\"></a>\n",
    "\n",
    "We first start scaling velocities according to $v_{eff} = v/v_{vir}$. Recall that the virial -- or circular -- velocity of a halo is defined by \n",
    "$$\n",
    "    v_{vir} \\equiv \\sqrt{ \\frac{G \\cdot M_{vir}}{ r_{vir} } }.\n",
    "$$\n",
    "Thus, we use the gravitational constant $G$ as found previously and the keys `sat_Mgas` (giving the mass contained within $R_{vir}$) and `satRvir` ($R_{vir}$ for the satellite) to compute the $v_{vir}$ for every gas particle's respective satellite."
   ]
  },
  {
   "cell_type": "code",
   "execution_count": 4,
   "id": "05540487",
   "metadata": {},
   "outputs": [
    {
     "name": "stdout",
     "output_type": "stream",
     "text": [
      "h148_13 h148_278 h148_28 h148_283 h148_329 h148_37 h148_45 h148_68 h148_80 h229_20 h229_22 h229_23 h229_27 h229_55 h242_24 h242_41 h242_80 h329_137 h329_33\n",
      "> Returning (predischarged, discharged, accreted, preheated, heated) for all available satellites <\n"
     ]
    }
   ],
   "source": [
    "#ejected, cooled, expelled, accreted = read_all_ejected_expelled()\n",
    "predischarged, discharged, accreted, preheated, heated = read_discharged()"
   ]
  },
  {
   "cell_type": "code",
   "execution_count": 5,
   "id": "a98c1e35",
   "metadata": {},
   "outputs": [],
   "source": [
    "# creating weight attributes for plotting.\n",
    "predischarged['weight'] = predischarged['mass'] / predischarged['mass'].sum()\n",
    "\n",
    "discharged['weight'] = discharged['mass'] / discharged['mass'].sum()\n",
    "\n",
    "accreted['weight'] = accreted['mass'] / accreted['mass'].sum()\n",
    "\n",
    "preheated['weight'] = preheated['mass'] / preheated['mass'].sum()\n",
    "\n",
    "heated['weight'] = heated['mass'] / heated['mass'].sum()"
   ]
  },
  {
   "cell_type": "code",
   "execution_count": 6,
   "id": "99b83e15",
   "metadata": {},
   "outputs": [],
   "source": [
    "# grav constant in units of kpc**3 Msol**-1 yr**-2.\n",
    "G = 4.53943e-24\n",
    "\n",
    "\n",
    "# compiling virial velocities for each particle's respective satellite.\n",
    "pre_vvir = np.sqrt(G * predischarged.sat_Mgas / predischarged.satRvir)\n",
    "all_vvir = np.sqrt(G * discharged.sat_Mgas / discharged.satRvir)\n",
    "acc_vvir = np.sqrt(G * accreted.sat_Mgas / accreted.satRvir)\n",
    "hpre_vvir = np.sqrt(G * preheated.sat_Mgas / preheated.satRvir)\n",
    "hot_vvir = np.sqrt(G * heated.sat_Mgas / heated.satRvir)\n",
    "\n",
    "\n",
    "# creating callable key for v/vvir ratio.\n",
    "predischarged['v_per_Vvir'] = predischarged.v / pre_vvir\n",
    "\n",
    "discharged['v_per_Vvir'] = discharged.v / all_vvir\n",
    "\n",
    "accreted['v_per_Vvir'] = accreted.v / acc_vvir\n",
    "\n",
    "preheated['v_per_Vvir'] = preheated.v / hpre_vvir\n",
    "\n",
    "heated['v_per_Vvir'] = heated.v / hot_vvir"
   ]
  },
  {
   "cell_type": "code",
   "execution_count": 7,
   "id": "d676917f",
   "metadata": {},
   "outputs": [
    {
     "data": {
      "text/plain": [
       "(2132660.0, 64.1044930365921)"
      ]
     },
     "execution_count": 7,
     "metadata": {},
     "output_type": "execute_result"
    }
   ],
   "source": [
    "predischarged.sat_Mgas.min(), predischarged.satRvir.max()"
   ]
  },
  {
   "cell_type": "code",
   "execution_count": 10,
   "id": "09e41dc2",
   "metadata": {},
   "outputs": [
    {
     "data": {
      "text/html": [
       "<div>\n",
       "<style scoped>\n",
       "    .dataframe tbody tr th:only-of-type {\n",
       "        vertical-align: middle;\n",
       "    }\n",
       "\n",
       "    .dataframe tbody tr th {\n",
       "        vertical-align: top;\n",
       "    }\n",
       "\n",
       "    .dataframe thead th {\n",
       "        text-align: right;\n",
       "    }\n",
       "</style>\n",
       "<table border=\"1\" class=\"dataframe\">\n",
       "  <thead>\n",
       "    <tr style=\"text-align: right;\">\n",
       "      <th></th>\n",
       "      <th>time</th>\n",
       "      <th>pid</th>\n",
       "      <th>rho</th>\n",
       "      <th>temp</th>\n",
       "      <th>mass</th>\n",
       "      <th>coolontime</th>\n",
       "      <th>r</th>\n",
       "      <th>r_per_Rvir</th>\n",
       "      <th>x</th>\n",
       "      <th>y</th>\n",
       "      <th>...</th>\n",
       "      <th>sat_halo</th>\n",
       "      <th>host_disk</th>\n",
       "      <th>host_halo</th>\n",
       "      <th>other_sat</th>\n",
       "      <th>IGM</th>\n",
       "      <th>angle</th>\n",
       "      <th>key</th>\n",
       "      <th>weight</th>\n",
       "      <th>Vvir</th>\n",
       "      <th>v_per_Vvir</th>\n",
       "    </tr>\n",
       "  </thead>\n",
       "  <tbody>\n",
       "    <tr>\n",
       "      <th>1</th>\n",
       "      <td>4.750210</td>\n",
       "      <td>5747543</td>\n",
       "      <td>0.045106</td>\n",
       "      <td>13465.089844</td>\n",
       "      <td>26511.959760</td>\n",
       "      <td>0.000000</td>\n",
       "      <td>9.197882</td>\n",
       "      <td>0.663830</td>\n",
       "      <td>-0.093562</td>\n",
       "      <td>-4.768703</td>\n",
       "      <td>...</td>\n",
       "      <td>False</td>\n",
       "      <td>False</td>\n",
       "      <td>True</td>\n",
       "      <td>False</td>\n",
       "      <td>False</td>\n",
       "      <td>41.999436</td>\n",
       "      <td>h148_329</td>\n",
       "      <td>0.000004</td>\n",
       "      <td>2.724726e-09</td>\n",
       "      <td>1.969798e+10</td>\n",
       "    </tr>\n",
       "    <tr>\n",
       "      <th>1</th>\n",
       "      <td>7.443837</td>\n",
       "      <td>2402591</td>\n",
       "      <td>0.044100</td>\n",
       "      <td>12302.725586</td>\n",
       "      <td>26710.192842</td>\n",
       "      <td>7.228866</td>\n",
       "      <td>0.880580</td>\n",
       "      <td>0.029780</td>\n",
       "      <td>0.274385</td>\n",
       "      <td>-0.157013</td>\n",
       "      <td>...</td>\n",
       "      <td>True</td>\n",
       "      <td>False</td>\n",
       "      <td>False</td>\n",
       "      <td>False</td>\n",
       "      <td>False</td>\n",
       "      <td>93.677429</td>\n",
       "      <td>h229_23</td>\n",
       "      <td>0.000004</td>\n",
       "      <td>2.177714e-09</td>\n",
       "      <td>2.963705e+09</td>\n",
       "    </tr>\n",
       "    <tr>\n",
       "      <th>1</th>\n",
       "      <td>4.211484</td>\n",
       "      <td>458999</td>\n",
       "      <td>0.000230</td>\n",
       "      <td>48353.031250</td>\n",
       "      <td>10783.224936</td>\n",
       "      <td>3.957396</td>\n",
       "      <td>9.863266</td>\n",
       "      <td>0.576181</td>\n",
       "      <td>0.675901</td>\n",
       "      <td>4.822513</td>\n",
       "      <td>...</td>\n",
       "      <td>False</td>\n",
       "      <td>False</td>\n",
       "      <td>False</td>\n",
       "      <td>False</td>\n",
       "      <td>True</td>\n",
       "      <td>15.247141</td>\n",
       "      <td>h329_137</td>\n",
       "      <td>0.000002</td>\n",
       "      <td>2.908209e-09</td>\n",
       "      <td>1.360173e+10</td>\n",
       "    </tr>\n",
       "    <tr>\n",
       "      <th>1</th>\n",
       "      <td>9.383249</td>\n",
       "      <td>3947193</td>\n",
       "      <td>0.003118</td>\n",
       "      <td>16081.027344</td>\n",
       "      <td>26561.359145</td>\n",
       "      <td>0.000000</td>\n",
       "      <td>2.593600</td>\n",
       "      <td>0.091925</td>\n",
       "      <td>1.631038</td>\n",
       "      <td>-1.653249</td>\n",
       "      <td>...</td>\n",
       "      <td>True</td>\n",
       "      <td>False</td>\n",
       "      <td>False</td>\n",
       "      <td>False</td>\n",
       "      <td>False</td>\n",
       "      <td>65.050155</td>\n",
       "      <td>h329_33</td>\n",
       "      <td>0.000004</td>\n",
       "      <td>1.120630e-09</td>\n",
       "      <td>1.374876e+10</td>\n",
       "    </tr>\n",
       "  </tbody>\n",
       "</table>\n",
       "<p>4 rows × 65 columns</p>\n",
       "</div>"
      ],
      "text/plain": [
       "       time      pid       rho          temp          mass  coolontime  \\\n",
       "1  4.750210  5747543  0.045106  13465.089844  26511.959760    0.000000   \n",
       "1  7.443837  2402591  0.044100  12302.725586  26710.192842    7.228866   \n",
       "1  4.211484   458999  0.000230  48353.031250  10783.224936    3.957396   \n",
       "1  9.383249  3947193  0.003118  16081.027344  26561.359145    0.000000   \n",
       "\n",
       "          r  r_per_Rvir         x         y  ...  sat_halo  host_disk  \\\n",
       "1  9.197882    0.663830 -0.093562 -4.768703  ...     False      False   \n",
       "1  0.880580    0.029780  0.274385 -0.157013  ...      True      False   \n",
       "1  9.863266    0.576181  0.675901  4.822513  ...     False      False   \n",
       "1  2.593600    0.091925  1.631038 -1.653249  ...      True      False   \n",
       "\n",
       "   host_halo  other_sat    IGM      angle       key    weight          Vvir  \\\n",
       "1       True      False  False  41.999436  h148_329  0.000004  2.724726e-09   \n",
       "1      False      False  False  93.677429   h229_23  0.000004  2.177714e-09   \n",
       "1      False      False   True  15.247141  h329_137  0.000002  2.908209e-09   \n",
       "1      False      False  False  65.050155   h329_33  0.000004  1.120630e-09   \n",
       "\n",
       "     v_per_Vvir  \n",
       "1  1.969798e+10  \n",
       "1  2.963705e+09  \n",
       "1  1.360173e+10  \n",
       "1  1.374876e+10  \n",
       "\n",
       "[4 rows x 65 columns]"
      ]
     },
     "execution_count": 10,
     "metadata": {},
     "output_type": "execute_result"
    }
   ],
   "source": [
    "discharged.loc[1]"
   ]
  },
  {
   "cell_type": "code",
   "execution_count": 9,
   "id": "b7a9d116",
   "metadata": {},
   "outputs": [
    {
     "data": {
      "text/plain": [
       "0       28366.376150\n",
       "0       29001.936444\n",
       "2       27134.726367\n",
       "4       26835.758536\n",
       "4       26965.973341\n",
       "            ...     \n",
       "4348    26610.570287\n",
       "4358    26755.941329\n",
       "4361    26557.801505\n",
       "4360    26557.970752\n",
       "4368    26645.695937\n",
       "Name: mass, Length: 241104, dtype: float64"
      ]
     },
     "execution_count": 9,
     "metadata": {},
     "output_type": "execute_result"
    }
   ],
   "source": [
    "discharged.mass"
   ]
  },
  {
   "cell_type": "code",
   "execution_count": 21,
   "id": "1e5fa699",
   "metadata": {},
   "outputs": [
    {
     "data": {
      "text/plain": [
       "(0.22234978666496374, inf)"
      ]
     },
     "execution_count": 21,
     "metadata": {},
     "output_type": "execute_result"
    }
   ],
   "source": [
    "discharged.v.min(), discharged.v_per_Vvir.max()"
   ]
  },
  {
   "cell_type": "code",
   "execution_count": 18,
   "id": "889e981d",
   "metadata": {},
   "outputs": [
    {
     "data": {
      "text/plain": [
       "226291343.8865955"
      ]
     },
     "execution_count": 18,
     "metadata": {},
     "output_type": "execute_result"
    }
   ],
   "source": [
    "0.22234978666496374/9.82581935508735e-10"
   ]
  },
  {
   "cell_type": "code",
   "execution_count": 12,
   "id": "2b19a1f8",
   "metadata": {},
   "outputs": [
    {
     "data": {
      "text/plain": [
       "2.6274210290172274e-06"
      ]
     },
     "execution_count": 12,
     "metadata": {},
     "output_type": "execute_result"
    }
   ],
   "source": [
    "h = heated.v_per_Vvir * 10**8\n",
    "\n",
    "heated.v_per_Vvir.max()"
   ]
  },
  {
   "cell_type": "code",
   "execution_count": 15,
   "id": "c511ef90",
   "metadata": {},
   "outputs": [
    {
     "data": {
      "text/plain": [
       "inf"
      ]
     },
     "execution_count": 15,
     "metadata": {},
     "output_type": "execute_result"
    }
   ],
   "source": [
    "v = discharged.v_per_Vvir * 10**8\n"
   ]
  },
  {
   "cell_type": "code",
   "execution_count": 10,
   "id": "c841612c",
   "metadata": {
    "scrolled": false
   },
   "outputs": [
    {
     "ename": "ValueError",
     "evalue": "autodetected range of [9.82581935508735e-10, inf] is not finite",
     "output_type": "error",
     "traceback": [
      "\u001b[0;31m---------------------------------------------------------------------------\u001b[0m",
      "\u001b[0;31mValueError\u001b[0m                                Traceback (most recent call last)",
      "\u001b[0;32m<ipython-input-10-9133df4b2a2c>\u001b[0m in \u001b[0;36m<module>\u001b[0;34m\u001b[0m\n\u001b[1;32m      8\u001b[0m \u001b[0max\u001b[0m\u001b[0;34m.\u001b[0m\u001b[0mplot\u001b[0m\u001b[0;34m(\u001b[0m\u001b[0mbincenters\u001b[0m\u001b[0;34m,\u001b[0m \u001b[0my1\u001b[0m\u001b[0;34m,\u001b[0m \u001b[0mlabel\u001b[0m\u001b[0;34m=\u001b[0m\u001b[0;34m'Heated'\u001b[0m\u001b[0;34m,\u001b[0m \u001b[0mc\u001b[0m\u001b[0;34m=\u001b[0m\u001b[0;34m'r'\u001b[0m\u001b[0;34m)\u001b[0m\u001b[0;34m\u001b[0m\u001b[0;34m\u001b[0m\u001b[0m\n\u001b[1;32m      9\u001b[0m \u001b[0;34m\u001b[0m\u001b[0m\n\u001b[0;32m---> 10\u001b[0;31m \u001b[0my1\u001b[0m\u001b[0;34m,\u001b[0m \u001b[0mx\u001b[0m \u001b[0;34m=\u001b[0m \u001b[0mnp\u001b[0m\u001b[0;34m.\u001b[0m\u001b[0mhistogram\u001b[0m\u001b[0;34m(\u001b[0m\u001b[0mdischarged\u001b[0m\u001b[0;34m.\u001b[0m\u001b[0mv_per_Vvir\u001b[0m\u001b[0;34m,\u001b[0m \u001b[0mbins\u001b[0m\u001b[0;34m=\u001b[0m\u001b[0mbins\u001b[0m\u001b[0;34m,\u001b[0m \u001b[0mweights\u001b[0m\u001b[0;34m=\u001b[0m\u001b[0mdischarged\u001b[0m\u001b[0;34m.\u001b[0m\u001b[0mweight\u001b[0m\u001b[0;34m)\u001b[0m\u001b[0;34m\u001b[0m\u001b[0;34m\u001b[0m\u001b[0m\n\u001b[0m\u001b[1;32m     11\u001b[0m \u001b[0mbincenters\u001b[0m \u001b[0;34m=\u001b[0m \u001b[0;36m0.5\u001b[0m\u001b[0;34m*\u001b[0m\u001b[0;34m(\u001b[0m\u001b[0mx\u001b[0m\u001b[0;34m[\u001b[0m\u001b[0;36m1\u001b[0m\u001b[0;34m:\u001b[0m\u001b[0;34m]\u001b[0m \u001b[0;34m+\u001b[0m \u001b[0mx\u001b[0m\u001b[0;34m[\u001b[0m\u001b[0;34m:\u001b[0m\u001b[0;34m-\u001b[0m\u001b[0;36m1\u001b[0m\u001b[0;34m]\u001b[0m\u001b[0;34m)\u001b[0m\u001b[0;34m\u001b[0m\u001b[0;34m\u001b[0m\u001b[0m\n\u001b[1;32m     12\u001b[0m \u001b[0max\u001b[0m\u001b[0;34m.\u001b[0m\u001b[0mplot\u001b[0m\u001b[0;34m(\u001b[0m\u001b[0mbincenters\u001b[0m\u001b[0;34m,\u001b[0m \u001b[0my1\u001b[0m\u001b[0;34m,\u001b[0m \u001b[0mlabel\u001b[0m\u001b[0;34m=\u001b[0m\u001b[0;34m'All Discharged'\u001b[0m\u001b[0;34m,\u001b[0m \u001b[0mc\u001b[0m\u001b[0;34m=\u001b[0m\u001b[0;34m'b'\u001b[0m\u001b[0;34m)\u001b[0m\u001b[0;34m\u001b[0m\u001b[0;34m\u001b[0m\u001b[0m\n",
      "\u001b[0;32m<__array_function__ internals>\u001b[0m in \u001b[0;36mhistogram\u001b[0;34m(*args, **kwargs)\u001b[0m\n",
      "\u001b[0;32m~/Documents/anaconda3/lib/python3.8/site-packages/numpy/lib/histograms.py\u001b[0m in \u001b[0;36mhistogram\u001b[0;34m(a, bins, range, normed, weights, density)\u001b[0m\n\u001b[1;32m    790\u001b[0m     \u001b[0ma\u001b[0m\u001b[0;34m,\u001b[0m \u001b[0mweights\u001b[0m \u001b[0;34m=\u001b[0m \u001b[0m_ravel_and_check_weights\u001b[0m\u001b[0;34m(\u001b[0m\u001b[0ma\u001b[0m\u001b[0;34m,\u001b[0m \u001b[0mweights\u001b[0m\u001b[0;34m)\u001b[0m\u001b[0;34m\u001b[0m\u001b[0;34m\u001b[0m\u001b[0m\n\u001b[1;32m    791\u001b[0m \u001b[0;34m\u001b[0m\u001b[0m\n\u001b[0;32m--> 792\u001b[0;31m     \u001b[0mbin_edges\u001b[0m\u001b[0;34m,\u001b[0m \u001b[0muniform_bins\u001b[0m \u001b[0;34m=\u001b[0m \u001b[0m_get_bin_edges\u001b[0m\u001b[0;34m(\u001b[0m\u001b[0ma\u001b[0m\u001b[0;34m,\u001b[0m \u001b[0mbins\u001b[0m\u001b[0;34m,\u001b[0m \u001b[0mrange\u001b[0m\u001b[0;34m,\u001b[0m \u001b[0mweights\u001b[0m\u001b[0;34m)\u001b[0m\u001b[0;34m\u001b[0m\u001b[0;34m\u001b[0m\u001b[0m\n\u001b[0m\u001b[1;32m    793\u001b[0m \u001b[0;34m\u001b[0m\u001b[0m\n\u001b[1;32m    794\u001b[0m     \u001b[0;31m# Histogram is an integer or a float array depending on the weights.\u001b[0m\u001b[0;34m\u001b[0m\u001b[0;34m\u001b[0m\u001b[0;34m\u001b[0m\u001b[0m\n",
      "\u001b[0;32m~/Documents/anaconda3/lib/python3.8/site-packages/numpy/lib/histograms.py\u001b[0m in \u001b[0;36m_get_bin_edges\u001b[0;34m(a, bins, range, weights)\u001b[0m\n\u001b[1;32m    424\u001b[0m             \u001b[0;32mraise\u001b[0m \u001b[0mValueError\u001b[0m\u001b[0;34m(\u001b[0m\u001b[0;34m'`bins` must be positive, when an integer'\u001b[0m\u001b[0;34m)\u001b[0m\u001b[0;34m\u001b[0m\u001b[0;34m\u001b[0m\u001b[0m\n\u001b[1;32m    425\u001b[0m \u001b[0;34m\u001b[0m\u001b[0m\n\u001b[0;32m--> 426\u001b[0;31m         \u001b[0mfirst_edge\u001b[0m\u001b[0;34m,\u001b[0m \u001b[0mlast_edge\u001b[0m \u001b[0;34m=\u001b[0m \u001b[0m_get_outer_edges\u001b[0m\u001b[0;34m(\u001b[0m\u001b[0ma\u001b[0m\u001b[0;34m,\u001b[0m \u001b[0mrange\u001b[0m\u001b[0;34m)\u001b[0m\u001b[0;34m\u001b[0m\u001b[0;34m\u001b[0m\u001b[0m\n\u001b[0m\u001b[1;32m    427\u001b[0m \u001b[0;34m\u001b[0m\u001b[0m\n\u001b[1;32m    428\u001b[0m     \u001b[0;32melif\u001b[0m \u001b[0mnp\u001b[0m\u001b[0;34m.\u001b[0m\u001b[0mndim\u001b[0m\u001b[0;34m(\u001b[0m\u001b[0mbins\u001b[0m\u001b[0;34m)\u001b[0m \u001b[0;34m==\u001b[0m \u001b[0;36m1\u001b[0m\u001b[0;34m:\u001b[0m\u001b[0;34m\u001b[0m\u001b[0;34m\u001b[0m\u001b[0m\n",
      "\u001b[0;32m~/Documents/anaconda3/lib/python3.8/site-packages/numpy/lib/histograms.py\u001b[0m in \u001b[0;36m_get_outer_edges\u001b[0;34m(a, range)\u001b[0m\n\u001b[1;32m    321\u001b[0m         \u001b[0mfirst_edge\u001b[0m\u001b[0;34m,\u001b[0m \u001b[0mlast_edge\u001b[0m \u001b[0;34m=\u001b[0m \u001b[0ma\u001b[0m\u001b[0;34m.\u001b[0m\u001b[0mmin\u001b[0m\u001b[0;34m(\u001b[0m\u001b[0;34m)\u001b[0m\u001b[0;34m,\u001b[0m \u001b[0ma\u001b[0m\u001b[0;34m.\u001b[0m\u001b[0mmax\u001b[0m\u001b[0;34m(\u001b[0m\u001b[0;34m)\u001b[0m\u001b[0;34m\u001b[0m\u001b[0;34m\u001b[0m\u001b[0m\n\u001b[1;32m    322\u001b[0m         \u001b[0;32mif\u001b[0m \u001b[0;32mnot\u001b[0m \u001b[0;34m(\u001b[0m\u001b[0mnp\u001b[0m\u001b[0;34m.\u001b[0m\u001b[0misfinite\u001b[0m\u001b[0;34m(\u001b[0m\u001b[0mfirst_edge\u001b[0m\u001b[0;34m)\u001b[0m \u001b[0;32mand\u001b[0m \u001b[0mnp\u001b[0m\u001b[0;34m.\u001b[0m\u001b[0misfinite\u001b[0m\u001b[0;34m(\u001b[0m\u001b[0mlast_edge\u001b[0m\u001b[0;34m)\u001b[0m\u001b[0;34m)\u001b[0m\u001b[0;34m:\u001b[0m\u001b[0;34m\u001b[0m\u001b[0;34m\u001b[0m\u001b[0m\n\u001b[0;32m--> 323\u001b[0;31m             raise ValueError(\n\u001b[0m\u001b[1;32m    324\u001b[0m                 \"autodetected range of [{}, {}] is not finite\".format(first_edge, last_edge))\n\u001b[1;32m    325\u001b[0m \u001b[0;34m\u001b[0m\u001b[0m\n",
      "\u001b[0;31mValueError\u001b[0m: autodetected range of [9.82581935508735e-10, inf] is not finite"
     ]
    }
   ],
   "source": [
    "##### plotting discharged vs. heated gas #####\n",
    "bins = 100\n",
    "fig, ax = plt.subplots(1,1,dpi=150, figsize=(3.5,2.5), constrained_layout=True) # change to dpi=300 for printout.\n",
    "\n",
    "\n",
    "y1, x = np.histogram(heated.v_per_Vvir, bins=bins, weights=heated.weight)\n",
    "bincenters = 0.5*(x[1:] + x[:-1])\n",
    "ax.plot(bincenters, y1, label='Heated', c='r')\n",
    "\n",
    "y1, x = np.histogram(discharged.v_per_Vvir, bins=bins, weights=discharged.weight)\n",
    "bincenters = 0.5*(x[1:] + x[:-1])\n",
    "ax.plot(bincenters, y1, label='All Discharged', c='b')\n",
    "\n",
    "\n",
    "# plot horizontal line for zero velocity.\n",
    "# plotrange = [0,0.33]\n",
    "# ax.plot([0,0],[0,0.3],linestyle='solid',color='black',zorder=-1)\n",
    "\n",
    "\n",
    "# labels, axis scaling, etc.\n",
    "ax.legend(frameon=False, fontsize='8')\n",
    "\n",
    "ax.set_title('Radial Velocities of Discharged and Hot Gas', fontsize='medium')\n",
    "ax.set_xlabel(r'Virial Velocity $(kpc/yr)$')\n",
    "ax.set_ylabel('Fraction Discharged Mass')\n",
    "# ax.set_xlim(-50,150)\n",
    "# ax.set_ylim(0,0.2)\n",
    "\n",
    "# ax.xaxis.set_minor_locator(mpl.ticker.MultipleLocator(0.05))\n",
    "# ax.yaxis.set_minor_locator(mpl.ticker.MultipleLocator(0.01))\n",
    " \n",
    "ax.ticklabel_format(axis=\"y\", style=\"plain\",scilimits=(0,0))\n",
    "ax.tick_params(direction='in',which='both',right=True,top=True)\n",
    "ax.grid(alpha=0.4, zorder=-1000)\n",
    "\n",
    "# plt.savefig('plots/theta_allsats_stacked.pdf')\n",
    "\n",
    "plt.show()"
   ]
  },
  {
   "cell_type": "code",
   "execution_count": null,
   "id": "f6c9e2c3",
   "metadata": {},
   "outputs": [],
   "source": []
  },
  {
   "cell_type": "code",
   "execution_count": null,
   "id": "6cfbc6af",
   "metadata": {},
   "outputs": [],
   "source": []
  }
 ],
 "metadata": {
  "kernelspec": {
   "display_name": "Python 3 (ipykernel)",
   "language": "python",
   "name": "python3"
  },
  "language_info": {
   "codemirror_mode": {
    "name": "ipython",
    "version": 3
   },
   "file_extension": ".py",
   "mimetype": "text/x-python",
   "name": "python",
   "nbconvert_exporter": "python",
   "pygments_lexer": "ipython3",
   "version": "3.8.11"
  }
 },
 "nbformat": 4,
 "nbformat_minor": 5
}
