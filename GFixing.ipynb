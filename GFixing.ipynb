{
 "cells": [
  {
   "cell_type": "code",
   "execution_count": 1,
   "id": "eb2fbb86",
   "metadata": {},
   "outputs": [],
   "source": [
    "import numpy as np\n",
    "import pylab\n",
    "import pynbody\n",
    "import pynbody.plot.sph as sph\n",
    "import matplotlib.pyplot as plt\n",
    "import matplotlib.ticker as ticker\n",
    "import pandas as pd\n",
    "\n",
    "import warnings\n",
    "warnings.filterwarnings(\"ignore\")\n",
    "\n",
    "from analysis import * "
   ]
  },
  {
   "cell_type": "code",
   "execution_count": 8,
   "id": "ca7c563c",
   "metadata": {},
   "outputs": [
    {
     "data": {
      "text/latex": [
       "$1.3271244 \\times 10^{11} \\; \\mathrm{\\frac{km^{3}}{M_{\\odot}\\,s^{2}}}$"
      ],
      "text/plain": [
       "<Quantity 1.3271244e+11 km3 / (s2 solMass)>"
      ]
     },
     "execution_count": 8,
     "metadata": {},
     "output_type": "execute_result"
    }
   ],
   "source": [
    "## Epic units package\n",
    "\n",
    "from astropy import units\n",
    "from astropy import constants as c\n",
    "\n",
    "c.G.to('km3 / (M_sun s2)')"
   ]
  },
  {
   "cell_type": "code",
   "execution_count": 3,
   "id": "2d41cef4",
   "metadata": {},
   "outputs": [
    {
     "name": "stdout",
     "output_type": "stream",
     "text": [
      "h148_13 h148_278 h148_28 h148_283 h148_329 h148_37 h148_45 h148_68 h148_80 h229_20 h229_22 h229_23 h229_27 h229_55 h242_24 h242_41 h242_80 h329_137 h329_33\n",
      "> Returning (predischarged, discharged, accreted, preheated, heated) for all available satellites <\n"
     ]
    }
   ],
   "source": [
    "predischarged, discharged, accreted, preheated, heated = read_discharged()"
   ]
  },
  {
   "cell_type": "code",
   "execution_count": 4,
   "id": "d94e3742",
   "metadata": {},
   "outputs": [],
   "source": [
    "G = c.G.to('km^3 / (M_sun s^2)')\n",
    "\n",
    "hubble =  0.6776942783267969\n",
    "# a = float(s.properties['a'])"
   ]
  },
  {
   "cell_type": "code",
   "execution_count": 16,
   "id": "603a50c2",
   "metadata": {},
   "outputs": [
    {
     "data": {
      "text/plain": [
       "190920    8.901671e-10\n",
       "246974    2.539664e-09\n",
       "132506    1.262582e-09\n",
       "161854    4.522019e-10\n",
       "190924    1.958880e-09\n",
       "              ...     \n",
       "39323     1.312192e-09\n",
       "21846     2.126764e-10\n",
       "13105     3.917179e-10\n",
       "34964     2.182532e-09\n",
       "17484     1.736459e-10\n",
       "Length: 241104, dtype: float64"
      ]
     },
     "execution_count": 16,
     "metadata": {},
     "output_type": "execute_result"
    }
   ],
   "source": [
    "(discharged.v)/(np.sqrt(2 * c.G.to('km^3 / (M_sun s^2)') * discharged.sat_Mvir / discharged.r))"
   ]
  },
  {
   "cell_type": "code",
   "execution_count": 5,
   "id": "9c7bb269",
   "metadata": {},
   "outputs": [],
   "source": [
    "# compiling escape velocities for each particle's respective satellite.\n",
    "pre_vesc = np.sqrt(2 * G * predischarged.sat_Mvir / predischarged.r)\n",
    "all_vesc = np.sqrt(2 * G * discharged.sat_Mvir / discharged.r)\n",
    "acc_vesc = np.sqrt(2 * G * accreted.sat_Mvir / accreted.r)\n",
    "hpre_vesc = np.sqrt(2 * G * preheated.sat_Mvir / preheated.r)\n",
    "hot_vesc = np.sqrt(2 * G * heated.sat_Mvir / heated.r)\n",
    "\n",
    "\n",
    "# creating callable key effective velocity.\n",
    "predischarged['v_per_Vesc'] = predischarged.v / pre_vesc\n",
    "\n",
    "discharged['v_per_Vesc'] = discharged.v / all_vesc\n",
    "\n",
    "accreted['v_per_Vesc'] = accreted.v / acc_vesc\n",
    "\n",
    "preheated['v_per_Vesc'] = preheated.v / hpre_vesc\n",
    "\n",
    "heated['v_per_Vesc'] = heated.v / hot_vesc"
   ]
  },
  {
   "cell_type": "code",
   "execution_count": 9,
   "id": "4aeadd46",
   "metadata": {},
   "outputs": [
    {
     "data": {
      "text/plain": [
       "190920    9.786175e+09\n",
       "246974    9.585598e+09\n",
       "132506    1.066215e+10\n",
       "161854    1.002284e+10\n",
       "190924    9.786175e+09\n",
       "              ...     \n",
       "39323     2.031549e+09\n",
       "21846     3.091517e+09\n",
       "13105     3.202585e+09\n",
       "34964     2.054089e+09\n",
       "17484     3.232682e+09\n",
       "Name: sat_Mvir, Length: 241104, dtype: float64"
      ]
     },
     "execution_count": 9,
     "metadata": {},
     "output_type": "execute_result"
    }
   ],
   "source": [
    "discharged.sat_Mvir"
   ]
  },
  {
   "cell_type": "code",
   "execution_count": 10,
   "id": "a3f27ad4",
   "metadata": {},
   "outputs": [
    {
     "data": {
      "text/plain": [
       "190920    17270300.0\n",
       "246974    10642800.0\n",
       "132506    27038200.0\n",
       "161854    19855200.0\n",
       "190924    17270300.0\n",
       "             ...    \n",
       "39323      7805360.0\n",
       "21846     41539900.0\n",
       "13105     56220400.0\n",
       "34964     11982000.0\n",
       "17484     59830800.0\n",
       "Name: sat_Mgas, Length: 241104, dtype: float64"
      ]
     },
     "execution_count": 10,
     "metadata": {},
     "output_type": "execute_result"
    }
   ],
   "source": [
    "discharged.sat_Mgas"
   ]
  },
  {
   "cell_type": "code",
   "execution_count": 6,
   "id": "be6ea6a1",
   "metadata": {},
   "outputs": [
    {
     "data": {
      "text/plain": [
       "2.1624436025578706e-07"
      ]
     },
     "execution_count": 6,
     "metadata": {},
     "output_type": "execute_result"
    }
   ],
   "source": [
    "discharged.v_per_Vesc.max()"
   ]
  },
  {
   "cell_type": "code",
   "execution_count": 7,
   "id": "247129b4",
   "metadata": {},
   "outputs": [
    {
     "data": {
      "text/plain": [
       "(190920    17.529505\n",
       " 246974    42.808649\n",
       " 132506    23.772241\n",
       " 161854    25.309921\n",
       " 190924    29.241632\n",
       "             ...    \n",
       " 39323     20.455569\n",
       " 21846      6.731386\n",
       " 13105     10.263718\n",
       " 34964     16.204014\n",
       " 17484      5.549001\n",
       " Name: v, Length: 241104, dtype: float64,\n",
       " 190920    1.969238e+10\n",
       " 246974    1.685603e+10\n",
       " 132506    1.882828e+10\n",
       " 161854    5.597040e+10\n",
       " 190924    1.492773e+10\n",
       "               ...     \n",
       " 39323     1.558886e+10\n",
       " 21846     3.165084e+10\n",
       " 13105     2.620181e+10\n",
       " 34964     7.424412e+09\n",
       " 17484     3.195584e+10\n",
       " Length: 241104, dtype: float64)"
      ]
     },
     "execution_count": 7,
     "metadata": {},
     "output_type": "execute_result"
    }
   ],
   "source": [
    "discharged.v, all_vesc"
   ]
  },
  {
   "cell_type": "code",
   "execution_count": null,
   "id": "082adec8",
   "metadata": {},
   "outputs": [],
   "source": []
  },
  {
   "cell_type": "code",
   "execution_count": null,
   "id": "29497956",
   "metadata": {},
   "outputs": [],
   "source": []
  },
  {
   "cell_type": "code",
   "execution_count": 9,
   "id": "d3c5c644",
   "metadata": {},
   "outputs": [],
   "source": [
    "# creating weight attributes for plotting.\n",
    "predischarged['weight'] = predischarged['mass'] / predischarged['mass'].sum()\n",
    "\n",
    "discharged['weight'] = discharged['mass'] / discharged['mass'].sum()\n",
    "\n",
    "accreted['weight'] = accreted['mass'] / accreted['mass'].sum()\n",
    "\n",
    "preheated['weight'] = preheated['mass'] / preheated['mass'].sum()\n",
    "\n",
    "heated['weight'] = heated['mass'] / heated['mass'].sum()"
   ]
  },
  {
   "cell_type": "code",
   "execution_count": 61,
   "id": "b6530e8b",
   "metadata": {},
   "outputs": [
    {
     "data": {
      "image/png": "[encoded data removed]",
      "text/plain": [
       "<Figure size 525x375 with 1 Axes>"
      ]
     },
     "metadata": {
      "needs_background": "light"
     },
     "output_type": "display_data"
    }
   ],
   "source": [
    "##### plotting all discharged vs. SNe-heated discharged gas #####\n",
    "bins = 75\n",
    "fig, ax = plt.subplots(1,1,dpi=150, figsize=(3.5,2.5), constrained_layout=True) # change to dpi=300 for printout.\n",
    "\n",
    "# all discharged.\n",
    "y1, x = np.histogram(discharged.v_per_Vesc, bins=bins, weights=discharged.weight)#, range=(0, 1))\n",
    "bincenters = 0.5*(x[1:] + x[:-1])\n",
    "ax.plot(bincenters, y1, label='All Discharged', c='royalblue')\n",
    "\n",
    "# sne-heated discharge.\n",
    "y1, x = np.histogram(heated.v_per_Vesc, bins=bins, weights=heated.weight, range=(0, 2.0e-8))\n",
    "bincenters = 0.5*(x[1:] + x[:-1])\n",
    "ax.plot(bincenters, y1, label='Heated', c='r')\n",
    "\n",
    "\n",
    "# labels, axis scaling, etc.\n",
    "ax.legend(frameon=False, fontsize='8')\n",
    "\n",
    "ax.set_title('Radial Velocities of Discharged and Hot Discharged Gas', fontsize='medium')\n",
    "ax.set_xlabel(r'$v/V_{esc}$')\n",
    "ax.set_ylabel('Fraction Discharged Mass')\n",
    "# ax.set_xlim(-50,150)\n",
    "# ax.set_ylim(0,0.2)\n",
    "\n",
    "ax.xaxis.set_minor_locator(mpl.ticker.MultipleLocator(0.1e10))\n",
    "ax.yaxis.set_minor_locator(mpl.ticker.MultipleLocator(0.01))\n",
    " \n",
    "ax.ticklabel_format(axis=\"y\", style=\"plain\",scilimits=(0,0))\n",
    "ax.tick_params(direction='in',which='both',right=True,top=True)\n",
    "ax.grid(alpha=0.4, zorder=-1000)\n",
    "\n",
    "plt.show()"
   ]
  },
  {
   "cell_type": "code",
   "execution_count": 62,
   "id": "76ceb8d4",
   "metadata": {},
   "outputs": [],
   "source": [
    "# compiling virial velocities for each particle's respective satellite.\n",
    "pre_vvir = np.sqrt(G * predischarged.sat_Mvir / predischarged.satRvir)\n",
    "all_vvir = np.sqrt(G * discharged.sat_Mvir / discharged.satRvir)\n",
    "acc_vvir = np.sqrt(G * accreted.sat_Mvir / accreted.satRvir)\n",
    "hpre_vvir = np.sqrt(G * preheated.sat_Mvir / preheated.satRvir)\n",
    "hot_vvir = np.sqrt(G * heated.sat_Mvir / heated.satRvir)\n",
    "\n",
    "\n",
    "# creating callable key for effective velocity.\n",
    "predischarged['v_per_Vvir'] = predischarged.v / pre_vvir\n",
    "\n",
    "discharged['v_per_Vvir'] = discharged.v / all_vvir\n",
    "\n",
    "accreted['v_per_Vvir'] = accreted.v / acc_vvir\n",
    "\n",
    "preheated['v_per_Vvir'] = preheated.v / hpre_vvir\n",
    "\n",
    "heated['v_per_Vvir'] = heated.v / hot_vvir"
   ]
  },
  {
   "cell_type": "code",
   "execution_count": 69,
   "id": "b235e489",
   "metadata": {},
   "outputs": [
    {
     "data": {
      "text/plain": [
       "1.679721956080866e-07"
      ]
     },
     "execution_count": 69,
     "metadata": {},
     "output_type": "execute_result"
    }
   ],
   "source": [
    "discharged.v_per_Vvir.max()"
   ]
  },
  {
   "cell_type": "code",
   "execution_count": 67,
   "id": "d726a86a",
   "metadata": {},
   "outputs": [
    {
     "data": {
      "image/png": "[encoded data removed]",
      "text/plain": [
       "<Figure size 525x375 with 1 Axes>"
      ]
     },
     "metadata": {
      "needs_background": "light"
     },
     "output_type": "display_data"
    }
   ],
   "source": [
    "##### plotting all discharged vs. SNe-heated discharged gas #####\n",
    "bins = 75\n",
    "fig, ax = plt.subplots(1,1,dpi=150, figsize=(3.5,2.5), constrained_layout=True) # change to dpi=300 for printout.\n",
    "\n",
    "# all discharged.\n",
    "y1, x = np.histogram(discharged.v_per_Vvir, bins=bins, weights=discharged.weight, range=(0,0.1))\n",
    "bincenters = 0.5*(x[1:] + x[:-1])\n",
    "ax.plot(bincenters, y1, label='All Discharged', c='royalblue')\n",
    "\n",
    "# sne-heated discharge.\n",
    "y1, x = np.histogram(heated.v_per_Vvir, bins=bins, weights=heated.weight, range=(0, 0.1))\n",
    "bincenters = 0.5*(x[1:] + x[:-1])\n",
    "ax.plot(bincenters, y1, label='Heated', c='r')\n",
    "\n",
    "\n",
    "# labels, axis scaling, etc.\n",
    "ax.legend(frameon=False, fontsize='8')\n",
    "\n",
    "ax.set_title('Radial Velocities of Discharged and Hot Discharged Gas', fontsize='medium')\n",
    "ax.set_xlabel(r'$v/V_{vir}$')\n",
    "ax.set_ylabel('Fraction Discharged Mass')\n",
    "# ax.set_xlim(-50,150)\n",
    "# ax.set_ylim(0,0.2)\n",
    "\n",
    "ax.xaxis.set_minor_locator(mpl.ticker.MultipleLocator(0.1e10))\n",
    "ax.yaxis.set_minor_locator(mpl.ticker.MultipleLocator(0.01))\n",
    " \n",
    "ax.ticklabel_format(axis=\"y\", style=\"plain\",scilimits=(0,0))\n",
    "ax.tick_params(direction='in',which='both',right=True,top=True)\n",
    "ax.grid(alpha=0.4, zorder=-1000)\n",
    "\n",
    "# plt.savefig('plots/theta_allsats_stacked.pdf')\n",
    "\n",
    "plt.show()"
   ]
  },
  {
   "cell_type": "code",
   "execution_count": null,
   "id": "43d71cf6",
   "metadata": {},
   "outputs": [],
   "source": []
  }
 ],
 "metadata": {
  "kernelspec": {
   "display_name": "Python 3 (ipykernel)",
   "language": "python",
   "name": "python3"
  },
  "language_info": {
   "codemirror_mode": {
    "name": "ipython",
    "version": 3
   },
   "file_extension": ".py",
   "mimetype": "text/x-python",
   "name": "python",
   "nbconvert_exporter": "python",
   "pygments_lexer": "ipython3",
   "version": "3.8.11"
  }
 },
 "nbformat": 4,
 "nbformat_minor": 5
}
