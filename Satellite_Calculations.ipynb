{
 "cells": [
  {
   "cell_type": "markdown",
   "id": "6b438979",
   "metadata": {},
   "source": [
    "### Computing and Binning Radial Distances between Sat-Host (PAI), and Time of Infall:\n",
    "\n",
    "---\n"
   ]
  },
  {
   "cell_type": "code",
   "execution_count": null,
   "id": "43b3a478",
   "metadata": {},
   "outputs": [],
   "source": [
    "import numpy as np\n",
    "import pandas as pd\n",
    "\n",
    "# from compiler import *\n",
    "# from analysis import *"
   ]
  },
  {
   "cell_type": "code",
   "execution_count": null,
   "id": "d3ff4f3f",
   "metadata": {},
   "outputs": [],
   "source": [
    "### creating dataframe of gas from all selected satellites ###\n",
    "\n",
    "# pulling data on all tracked gas in selected satellites into df.\n",
    "allGas = pd.DataFrame()   \n",
    "keys = ['h148_12','h148_27','h148_34','h148_38','h148_55','h148_65','h148_249',\n",
    "        'h148_251','h148_282','h229_14','h229_18','h229_20','h229_22',\n",
    "        'h229_49','h242_21','h242_38','h242_69','h329_29','h329_117']\n",
    "\n",
    "for i,key in enumerate(keys):\n",
    "    i += 1\n",
    "    sim = key[:4]\n",
    "    haloid = int(key[5:])\n",
    "    allGas1 = pd.read_hdf(f'{rootPath}Stellar_Feedback_Code/SNeData/all_particles.hdf5',\n",
    "                          key=key)\n",
    "    allGas1['key'] = key\n",
    "    allGas = pd.concat([allGas, allGas1])"
   ]
  },
  {
   "cell_type": "code",
   "execution_count": null,
   "id": "fb26b5ac",
   "metadata": {},
   "outputs": [],
   "source": [
    "### calculation for point at infall ###\n",
    "\n",
    "@pynbody.derived_array\n",
    "def pai(gas):\n",
    "    return np.array(np.sqrt((gas['host_Xc'] - gas['sat_Xc'])**2 \n",
    "                            + (gas['host_Yc'] - gas['sat_Yc'])**2 \n",
    "                            + (gas['host_Zc'] - gas['sat_Zc'])**2 \n",
    "                           )/ gas['hostRvir']\n",
    "                   )\n",
    "\n",
    "# key for points at infall:\n",
    "allGas['pai'] = pai(allGas)"
   ]
  },
  {
   "cell_type": "code",
   "execution_count": null,
   "id": "4b2b910d",
   "metadata": {},
   "outputs": [],
   "source": [
    "### This is the code that generates the hdf5 file ###\n",
    "\n",
    "# times at infall sats:\n",
    "allGas['host'] = [x[:4] for x in np.array(allGas['key'])]\n",
    "allGas['sat'] = [x[5:] for x in np.array(allGas['key'])]\n",
    "\n",
    "keys = get_keys()\n",
    "\n",
    "for key in tqdm.tqdm(keys):\n",
    "    gas = allGas[allGas.key==key]\n",
    "    \n",
    "    time = np.unique(gas.time)\n",
    "    t_start = [gas.time.min()] * len(time)\n",
    "    t_infall = [gas[gas.pai<1].max().time] * len(time)\n",
    "    key1 = [key] * len(time)\n",
    "    \n",
    "    # collecting into dataframe.\n",
    "    satdat = pd.DataFrame(np.array([key1, time, np.unique(pai(gas)), t_start, \n",
    "                                    t_infall]).T,\n",
    "                          columns=['key', 'time', 'pai', 't_start', 't_infall'])\n",
    "    \n",
    "    # saving to hdf.\n",
    "    filepath = f'{rootPath}Stellar_Feedback_Code/SNeData/satdat.hdf5'\n",
    "    satdat.to_hdf(filepath, key=key)"
   ]
  },
  {
   "cell_type": "markdown",
   "id": "c873d568",
   "metadata": {},
   "source": [
    "## Use this cell in your notebook to import satellite data:"
   ]
  },
  {
   "cell_type": "code",
   "execution_count": null,
   "id": "3ed26056",
   "metadata": {},
   "outputs": [],
   "source": [
    "keys = ['h148_12','h148_27','h148_34','h148_38','h148_55','h148_65','h148_249',\n",
    "        'h148_251','h148_282','h229_14','h229_18','h229_20','h229_22',\n",
    "        'h229_49','h242_21','h242_38','h242_69','h329_29','h329_117']\n",
    "\n",
    "import tqdm as tqdm\n",
    "\n",
    "for key in tqdm.tqdm(keys):\n",
    "    sim = key[:4]\n",
    "    haloid = int(key[5:])\n",
    "    satdat1 = pd.read_hdf(f'{path}', key=key) # put the path to the hdf5 here\n",
    "    satdat1['key'] = key\n",
    "    satdat = pd.concat([satdat, satdat1])\n",
    "\n",
    "satdat.reset_index(drop=True) # to reset dataframe indices."
   ]
  }
 ],
 "metadata": {
  "kernelspec": {
   "display_name": "Python 3 (ipykernel)",
   "language": "python",
   "name": "python3"
  },
  "language_info": {
   "codemirror_mode": {
    "name": "ipython",
    "version": 3
   },
   "file_extension": ".py",
   "mimetype": "text/x-python",
   "name": "python",
   "nbconvert_exporter": "python",
   "pygments_lexer": "ipython3",
   "version": "3.8.12"
  }
 },
 "nbformat": 4,
 "nbformat_minor": 5
}
