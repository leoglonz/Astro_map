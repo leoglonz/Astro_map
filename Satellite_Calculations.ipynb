{
 "cells": [
  {
   "cell_type": "markdown",
   "id": "6b438979",
   "metadata": {},
   "source": [
    "### Computing and Binning Radial Distances between Sat-Host (PAI), and Time of Infall:\n",
    "\n",
    "---\n"
   ]
  },
  {
   "cell_type": "code",
   "execution_count": 1,
   "id": "43b3a478",
   "metadata": {},
   "outputs": [],
   "source": [
    "import numpy as np\n",
    "import pandas as pd\n",
    "from base import *\n",
    "import tqdm as tqdm\n",
    "\n",
    "from scipy import interpolate"
   ]
  },
  {
   "cell_type": "code",
   "execution_count": 2,
   "id": "d3ff4f3f",
   "metadata": {},
   "outputs": [],
   "source": [
    "# pulling data on all tracked gas of selected satellites into df.\n",
    "allGas = pd.DataFrame()\n",
    "\n",
    "keys = ['h148_12','h148_27','h148_34','h148_38','h148_55','h148_65','h148_249',\n",
    "        'h148_251','h148_282','h229_14','h229_18','h229_20','h229_22',\n",
    "        'h229_49','h242_21','h242_38','h242_69','h329_29','h329_117']\n",
    "\n",
    "for i,key in enumerate(keys):\n",
    "    i += 1\n",
    "    allGas1 = pd.read_hdf(f'{rootPath}Stellar_Feedback_Code/SNeData/all_particles.hdf5',\n",
    "                          key=key)\n",
    "    allGas1['key'] = key\n",
    "    allGas = pd.concat([allGas, allGas1])"
   ]
  },
  {
   "cell_type": "code",
   "execution_count": 3,
   "id": "fb26b5ac",
   "metadata": {},
   "outputs": [],
   "source": [
    "### point at infall calculation ###\n",
    "@pynbody.derived_array\n",
    "def pai(gas):\n",
    "    return np.array(np.sqrt((gas['host_Xc'] - gas['sat_Xc'])**2 \n",
    "                            + (gas['host_Yc'] - gas['sat_Yc'])**2 \n",
    "                            + (gas['host_Zc'] - gas['sat_Zc'])**2 \n",
    "                           )/ gas['hostRvir']\n",
    "                   )\n",
    "\n",
    "### interpolation for approximating time of infall ###\n",
    "@pynbody.derived_array\n",
    "def infall(gas, key):\n",
    "    gas1 = gas[gas.key==key]  # will get errors if not using array of all gas.\n",
    "    gas1 = gas1.sort_values(by=['time'])\n",
    "    \n",
    "    pai1 = np.unique(gas1.pai)\n",
    "    time = np.unique(gas1.time)\n",
    "\n",
    "    f = interpolate.interp1d(pai1, time, fill_value='extrapolate')\n",
    "    \n",
    "    return f(1)  # finding time when at 1 Rvir of host. "
   ]
  },
  {
   "cell_type": "markdown",
   "id": "58bf1bb2",
   "metadata": {},
   "source": [
    "#### Generating HDF5 of satellite data:"
   ]
  },
  {
   "cell_type": "code",
   "execution_count": 5,
   "id": "4b2b910d",
   "metadata": {},
   "outputs": [
    {
     "name": "stderr",
     "output_type": "stream",
     "text": [
      "100%|███████████████████████████████████████████| 19/19 [00:05<00:00,  3.55it/s]\n"
     ]
    }
   ],
   "source": [
    "from pickle_prot import pickle_protocol\n",
    "\n",
    "allGas['host'] = [x[:4] for x in np.array(allGas['key'])]\n",
    "allGas['sat'] = [x[5:] for x in np.array(allGas['key'])]\n",
    "allGas['pai'] = pai(allGas)\n",
    "\n",
    "keys = get_keys()\n",
    "\n",
    "for key in tqdm.tqdm(keys):\n",
    "    gas = allGas[allGas.key==key]\n",
    "    \n",
    "    time, uniq_ind = np.unique(gas.time, return_index = True)\n",
    "    gas = gas.iloc[uniq_ind]\n",
    "    \n",
    "    t_start = [gas.time.max()] * len(time)\n",
    "    t_infall = [infall(gas, key)] * len(time)\n",
    "    key1 = [key] * len(time)\n",
    "    \n",
    "    satdat = pd.DataFrame(np.array([key1, time, gas.pai, t_start,\n",
    "                                    t_infall]).T,\n",
    "                          columns=['key', 'time', 'pai', 't_start', 't_infall'])\n",
    "    \n",
    "    # saving to hdf.\n",
    "    filepath = f'{rootPath}Stellar_Feedback_Code/SNeData/satdat.hdf5'\n",
    "    with pickle_protocol(4):\n",
    "        satdat.to_hdf(filepath, key=key)"
   ]
  },
  {
   "cell_type": "markdown",
   "id": "c873d568",
   "metadata": {},
   "source": [
    "## Use this cell in your notebook to import satellite data:"
   ]
  },
  {
   "cell_type": "code",
   "execution_count": 4,
   "id": "3ed26056",
   "metadata": {},
   "outputs": [],
   "source": [
    "keys = ['h148_12','h148_27','h148_34','h148_38','h148_55','h148_65','h148_249',\n",
    "        'h148_251','h148_282','h229_14','h229_18','h229_20','h229_22',\n",
    "        'h229_49','h242_21','h242_38','h242_69','h329_29','h329_117']\n",
    "\n",
    "satdat = pd.DataFrame([])\n",
    "\n",
    "for key in keys:\n",
    "    satdat1 = pd.read_hdf(f'{rootPath}Stellar_Feedback_Code/SNeData/satdat.hdf5',\n",
    "                          key=key)\n",
    "    satdat1 = satdat1.astype({'time': float, 'pai': float, 't_start': float,\n",
    "                              't_infall': float})\n",
    "    satdat1['key'] = key\n",
    "    satdat = pd.concat([satdat, satdat1])"
   ]
  },
  {
   "cell_type": "code",
   "execution_count": 5,
   "id": "00334136",
   "metadata": {},
   "outputs": [
    {
     "data": {
      "text/html": [
       "<div>\n",
       "<style scoped>\n",
       "    .dataframe tbody tr th:only-of-type {\n",
       "        vertical-align: middle;\n",
       "    }\n",
       "\n",
       "    .dataframe tbody tr th {\n",
       "        vertical-align: top;\n",
       "    }\n",
       "\n",
       "    .dataframe thead th {\n",
       "        text-align: right;\n",
       "    }\n",
       "</style>\n",
       "<table border=\"1\" class=\"dataframe\">\n",
       "  <thead>\n",
       "    <tr style=\"text-align: right;\">\n",
       "      <th></th>\n",
       "      <th>key</th>\n",
       "      <th>time</th>\n",
       "      <th>pai</th>\n",
       "      <th>t_start</th>\n",
       "      <th>t_infall</th>\n",
       "    </tr>\n",
       "  </thead>\n",
       "  <tbody>\n",
       "    <tr>\n",
       "      <th>0</th>\n",
       "      <td>h148_12</td>\n",
       "      <td>7.336092</td>\n",
       "      <td>1.700105</td>\n",
       "      <td>13.800797</td>\n",
       "      <td>8.529619</td>\n",
       "    </tr>\n",
       "    <tr>\n",
       "      <th>1</th>\n",
       "      <td>h148_12</td>\n",
       "      <td>7.767072</td>\n",
       "      <td>1.191512</td>\n",
       "      <td>13.800797</td>\n",
       "      <td>8.529619</td>\n",
       "    </tr>\n",
       "    <tr>\n",
       "      <th>2</th>\n",
       "      <td>h148_12</td>\n",
       "      <td>8.198053</td>\n",
       "      <td>0.689575</td>\n",
       "      <td>13.800797</td>\n",
       "      <td>8.529619</td>\n",
       "    </tr>\n",
       "    <tr>\n",
       "      <th>3</th>\n",
       "      <td>h148_12</td>\n",
       "      <td>8.608831</td>\n",
       "      <td>0.527208</td>\n",
       "      <td>13.800797</td>\n",
       "      <td>8.529619</td>\n",
       "    </tr>\n",
       "    <tr>\n",
       "      <th>4</th>\n",
       "      <td>h148_12</td>\n",
       "      <td>9.060013</td>\n",
       "      <td>0.755363</td>\n",
       "      <td>13.800797</td>\n",
       "      <td>8.529619</td>\n",
       "    </tr>\n",
       "    <tr>\n",
       "      <th>...</th>\n",
       "      <td>...</td>\n",
       "      <td>...</td>\n",
       "      <td>...</td>\n",
       "      <td>...</td>\n",
       "      <td>...</td>\n",
       "    </tr>\n",
       "    <tr>\n",
       "      <th>33</th>\n",
       "      <td>h329_117</td>\n",
       "      <td>12.615601</td>\n",
       "      <td>1.264641</td>\n",
       "      <td>13.800797</td>\n",
       "      <td>7.071061</td>\n",
       "    </tr>\n",
       "    <tr>\n",
       "      <th>34</th>\n",
       "      <td>h329_117</td>\n",
       "      <td>12.938837</td>\n",
       "      <td>1.132123</td>\n",
       "      <td>13.800797</td>\n",
       "      <td>7.071061</td>\n",
       "    </tr>\n",
       "    <tr>\n",
       "      <th>35</th>\n",
       "      <td>h329_117</td>\n",
       "      <td>13.262072</td>\n",
       "      <td>0.963317</td>\n",
       "      <td>13.800797</td>\n",
       "      <td>7.071061</td>\n",
       "    </tr>\n",
       "    <tr>\n",
       "      <th>36</th>\n",
       "      <td>h329_117</td>\n",
       "      <td>13.585307</td>\n",
       "      <td>0.762873</td>\n",
       "      <td>13.800797</td>\n",
       "      <td>7.071061</td>\n",
       "    </tr>\n",
       "    <tr>\n",
       "      <th>37</th>\n",
       "      <td>h329_117</td>\n",
       "      <td>13.800797</td>\n",
       "      <td>0.603869</td>\n",
       "      <td>13.800797</td>\n",
       "      <td>7.071061</td>\n",
       "    </tr>\n",
       "  </tbody>\n",
       "</table>\n",
       "<p>463 rows × 5 columns</p>\n",
       "</div>"
      ],
      "text/plain": [
       "         key       time       pai    t_start  t_infall\n",
       "0    h148_12   7.336092  1.700105  13.800797  8.529619\n",
       "1    h148_12   7.767072  1.191512  13.800797  8.529619\n",
       "2    h148_12   8.198053  0.689575  13.800797  8.529619\n",
       "3    h148_12   8.608831  0.527208  13.800797  8.529619\n",
       "4    h148_12   9.060013  0.755363  13.800797  8.529619\n",
       "..       ...        ...       ...        ...       ...\n",
       "33  h329_117  12.615601  1.264641  13.800797  7.071061\n",
       "34  h329_117  12.938837  1.132123  13.800797  7.071061\n",
       "35  h329_117  13.262072  0.963317  13.800797  7.071061\n",
       "36  h329_117  13.585307  0.762873  13.800797  7.071061\n",
       "37  h329_117  13.800797  0.603869  13.800797  7.071061\n",
       "\n",
       "[463 rows x 5 columns]"
      ]
     },
     "execution_count": 5,
     "metadata": {},
     "output_type": "execute_result"
    }
   ],
   "source": [
    "satdat"
   ]
  },
  {
   "cell_type": "code",
   "execution_count": 133,
   "id": "4477a930",
   "metadata": {},
   "outputs": [],
   "source": [
    "dat = satdat[satdat.key=='h242_69']\n",
    "# dat[['time','pai']]"
   ]
  },
  {
   "cell_type": "code",
   "execution_count": 134,
   "id": "f944c13f",
   "metadata": {},
   "outputs": [
    {
     "data": {
      "image/png": "[encoded data removed]",
      "text/plain": [
       "<Figure size 640x480 with 1 Axes>"
      ]
     },
     "metadata": {},
     "output_type": "display_data"
    }
   ],
   "source": [
    "plt.plot(dat.time, dat.pai)\n",
    "plt.show()"
   ]
  },
  {
   "cell_type": "code",
   "execution_count": null,
   "id": "c8fb8dcb",
   "metadata": {},
   "outputs": [],
   "source": []
  },
  {
   "cell_type": "code",
   "execution_count": null,
   "id": "d4183bdf",
   "metadata": {},
   "outputs": [],
   "source": []
  }
 ],
 "metadata": {
  "kernelspec": {
   "display_name": "Python 3 (ipykernel)",
   "language": "python",
   "name": "python3"
  },
  "language_info": {
   "codemirror_mode": {
    "name": "ipython",
    "version": 3
   },
   "file_extension": ".py",
   "mimetype": "text/x-python",
   "name": "python",
   "nbconvert_exporter": "python",
   "pygments_lexer": "ipython3",
   "version": "3.8.12"
  }
 },
 "nbformat": 4,
 "nbformat_minor": 5
}
